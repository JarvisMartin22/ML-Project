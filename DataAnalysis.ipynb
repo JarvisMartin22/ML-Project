{
 "cells": [
  {
   "cell_type": "code",
   "execution_count": 2,
   "metadata": {},
   "outputs": [
    {
     "name": "stderr",
     "output_type": "stream",
     "text": [
      "Using TensorFlow backend.\n"
     ]
    }
   ],
   "source": [
    "import pandas as pd\n",
    "import numpy as np\n",
    "import matplotlib.pyplot as plt\n",
    "from matplotlib import cm\n",
    "import seaborn as sns\n",
    "import itertools\n",
    "\n",
    "from sqlalchemy import create_engine\n",
    "import requests\n",
    "from bs4 import BeautifulSoup\n",
    "\n",
    "import calendar\n",
    "from datetime import datetime, date, timedelta\n",
    "\n",
    "from sklearn.preprocessing import StandardScaler\n",
    "from sklearn.decomposition import PCA\n",
    "from sklearn.feature_extraction.text import CountVectorizer, TfidfVectorizer\n",
    "from textblob import TextBlob, Word\n",
    "from sklearn.base import BaseEstimator, TransformerMixin\n",
    "\n",
    "from sklearn.model_selection import train_test_split, GridSearchCV, cross_val_score\n",
    "from sklearn.metrics import accuracy_score, confusion_matrix\n",
    "\n",
    "from sklearn.linear_model import LogisticRegression\n",
    "from sklearn.ensemble import RandomForestClassifier\n",
    "from sklearn.naive_bayes import MultinomialNB\n",
    "\n",
    "from keras.models import Sequential\n",
    "from keras.layers import Dense"
   ]
  },
  {
   "cell_type": "code",
   "execution_count": 3,
   "metadata": {},
   "outputs": [],
   "source": [
    "import warnings\n",
    "warnings.filterwarnings('ignore')"
   ]
  },
  {
   "cell_type": "code",
   "execution_count": 4,
   "metadata": {},
   "outputs": [],
   "source": [
    "# Connecting to storms Database With SQLalchemy\n",
    "engine_local = create_engine('postgresql://localhost:5432/storms')"
   ]
  },
  {
   "cell_type": "code",
   "execution_count": 5,
   "metadata": {},
   "outputs": [
    {
     "data": {
      "text/html": [
       "<div>\n",
       "<style scoped>\n",
       "    .dataframe tbody tr th:only-of-type {\n",
       "        vertical-align: middle;\n",
       "    }\n",
       "\n",
       "    .dataframe tbody tr th {\n",
       "        vertical-align: top;\n",
       "    }\n",
       "\n",
       "    .dataframe thead th {\n",
       "        text-align: right;\n",
       "    }\n",
       "</style>\n",
       "<table border=\"1\" class=\"dataframe\">\n",
       "  <thead>\n",
       "    <tr style=\"text-align: right;\">\n",
       "      <th></th>\n",
       "      <th>BEGIN_YEARMONTH</th>\n",
       "      <th>BEGIN_DAY</th>\n",
       "      <th>BEGIN_TIME</th>\n",
       "      <th>END_YEARMONTH</th>\n",
       "      <th>END_DAY</th>\n",
       "      <th>END_TIME</th>\n",
       "      <th>EPISODE_ID</th>\n",
       "      <th>EVENT_ID</th>\n",
       "      <th>STATE</th>\n",
       "      <th>STATE_FIPS</th>\n",
       "      <th>...</th>\n",
       "      <th>END_RANGE</th>\n",
       "      <th>END_AZIMUTH</th>\n",
       "      <th>END_LOCATION</th>\n",
       "      <th>BEGIN_LAT</th>\n",
       "      <th>BEGIN_LON</th>\n",
       "      <th>END_LAT</th>\n",
       "      <th>END_LON</th>\n",
       "      <th>EPISODE_NARRATIVE</th>\n",
       "      <th>EVENT_NARRATIVE</th>\n",
       "      <th>DATA_SOURCE</th>\n",
       "    </tr>\n",
       "  </thead>\n",
       "  <tbody>\n",
       "    <tr>\n",
       "      <th>0</th>\n",
       "      <td>195004</td>\n",
       "      <td>28</td>\n",
       "      <td>1445</td>\n",
       "      <td>195004</td>\n",
       "      <td>28</td>\n",
       "      <td>1445</td>\n",
       "      <td>None</td>\n",
       "      <td>10096222</td>\n",
       "      <td>OKLAHOMA</td>\n",
       "      <td>40.0</td>\n",
       "      <td>...</td>\n",
       "      <td>0.0</td>\n",
       "      <td>None</td>\n",
       "      <td>None</td>\n",
       "      <td>35.12</td>\n",
       "      <td>-99.2</td>\n",
       "      <td>35.17</td>\n",
       "      <td>-99.20</td>\n",
       "      <td>None</td>\n",
       "      <td>None</td>\n",
       "      <td>PUB</td>\n",
       "    </tr>\n",
       "    <tr>\n",
       "      <th>1</th>\n",
       "      <td>195004</td>\n",
       "      <td>29</td>\n",
       "      <td>1530</td>\n",
       "      <td>195004</td>\n",
       "      <td>29</td>\n",
       "      <td>1530</td>\n",
       "      <td>None</td>\n",
       "      <td>10120412</td>\n",
       "      <td>TEXAS</td>\n",
       "      <td>48.0</td>\n",
       "      <td>...</td>\n",
       "      <td>0.0</td>\n",
       "      <td>None</td>\n",
       "      <td>None</td>\n",
       "      <td>31.90</td>\n",
       "      <td>-98.6</td>\n",
       "      <td>31.73</td>\n",
       "      <td>-98.60</td>\n",
       "      <td>None</td>\n",
       "      <td>None</td>\n",
       "      <td>PUB</td>\n",
       "    </tr>\n",
       "    <tr>\n",
       "      <th>2</th>\n",
       "      <td>195007</td>\n",
       "      <td>5</td>\n",
       "      <td>1800</td>\n",
       "      <td>195007</td>\n",
       "      <td>5</td>\n",
       "      <td>1800</td>\n",
       "      <td>None</td>\n",
       "      <td>10104927</td>\n",
       "      <td>PENNSYLVANIA</td>\n",
       "      <td>42.0</td>\n",
       "      <td>...</td>\n",
       "      <td>0.0</td>\n",
       "      <td>None</td>\n",
       "      <td>None</td>\n",
       "      <td>40.58</td>\n",
       "      <td>-75.7</td>\n",
       "      <td>40.65</td>\n",
       "      <td>-75.47</td>\n",
       "      <td>None</td>\n",
       "      <td>None</td>\n",
       "      <td>PUB</td>\n",
       "    </tr>\n",
       "  </tbody>\n",
       "</table>\n",
       "<p>3 rows × 51 columns</p>\n",
       "</div>"
      ],
      "text/plain": [
       "   BEGIN_YEARMONTH  BEGIN_DAY  BEGIN_TIME  END_YEARMONTH  END_DAY  END_TIME  \\\n",
       "0           195004         28        1445         195004       28      1445   \n",
       "1           195004         29        1530         195004       29      1530   \n",
       "2           195007          5        1800         195007        5      1800   \n",
       "\n",
       "  EPISODE_ID  EVENT_ID         STATE  STATE_FIPS     ...      END_RANGE  \\\n",
       "0       None  10096222      OKLAHOMA        40.0     ...            0.0   \n",
       "1       None  10120412         TEXAS        48.0     ...            0.0   \n",
       "2       None  10104927  PENNSYLVANIA        42.0     ...            0.0   \n",
       "\n",
       "  END_AZIMUTH END_LOCATION BEGIN_LAT  BEGIN_LON END_LAT END_LON  \\\n",
       "0        None         None     35.12      -99.2   35.17  -99.20   \n",
       "1        None         None     31.90      -98.6   31.73  -98.60   \n",
       "2        None         None     40.58      -75.7   40.65  -75.47   \n",
       "\n",
       "  EPISODE_NARRATIVE EVENT_NARRATIVE DATA_SOURCE  \n",
       "0              None            None         PUB  \n",
       "1              None            None         PUB  \n",
       "2              None            None         PUB  \n",
       "\n",
       "[3 rows x 51 columns]"
      ]
     },
     "execution_count": 5,
     "metadata": {},
     "output_type": "execute_result"
    }
   ],
   "source": [
    "# Displaying the first 3 rows from the tornado table\n",
    "sql_query = 'SELECT * FROM tornadoes_1950_mid2017 LIMIT 3' \n",
    "pd.read_sql(sql_query, engine_local)"
   ]
  },
  {
   "cell_type": "code",
   "execution_count": 6,
   "metadata": {},
   "outputs": [
    {
     "data": {
      "text/html": [
       "<div>\n",
       "<style scoped>\n",
       "    .dataframe tbody tr th:only-of-type {\n",
       "        vertical-align: middle;\n",
       "    }\n",
       "\n",
       "    .dataframe tbody tr th {\n",
       "        vertical-align: top;\n",
       "    }\n",
       "\n",
       "    .dataframe thead th {\n",
       "        text-align: right;\n",
       "    }\n",
       "</style>\n",
       "<table border=\"1\" class=\"dataframe\">\n",
       "  <thead>\n",
       "    <tr style=\"text-align: right;\">\n",
       "      <th></th>\n",
       "      <th>count</th>\n",
       "      <th>TOR_F_SCALE</th>\n",
       "    </tr>\n",
       "  </thead>\n",
       "  <tbody>\n",
       "    <tr>\n",
       "      <th>0</th>\n",
       "      <td>8617</td>\n",
       "      <td>EF0</td>\n",
       "    </tr>\n",
       "    <tr>\n",
       "      <th>1</th>\n",
       "      <td>5474</td>\n",
       "      <td>EF1</td>\n",
       "    </tr>\n",
       "    <tr>\n",
       "      <th>2</th>\n",
       "      <td>1584</td>\n",
       "      <td>EF2</td>\n",
       "    </tr>\n",
       "    <tr>\n",
       "      <th>3</th>\n",
       "      <td>445</td>\n",
       "      <td>EF3</td>\n",
       "    </tr>\n",
       "    <tr>\n",
       "      <th>4</th>\n",
       "      <td>116</td>\n",
       "      <td>EFU</td>\n",
       "    </tr>\n",
       "    <tr>\n",
       "      <th>5</th>\n",
       "      <td>103</td>\n",
       "      <td>EF4</td>\n",
       "    </tr>\n",
       "    <tr>\n",
       "      <th>6</th>\n",
       "      <td>14</td>\n",
       "      <td>EF5</td>\n",
       "    </tr>\n",
       "    <tr>\n",
       "      <th>7</th>\n",
       "      <td>11</td>\n",
       "      <td>F1</td>\n",
       "    </tr>\n",
       "    <tr>\n",
       "      <th>8</th>\n",
       "      <td>8</td>\n",
       "      <td>F0</td>\n",
       "    </tr>\n",
       "    <tr>\n",
       "      <th>9</th>\n",
       "      <td>3</td>\n",
       "      <td>F2</td>\n",
       "    </tr>\n",
       "  </tbody>\n",
       "</table>\n",
       "</div>"
      ],
      "text/plain": [
       "   count TOR_F_SCALE\n",
       "0   8617         EF0\n",
       "1   5474         EF1\n",
       "2   1584         EF2\n",
       "3    445         EF3\n",
       "4    116         EFU\n",
       "5    103         EF4\n",
       "6     14         EF5\n",
       "7     11          F1\n",
       "8      8          F0\n",
       "9      3          F2"
      ]
     },
     "execution_count": 6,
     "metadata": {},
     "output_type": "execute_result"
    }
   ],
   "source": [
    "sql_query = \"\"\"\n",
    "SELECT COUNT(\"TOR_F_SCALE\"), \"TOR_F_SCALE\"\n",
    "FROM tornadoes_1950_mid2017 \n",
    "WHERE \"BEGIN_YEARMONTH\" >= 200701\n",
    "GROUP BY \"TOR_F_SCALE\"\n",
    "ORDER BY count DESC\n",
    "\"\"\"\n",
    "pd.read_sql(sql_query, engine_local)"
   ]
  },
  {
   "cell_type": "code",
   "execution_count": 7,
   "metadata": {},
   "outputs": [
    {
     "data": {
      "text/html": [
       "<div>\n",
       "<style scoped>\n",
       "    .dataframe tbody tr th:only-of-type {\n",
       "        vertical-align: middle;\n",
       "    }\n",
       "\n",
       "    .dataframe tbody tr th {\n",
       "        vertical-align: top;\n",
       "    }\n",
       "\n",
       "    .dataframe thead th {\n",
       "        text-align: right;\n",
       "    }\n",
       "</style>\n",
       "<table border=\"1\" class=\"dataframe\">\n",
       "  <thead>\n",
       "    <tr style=\"text-align: right;\">\n",
       "      <th></th>\n",
       "      <th>count</th>\n",
       "      <th>TOR_F_SCALE</th>\n",
       "    </tr>\n",
       "  </thead>\n",
       "  <tbody>\n",
       "    <tr>\n",
       "      <th>0</th>\n",
       "      <td>8617</td>\n",
       "      <td>EF0</td>\n",
       "    </tr>\n",
       "    <tr>\n",
       "      <th>1</th>\n",
       "      <td>5474</td>\n",
       "      <td>EF1</td>\n",
       "    </tr>\n",
       "    <tr>\n",
       "      <th>2</th>\n",
       "      <td>1584</td>\n",
       "      <td>EF2</td>\n",
       "    </tr>\n",
       "    <tr>\n",
       "      <th>3</th>\n",
       "      <td>445</td>\n",
       "      <td>EF3</td>\n",
       "    </tr>\n",
       "    <tr>\n",
       "      <th>4</th>\n",
       "      <td>116</td>\n",
       "      <td>EFU</td>\n",
       "    </tr>\n",
       "    <tr>\n",
       "      <th>5</th>\n",
       "      <td>103</td>\n",
       "      <td>EF4</td>\n",
       "    </tr>\n",
       "    <tr>\n",
       "      <th>6</th>\n",
       "      <td>14</td>\n",
       "      <td>EF5</td>\n",
       "    </tr>\n",
       "  </tbody>\n",
       "</table>\n",
       "</div>"
      ],
      "text/plain": [
       "   count TOR_F_SCALE\n",
       "0   8617         EF0\n",
       "1   5474         EF1\n",
       "2   1584         EF2\n",
       "3    445         EF3\n",
       "4    116         EFU\n",
       "5    103         EF4\n",
       "6     14         EF5"
      ]
     },
     "execution_count": 7,
     "metadata": {},
     "output_type": "execute_result"
    }
   ],
   "source": [
    "#editing data for values post 2007, when the  Fujita scale  started being recorded, although it's been around since 1970's :p\n",
    "sql_query = \"\"\"\n",
    "SELECT COUNT(\"TOR_F_SCALE\"), \"TOR_F_SCALE\"\n",
    "FROM tornadoes_1950_mid2017 \n",
    "WHERE \"BEGIN_YEARMONTH\" >= 200702\n",
    "GROUP BY \"TOR_F_SCALE\"\n",
    "ORDER BY count DESC\n",
    "\"\"\"\n",
    "pd.read_sql(sql_query, engine_local)"
   ]
  },
  {
   "cell_type": "code",
   "execution_count": 8,
   "metadata": {},
   "outputs": [
    {
     "data": {
      "text/plain": [
       "EF0    8617\n",
       "EF1    5474\n",
       "EF2    1584\n",
       "EF3     445\n",
       "EFU     116\n",
       "EF4     103\n",
       "EF5      14\n",
       "Name: TOR_F_SCALE, dtype: int64"
      ]
     },
     "execution_count": 8,
     "metadata": {},
     "output_type": "execute_result"
    }
   ],
   "source": [
    "# Saving new dataset):\n",
    "sql_query = \"\"\"\n",
    "SELECT * \n",
    "FROM tornadoes_1950_mid2017 \n",
    "WHERE \"BEGIN_YEARMONTH\" >= 200702;\n",
    "\"\"\"\n",
    "\n",
    "raw_2007_2017 = pd.read_sql(sql_query, engine_local)\n",
    "\n",
    "# Counting the number of tornadoes in each magnitude category:\n",
    "raw_2007_2017.TOR_F_SCALE.value_counts()"
   ]
  },
  {
   "cell_type": "code",
   "execution_count": 8,
   "metadata": {},
   "outputs": [
    {
     "name": "stdout",
     "output_type": "stream",
     "text": [
      "<class 'pandas.core.frame.DataFrame'>\n",
      "RangeIndex: 16353 entries, 0 to 16352\n",
      "Data columns (total 51 columns):\n",
      "BEGIN_YEARMONTH       16353 non-null int64\n",
      "BEGIN_DAY             16353 non-null int64\n",
      "BEGIN_TIME            16353 non-null int64\n",
      "END_YEARMONTH         16353 non-null int64\n",
      "END_DAY               16353 non-null int64\n",
      "END_TIME              16353 non-null int64\n",
      "EPISODE_ID            16353 non-null float64\n",
      "EVENT_ID              16353 non-null int64\n",
      "STATE                 16353 non-null object\n",
      "STATE_FIPS            16353 non-null float64\n",
      "YEAR                  16353 non-null int64\n",
      "MONTH_NAME            16353 non-null object\n",
      "EVENT_TYPE            16353 non-null object\n",
      "CZ_TYPE               16353 non-null object\n",
      "CZ_FIPS               16353 non-null int64\n",
      "CZ_NAME               16353 non-null object\n",
      "WFO                   16353 non-null object\n",
      "BEGIN_DATE_TIME       16353 non-null object\n",
      "CZ_TIMEZONE           16353 non-null object\n",
      "END_DATE_TIME         16353 non-null object\n",
      "INJURIES_DIRECT       16353 non-null int64\n",
      "INJURIES_INDIRECT     16353 non-null int64\n",
      "DEATHS_DIRECT         16353 non-null int64\n",
      "DEATHS_INDIRECT       16353 non-null int64\n",
      "DAMAGE_PROPERTY       14403 non-null object\n",
      "DAMAGE_CROPS          13880 non-null object\n",
      "SOURCE                16353 non-null object\n",
      "MAGNITUDE             0 non-null object\n",
      "MAGNITUDE_TYPE        0 non-null object\n",
      "FLOOD_CAUSE           0 non-null object\n",
      "CATEGORY              0 non-null object\n",
      "TOR_F_SCALE           16353 non-null object\n",
      "TOR_LENGTH            16353 non-null float64\n",
      "TOR_WIDTH             16353 non-null float64\n",
      "TOR_OTHER_WFO         2059 non-null object\n",
      "TOR_OTHER_CZ_STATE    2059 non-null object\n",
      "TOR_OTHER_CZ_FIPS     2059 non-null float64\n",
      "TOR_OTHER_CZ_NAME     2059 non-null object\n",
      "BEGIN_RANGE           16353 non-null float64\n",
      "BEGIN_AZIMUTH         16353 non-null object\n",
      "BEGIN_LOCATION        16353 non-null object\n",
      "END_RANGE             16353 non-null float64\n",
      "END_AZIMUTH           16353 non-null object\n",
      "END_LOCATION          16353 non-null object\n",
      "BEGIN_LAT             16353 non-null float64\n",
      "BEGIN_LON             16353 non-null float64\n",
      "END_LAT               16353 non-null float64\n",
      "END_LON               16353 non-null float64\n",
      "EPISODE_NARRATIVE     16353 non-null object\n",
      "EVENT_NARRATIVE       16353 non-null object\n",
      "DATA_SOURCE           16353 non-null object\n",
      "dtypes: float64(11), int64(13), object(27)\n",
      "memory usage: 6.4+ MB\n"
     ]
    }
   ],
   "source": [
    "raw_2007_2017.info()"
   ]
  },
  {
   "cell_type": "code",
   "execution_count": 9,
   "metadata": {},
   "outputs": [
    {
     "data": {
      "text/plain": [
       "Index(['BEGIN_YEARMONTH', 'BEGIN_DAY', 'BEGIN_TIME', 'END_YEARMONTH',\n",
       "       'END_DAY', 'END_TIME', 'EPISODE_ID', 'EVENT_ID', 'STATE', 'STATE_FIPS',\n",
       "       'YEAR', 'MONTH_NAME', 'EVENT_TYPE', 'CZ_TYPE', 'CZ_FIPS', 'CZ_NAME',\n",
       "       'WFO', 'BEGIN_DATE_TIME', 'CZ_TIMEZONE', 'END_DATE_TIME',\n",
       "       'INJURIES_DIRECT', 'INJURIES_INDIRECT', 'DEATHS_DIRECT',\n",
       "       'DEATHS_INDIRECT', 'DAMAGE_PROPERTY', 'DAMAGE_CROPS', 'SOURCE',\n",
       "       'MAGNITUDE', 'MAGNITUDE_TYPE', 'FLOOD_CAUSE', 'CATEGORY', 'TOR_F_SCALE',\n",
       "       'TOR_LENGTH', 'TOR_WIDTH', 'TOR_OTHER_WFO', 'TOR_OTHER_CZ_STATE',\n",
       "       'TOR_OTHER_CZ_FIPS', 'TOR_OTHER_CZ_NAME', 'BEGIN_RANGE',\n",
       "       'BEGIN_AZIMUTH', 'BEGIN_LOCATION', 'END_RANGE', 'END_AZIMUTH',\n",
       "       'END_LOCATION', 'BEGIN_LAT', 'BEGIN_LON', 'END_LAT', 'END_LON',\n",
       "       'EPISODE_NARRATIVE', 'EVENT_NARRATIVE', 'DATA_SOURCE'],\n",
       "      dtype='object')"
      ]
     },
     "execution_count": 9,
     "metadata": {},
     "output_type": "execute_result"
    }
   ],
   "source": [
    "tornado_2007_2017 = raw_2007_2017.copy()\n",
    "tornado_2007_2017.columns"
   ]
  },
  {
   "cell_type": "code",
   "execution_count": 10,
   "metadata": {},
   "outputs": [],
   "source": [
    "# Transforming the function in part 1 into an easier-to-read dictionnary\n",
    "# For each compass direction corresponds a clockwise angle in degrees from North\n",
    "# This dictionnary will be used to convert the azimuths variables from the tornado dataframe\n",
    "compassdir2degrees = {'N': 0., 'NNE': 22.5, 'NE': 45., 'ENE': 67.5, 'E': 90., 'ESE': 112.5, \n",
    "                      'SE': 135., 'SSE': 157.5, 'S': 180., 'SSW': 202.5, 'SW': 225., \n",
    "                      'WSW': 247.5, 'W': 270., 'WNW': 292.5, 'NW': 315., 'NNW': 337.5}\n",
    "\n",
    "\n",
    "def compute_Az_AvLat_AvLon_fromLatLong(df, xA='BEGIN_LON', yA='BEGIN_LAT', xB='END_LON',\n",
    "                                       yB='END_LAT', outMeanLat='Mean_Lat', \n",
    "                                       outMeanLon='Mean_Lon', outAz='Azimuth'):\n",
    "    '''Takes a tornado dataframe in input, with geographical coordinates of beginning and end \n",
    "    points.\n",
    "    Returns the dataframe with 3 new features: \n",
    "    direction the tornado headed from North (azimuth of its rectiligne path)\n",
    "    average latitude\n",
    "    average longitude'''\n",
    "    \n",
    "    # New features with average latitude and longitude of the tornado path:\n",
    "    LAT = (df[yA]+df[yB])/2\n",
    "    LON = (df[xA]+df[xB])/2\n",
    "    df[outMeanLat] = np.round(LAT,4)\n",
    "    df[outMeanLon] = np.round(LON,4)\n",
    "\n",
    "    # Approximate Earth radius in miles:\n",
    "    R = 3959\n",
    "    \n",
    "    # Coordinates differences converted to radians:\n",
    "    diffLON = np.radians(df[xB] - df[xA])\n",
    "    diffLAT = np.radians(df[yB] - df[yA])\n",
    "      \n",
    "    # Azimuth computed from trigonometry (arctan2 allows getting the angle in range (-pi,pi) \n",
    "    # instead of (-pi/2,pi/2) like with conventional arctan):\n",
    "    AZ = pd.Series(index=diffLON.index)\n",
    "    for i in range(len(diffLON)):\n",
    "        if diffLAT[i]==0 and diffLON[i]==0:\n",
    "            AZ[i] = np.nan\n",
    "        else:\n",
    "            AZ[i] = np.degrees(np.arctan2(diffLON[i],diffLAT[i]))\n",
    "    \n",
    "    # Saving azimuth into new column:\n",
    "    df[outAz] = np.round(AZ,2)\n",
    "\n",
    "    # Let's make the North as the middle of the range => angles from ]-pi;pi] instead of [0;2pi[\n",
    "    df[outAz] = df[outAz].map(lambda x: x-360 if x>180 else x)\n",
    "\n",
    "    return df\n"
   ]
  },
  {
   "cell_type": "code",
   "execution_count": 11,
   "metadata": {},
   "outputs": [],
   "source": [
    "#converting to Integers \n",
    "def convertEFtonb(x):\n",
    "    '''Converts an EF scale string to integer of the corresponding number'''\n",
    "    if x=='EF0' or x=='EFU': return 0\n",
    "    elif x=='EF1': return 1\n",
    "    elif x=='EF2': return 2\n",
    "    elif x=='EF3': return 3\n",
    "    elif x=='EF4': return 4\n",
    "    elif x=='EF5': return 5\n",
    "    else: return np.nan"
   ]
  },
  {
   "cell_type": "code",
   "execution_count": 12,
   "metadata": {},
   "outputs": [],
   "source": [
    "#Creating a Windrose Graph - to hightlight direction of Tornadoe \n",
    "\n",
    "def plot_windrose(df, EFscale='TOR_F_SCALE', Azimuth='Azimuth', TorYears='2007-2017'):\n",
    "    '''Plots a windrose diagram from the azimuth and EF scales of a tornado dataframe'''\n",
    "    \n",
    "    # Somehow, the packages seems to unload sometimes, when imported upfront. \n",
    "    # The solution I found was to import them each time the function is called.\n",
    "    from windrose import WindroseAxes, plot_windrose\n",
    "    \n",
    "    dfwindroseAzim = pd.DataFrame({'speed':list(df[EFscale].map(convertEFtonb).values), \n",
    "                                   'direction':list(df[Azimuth].values)}).reset_index(drop=True)\n",
    "\n",
    "    # Radial grids must be positive for the windrose display:\n",
    "    dfwindroseAzim.direction = dfwindroseAzim.direction.map(lambda x: 0.001 if x==0 \n",
    "                                                            else 360+x if x<0 else x)\n",
    "\n",
    "    sns.set(font_scale=1.3)\n",
    "    plot_windrose(dfwindroseAzim, kind='bar', bins=np.arange(-0.5,5.5,1), edgecolor='black')\n",
    "\n",
    "    plt.title(\"Distribution of the {} tornadoes' heading (Blue to Red for weak to strong\\\n",
    "              magnitudes)\".format(TorYears))\n",
    "    plt.legend(\"lower right\")\n",
    "    plt.show()"
   ]
  },
  {
   "cell_type": "code",
   "execution_count": 13,
   "metadata": {},
   "outputs": [],
   "source": [
    "#Transforming Date & time from Dataset\n",
    "def computeduration(df, beginDT='BEGIN_DATE_TIME', endDT='END_DATE_TIME'):\n",
    "    '''Takes a tornado dataframe in input, with dates and times of beginning and end of a tornado,\n",
    "    in text format.\n",
    "    Converts them into datatime format.\n",
    "    Computes the duration in minutes and returns it as new column\n",
    "    Computes the average date and average time, \n",
    "    Computes the day of the year, and time in floating format, and returns them as new columns'''\n",
    "\n",
    "    # Changing to datetime format:\n",
    "    df[beginDT] = pd.to_datetime(df[beginDT])\n",
    "    df[endDT] = pd.to_datetime(df[endDT])\n",
    "    \n",
    "    # Computes the duration:\n",
    "    df['Duration'] =  df[endDT] - df[beginDT]\n",
    "    # Converting to minutes from seconds:\n",
    "    df['Duration'] = df.Duration.map(lambda x: int(round(x.total_seconds()/60.)))\n",
    "    \n",
    "    # Computing the average date and time of a tornado event:\n",
    "    df['AverageDate'] = pd.to_datetime(df[beginDT] + (df[endDT] - df[beginDT])/2)\n",
    "    df['AverageTime'] = df['AverageDate']\n",
    "    \n",
    "    def dayoftheyear(x):\n",
    "        '''converts a timestamp object into day of the year, taking leap years into account'''\n",
    "        dayYear = x.timetuple().tm_yday\n",
    "        # Feb 28 corresponds to year day 31+28=59\n",
    "        if calendar.isleap(x.year) and dayYear<=59:\n",
    "            return dayYear\n",
    "        # For dates superior or equal to Feb 29, for leap years, returns the value-1 for a number\n",
    "        # to always correspond to the same date for any year\n",
    "        elif calendar.isleap(x.year) and dayYear>59:\n",
    "            return dayYear - 1\n",
    "        # For non leap years:\n",
    "        else:\n",
    "            return dayYear\n",
    "    # Converting date to day of the year:\n",
    "    df['AverageDate'] = df['AverageDate'].map(dayoftheyear)\n",
    "    \n",
    "    # Converting time to float from Timestamp object:\n",
    "    df['AverageTime'] = df['AverageTime'].map(lambda x: x.time())\n",
    "    df['AverageTime'] = df['AverageTime'].map(lambda x: x.hour) \\\n",
    "    + df['AverageTime'].map(lambda x: round((x.minute*100/60.)/100., 2)) \\\n",
    "    + df['AverageTime'].map(lambda x: round((x.second*100/60.)/10000., 4))\n",
    "    \n",
    "    return df"
   ]
  },
  {
   "cell_type": "code",
   "execution_count": 14,
   "metadata": {},
   "outputs": [
    {
     "data": {
      "text/html": [
       "<div>\n",
       "<style scoped>\n",
       "    .dataframe tbody tr th:only-of-type {\n",
       "        vertical-align: middle;\n",
       "    }\n",
       "\n",
       "    .dataframe tbody tr th {\n",
       "        vertical-align: top;\n",
       "    }\n",
       "\n",
       "    .dataframe thead th {\n",
       "        text-align: right;\n",
       "    }\n",
       "</style>\n",
       "<table border=\"1\" class=\"dataframe\">\n",
       "  <thead>\n",
       "    <tr style=\"text-align: right;\">\n",
       "      <th></th>\n",
       "      <th>BEGIN_DATE_TIME</th>\n",
       "      <th>END_DATE_TIME</th>\n",
       "      <th>Duration</th>\n",
       "      <th>AverageDate</th>\n",
       "      <th>AverageTime</th>\n",
       "    </tr>\n",
       "  </thead>\n",
       "  <tbody>\n",
       "    <tr>\n",
       "      <th>0</th>\n",
       "      <td>2007-05-06 15:40:00</td>\n",
       "      <td>2007-05-06 15:43:00</td>\n",
       "      <td>3</td>\n",
       "      <td>126</td>\n",
       "      <td>15.685</td>\n",
       "    </tr>\n",
       "    <tr>\n",
       "      <th>1</th>\n",
       "      <td>2007-07-02 17:30:00</td>\n",
       "      <td>2007-07-02 17:35:00</td>\n",
       "      <td>5</td>\n",
       "      <td>183</td>\n",
       "      <td>17.535</td>\n",
       "    </tr>\n",
       "    <tr>\n",
       "      <th>2</th>\n",
       "      <td>2007-04-21 18:48:00</td>\n",
       "      <td>2007-04-21 18:57:00</td>\n",
       "      <td>9</td>\n",
       "      <td>111</td>\n",
       "      <td>18.875</td>\n",
       "    </tr>\n",
       "    <tr>\n",
       "      <th>3</th>\n",
       "      <td>2007-06-01 11:55:00</td>\n",
       "      <td>2007-06-01 11:56:00</td>\n",
       "      <td>1</td>\n",
       "      <td>152</td>\n",
       "      <td>11.925</td>\n",
       "    </tr>\n",
       "    <tr>\n",
       "      <th>4</th>\n",
       "      <td>2007-04-15 06:15:00</td>\n",
       "      <td>2007-04-15 06:15:00</td>\n",
       "      <td>0</td>\n",
       "      <td>105</td>\n",
       "      <td>6.250</td>\n",
       "    </tr>\n",
       "  </tbody>\n",
       "</table>\n",
       "</div>"
      ],
      "text/plain": [
       "      BEGIN_DATE_TIME       END_DATE_TIME  Duration  AverageDate  AverageTime\n",
       "0 2007-05-06 15:40:00 2007-05-06 15:43:00         3          126       15.685\n",
       "1 2007-07-02 17:30:00 2007-07-02 17:35:00         5          183       17.535\n",
       "2 2007-04-21 18:48:00 2007-04-21 18:57:00         9          111       18.875\n",
       "3 2007-06-01 11:55:00 2007-06-01 11:56:00         1          152       11.925\n",
       "4 2007-04-15 06:15:00 2007-04-15 06:15:00         0          105        6.250"
      ]
     },
     "execution_count": 14,
     "metadata": {},
     "output_type": "execute_result"
    }
   ],
   "source": [
    "testdf = raw_2007_2017[['BEGIN_DATE_TIME', 'END_DATE_TIME']].head()\n",
    "\n",
    "computeduration(testdf)"
   ]
  },
  {
   "cell_type": "code",
   "execution_count": 15,
   "metadata": {},
   "outputs": [],
   "source": [
    "def convertcost_tointeger(cost):\n",
    "    '''From a cost in text format in format 'nb'.00'letter' where letter = K or M or B\n",
    "    Returns a cost as integer'''\n",
    "    if pd.isnull(cost): return 0\n",
    "    elif 'K' in cost: return int(round(float(cost[:-2]) * 10**3))\n",
    "    elif 'M' in cost: return int(round(float(cost[:-2]) * 10**6))\n",
    "    elif 'B' in cost: return int(round(float(cost[:-2]) * 10**9))\n",
    "    else: return np.nan"
   ]
  },
  {
   "cell_type": "code",
   "execution_count": 16,
   "metadata": {},
   "outputs": [
    {
     "data": {
      "text/html": [
       "<div>\n",
       "<style scoped>\n",
       "    .dataframe tbody tr th:only-of-type {\n",
       "        vertical-align: middle;\n",
       "    }\n",
       "\n",
       "    .dataframe tbody tr th {\n",
       "        vertical-align: top;\n",
       "    }\n",
       "\n",
       "    .dataframe thead th {\n",
       "        text-align: right;\n",
       "    }\n",
       "</style>\n",
       "<table border=\"1\" class=\"dataframe\">\n",
       "  <thead>\n",
       "    <tr style=\"text-align: right;\">\n",
       "      <th></th>\n",
       "      <th>DAMAGE_PROPERTY</th>\n",
       "      <th>DAMAGE_CROPS</th>\n",
       "      <th>PropertyDamageCost</th>\n",
       "      <th>CropsDamageCost</th>\n",
       "    </tr>\n",
       "  </thead>\n",
       "  <tbody>\n",
       "    <tr>\n",
       "      <th>67</th>\n",
       "      <td>1.50M</td>\n",
       "      <td>0.00K</td>\n",
       "      <td>1500000</td>\n",
       "      <td>0</td>\n",
       "    </tr>\n",
       "    <tr>\n",
       "      <th>68</th>\n",
       "      <td>100.00K</td>\n",
       "      <td>0.00K</td>\n",
       "      <td>100000</td>\n",
       "      <td>0</td>\n",
       "    </tr>\n",
       "    <tr>\n",
       "      <th>69</th>\n",
       "      <td>3.50M</td>\n",
       "      <td>None</td>\n",
       "      <td>3500000</td>\n",
       "      <td>0</td>\n",
       "    </tr>\n",
       "    <tr>\n",
       "      <th>70</th>\n",
       "      <td>20.00K</td>\n",
       "      <td>0.00K</td>\n",
       "      <td>20000</td>\n",
       "      <td>0</td>\n",
       "    </tr>\n",
       "    <tr>\n",
       "      <th>71</th>\n",
       "      <td>0.00K</td>\n",
       "      <td>0.00K</td>\n",
       "      <td>0</td>\n",
       "      <td>0</td>\n",
       "    </tr>\n",
       "    <tr>\n",
       "      <th>72</th>\n",
       "      <td>0.00K</td>\n",
       "      <td>0.00K</td>\n",
       "      <td>0</td>\n",
       "      <td>0</td>\n",
       "    </tr>\n",
       "    <tr>\n",
       "      <th>73</th>\n",
       "      <td>8.00K</td>\n",
       "      <td>0.00K</td>\n",
       "      <td>8000</td>\n",
       "      <td>0</td>\n",
       "    </tr>\n",
       "  </tbody>\n",
       "</table>\n",
       "</div>"
      ],
      "text/plain": [
       "   DAMAGE_PROPERTY DAMAGE_CROPS  PropertyDamageCost  CropsDamageCost\n",
       "67           1.50M        0.00K             1500000                0\n",
       "68         100.00K        0.00K              100000                0\n",
       "69           3.50M         None             3500000                0\n",
       "70          20.00K        0.00K               20000                0\n",
       "71           0.00K        0.00K                   0                0\n",
       "72           0.00K        0.00K                   0                0\n",
       "73           8.00K        0.00K                8000                0"
      ]
     },
     "execution_count": 16,
     "metadata": {},
     "output_type": "execute_result"
    }
   ],
   "source": [
    "# Testing the previous function with a small subset of data:\n",
    "testdf2 = raw_2007_2017[['DAMAGE_PROPERTY', 'DAMAGE_CROPS']][67:74]\n",
    "\n",
    "testdf2['PropertyDamageCost'] = testdf2.DAMAGE_PROPERTY.map(convertcost_tointeger)\n",
    "testdf2['CropsDamageCost'] = testdf2.DAMAGE_CROPS.map(convertcost_tointeger)\n",
    "testdf2\n"
   ]
  },
  {
   "cell_type": "code",
   "execution_count": 17,
   "metadata": {},
   "outputs": [
    {
     "data": {
      "text/plain": [
       "array([20., 12., 46., 28., 39., 45., 18., 38., 27., 31., 19., 48.,  1.,\n",
       "        6., 22.,  5., 26., 35., 17., 29., 40., 24.,  8., 21., 47., 55.,\n",
       "       42., 16., 37., 13., 30., 41., 56., 49., 25., 51.,  9., 54., 36.,\n",
       "       23., 99., 15.,  4., 53., 33., 50., 44., 32., 34., 10., 11.])"
      ]
     },
     "execution_count": 17,
     "metadata": {},
     "output_type": "execute_result"
    }
   ],
   "source": [
    "raw_2007_2017['STATE_FIPS'].unique()"
   ]
  },
  {
   "cell_type": "code",
   "execution_count": 18,
   "metadata": {},
   "outputs": [
    {
     "data": {
      "text/html": [
       "<div>\n",
       "<style scoped>\n",
       "    .dataframe tbody tr th:only-of-type {\n",
       "        vertical-align: middle;\n",
       "    }\n",
       "\n",
       "    .dataframe tbody tr th {\n",
       "        vertical-align: top;\n",
       "    }\n",
       "\n",
       "    .dataframe thead th {\n",
       "        text-align: right;\n",
       "    }\n",
       "</style>\n",
       "<table border=\"1\" class=\"dataframe\">\n",
       "  <thead>\n",
       "    <tr style=\"text-align: right;\">\n",
       "      <th></th>\n",
       "      <th>STATE_FIPS</th>\n",
       "      <th>STATE</th>\n",
       "    </tr>\n",
       "  </thead>\n",
       "  <tbody>\n",
       "    <tr>\n",
       "      <th>1165</th>\n",
       "      <td>99.0</td>\n",
       "      <td>PUERTO RICO</td>\n",
       "    </tr>\n",
       "    <tr>\n",
       "      <th>4343</th>\n",
       "      <td>99.0</td>\n",
       "      <td>PUERTO RICO</td>\n",
       "    </tr>\n",
       "    <tr>\n",
       "      <th>7630</th>\n",
       "      <td>99.0</td>\n",
       "      <td>PUERTO RICO</td>\n",
       "    </tr>\n",
       "    <tr>\n",
       "      <th>8940</th>\n",
       "      <td>99.0</td>\n",
       "      <td>PUERTO RICO</td>\n",
       "    </tr>\n",
       "    <tr>\n",
       "      <th>9968</th>\n",
       "      <td>99.0</td>\n",
       "      <td>PUERTO RICO</td>\n",
       "    </tr>\n",
       "    <tr>\n",
       "      <th>13454</th>\n",
       "      <td>99.0</td>\n",
       "      <td>PUERTO RICO</td>\n",
       "    </tr>\n",
       "    <tr>\n",
       "      <th>13675</th>\n",
       "      <td>99.0</td>\n",
       "      <td>PUERTO RICO</td>\n",
       "    </tr>\n",
       "  </tbody>\n",
       "</table>\n",
       "</div>"
      ],
      "text/plain": [
       "       STATE_FIPS        STATE\n",
       "1165         99.0  PUERTO RICO\n",
       "4343         99.0  PUERTO RICO\n",
       "7630         99.0  PUERTO RICO\n",
       "8940         99.0  PUERTO RICO\n",
       "9968         99.0  PUERTO RICO\n",
       "13454        99.0  PUERTO RICO\n",
       "13675        99.0  PUERTO RICO"
      ]
     },
     "execution_count": 18,
     "metadata": {},
     "output_type": "execute_result"
    }
   ],
   "source": [
    "raw_2007_2017[raw_2007_2017['STATE_FIPS']==99][['STATE_FIPS','STATE']].head(10)"
   ]
  },
  {
   "cell_type": "code",
   "execution_count": 19,
   "metadata": {},
   "outputs": [
    {
     "name": "stdout",
     "output_type": "stream",
     "text": [
      "FIPS number and state abreviation dictionary:\n",
      "\n"
     ]
    },
    {
     "data": {
      "text/plain": [
       "(None,\n",
       " {1: 'AL',\n",
       "  2: 'AK',\n",
       "  60: 'AS',\n",
       "  4: 'AZ',\n",
       "  5: 'AR',\n",
       "  6: 'CA',\n",
       "  8: 'CO',\n",
       "  9: 'CT',\n",
       "  10: 'DE',\n",
       "  11: 'DC',\n",
       "  12: 'FL',\n",
       "  64: 'FM',\n",
       "  13: 'GA',\n",
       "  66: 'GU',\n",
       "  15: 'HI',\n",
       "  16: 'ID',\n",
       "  17: 'IL',\n",
       "  18: 'IN',\n",
       "  19: 'IA',\n",
       "  20: 'KS',\n",
       "  21: 'KY',\n",
       "  22: 'LA',\n",
       "  23: 'ME',\n",
       "  68: 'MH',\n",
       "  24: 'MD',\n",
       "  25: 'MA',\n",
       "  26: 'MI',\n",
       "  27: 'MN',\n",
       "  28: 'MS',\n",
       "  29: 'MO',\n",
       "  30: 'MT',\n",
       "  31: 'NE',\n",
       "  32: 'NV',\n",
       "  33: 'NH',\n",
       "  34: 'NJ',\n",
       "  35: 'NM',\n",
       "  36: 'NY',\n",
       "  37: 'NC',\n",
       "  38: 'ND',\n",
       "  69: 'MP',\n",
       "  39: 'OH',\n",
       "  40: 'OK',\n",
       "  41: 'OR',\n",
       "  70: 'PW',\n",
       "  42: 'PA',\n",
       "  72: 'PR',\n",
       "  44: 'RI',\n",
       "  45: 'SC',\n",
       "  46: 'SD',\n",
       "  47: 'TN',\n",
       "  48: 'TX',\n",
       "  74: 'UM',\n",
       "  49: 'UT',\n",
       "  50: 'VT',\n",
       "  51: 'VA',\n",
       "  78: 'VI',\n",
       "  53: 'WA',\n",
       "  54: 'WV',\n",
       "  55: 'WI',\n",
       "  56: 'WY',\n",
       "  99: 'PR'})"
      ]
     },
     "execution_count": 19,
     "metadata": {},
     "output_type": "execute_result"
    }
   ],
   "source": [
    "# Link to the FIPS table:\n",
    "link = \"https://en.wikipedia.org/wiki/Federal_Information_Processing_Standard_state_code\"\n",
    "response = requests.get(link)\n",
    "html = response.text\n",
    "\n",
    "# Making a soup out of the html and creating the list of FIPS table rows:\n",
    "soup = BeautifulSoup(html, \"lxml\")\n",
    "listofFIPSrows = soup.findAll(\"tr\")\n",
    "    \n",
    "# Creating a dictionary with the correspondances between state FIPS number and \n",
    "# state name abbreviation (eg: 'AL' for 1, 'AK' for 2, etc.):\n",
    "fips_to_state = {}\n",
    "for element in listofFIPSrows[1:75]:\n",
    "    # Some FIPS numbers in the table do not have associated abbreviation, we therefore\n",
    "    # do not use those rows:\n",
    "    if str(element).split('<td>')[2][:2] != '</':\n",
    "        fips_to_state[int(str(element).split('<td>')[3][:2])] = str(element).split('<td>')[2][:2]\n",
    "\n",
    "# Puerto Rico is registered as number 99 in the tornado data:\n",
    "fips_to_state[99] = 'PR'\n",
    "\n",
    "print(\"FIPS number and state abreviation dictionary:\\n\"), fips_to_state"
   ]
  },
  {
   "cell_type": "code",
   "execution_count": 20,
   "metadata": {},
   "outputs": [
    {
     "data": {
      "text/html": [
       "<div>\n",
       "<style scoped>\n",
       "    .dataframe tbody tr th:only-of-type {\n",
       "        vertical-align: middle;\n",
       "    }\n",
       "\n",
       "    .dataframe tbody tr th {\n",
       "        vertical-align: top;\n",
       "    }\n",
       "\n",
       "    .dataframe thead th {\n",
       "        text-align: right;\n",
       "    }\n",
       "</style>\n",
       "<table border=\"1\" class=\"dataframe\">\n",
       "  <thead>\n",
       "    <tr style=\"text-align: right;\">\n",
       "      <th></th>\n",
       "      <th>STATE_FIPS</th>\n",
       "      <th>STATE</th>\n",
       "      <th>State</th>\n",
       "    </tr>\n",
       "  </thead>\n",
       "  <tbody>\n",
       "    <tr>\n",
       "      <th>784</th>\n",
       "      <td>31.0</td>\n",
       "      <td>NEBRASKA</td>\n",
       "      <td>NE</td>\n",
       "    </tr>\n",
       "    <tr>\n",
       "      <th>785</th>\n",
       "      <td>20.0</td>\n",
       "      <td>KANSAS</td>\n",
       "      <td>KS</td>\n",
       "    </tr>\n",
       "    <tr>\n",
       "      <th>786</th>\n",
       "      <td>20.0</td>\n",
       "      <td>KANSAS</td>\n",
       "      <td>KS</td>\n",
       "    </tr>\n",
       "    <tr>\n",
       "      <th>787</th>\n",
       "      <td>48.0</td>\n",
       "      <td>TEXAS</td>\n",
       "      <td>TX</td>\n",
       "    </tr>\n",
       "    <tr>\n",
       "      <th>788</th>\n",
       "      <td>31.0</td>\n",
       "      <td>NEBRASKA</td>\n",
       "      <td>NE</td>\n",
       "    </tr>\n",
       "    <tr>\n",
       "      <th>789</th>\n",
       "      <td>20.0</td>\n",
       "      <td>KANSAS</td>\n",
       "      <td>KS</td>\n",
       "    </tr>\n",
       "  </tbody>\n",
       "</table>\n",
       "</div>"
      ],
      "text/plain": [
       "     STATE_FIPS     STATE State\n",
       "784        31.0  NEBRASKA    NE\n",
       "785        20.0    KANSAS    KS\n",
       "786        20.0    KANSAS    KS\n",
       "787        48.0     TEXAS    TX\n",
       "788        31.0  NEBRASKA    NE\n",
       "789        20.0    KANSAS    KS"
      ]
     },
     "execution_count": 20,
     "metadata": {},
     "output_type": "execute_result"
    }
   ],
   "source": [
    "# Testing the previous dictionary application with a small subset of data:\n",
    "testdf3 = raw_2007_2017[['STATE_FIPS','STATE']][784:790]\n",
    "\n",
    "testdf3['State'] = testdf3['STATE_FIPS'].map(lambda x: fips_to_state[x])\n",
    "testdf3"
   ]
  },
  {
   "cell_type": "code",
   "execution_count": 21,
   "metadata": {},
   "outputs": [],
   "source": [
    "# Function to plot the confusion matrices in a nicer and more interpretable way:\n",
    "def plot_confusion_matrix(cm, classes, title='Confusion matrix', cmap=plt.cm.Blues, \n",
    "                          xlab='Predicted magnitude', ylab='True magnitude'):\n",
    "    plt.imshow(cm, interpolation='nearest', cmap=cmap)\n",
    "    plt.title(title)\n",
    "    plt.colorbar()\n",
    "    tick_marks = np.arange(len(classes))\n",
    "    plt.xticks(tick_marks, classes, rotation=45)\n",
    "    plt.yticks(tick_marks, classes)\n",
    "    thresh = cm.max() / 2.\n",
    "    for i, j in itertools.product(range(cm.shape[0]), range(cm.shape[1])):\n",
    "        plt.text(j, i, cm[i, j],\n",
    "                 horizontalalignment=\"center\",\n",
    "                 color=\"white\" if cm[i, j] > thresh else \"black\")\n",
    "    plt.ylabel(ylab)\n",
    "    plt.xlabel(xlab)\n",
    "    plt.show()"
   ]
  },
  {
   "cell_type": "code",
   "execution_count": 22,
   "metadata": {},
   "outputs": [],
   "source": [
    "# Removing unnecessary columns:\n",
    "tornado_2007_2017 = tornado_2007_2017.drop(['EVENT_ID', 'EPISODE_ID', \n",
    "                                            'EVENT_TYPE', 'MAGNITUDE', 'MAGNITUDE_TYPE', \n",
    "                                            'FLOOD_CAUSE', \n",
    "                                            'EPISODE_NARRATIVE', 'EVENT_NARRATIVE', \n",
    "                                            'DATA_SOURCE', 'CATEGORY'], axis=1)\n",
    "\n",
    "# Adding 3 new columns with the duration and the average year-date and time: \n",
    "tornado_2007_2017 = computeduration(tornado_2007_2017)\n",
    "\n",
    "# Removing original columns related to date and time:\n",
    "tornado_2007_2017.drop(['BEGIN_YEARMONTH', 'BEGIN_DAY', 'BEGIN_TIME', 'END_YEARMONTH', 'END_DAY',\n",
    "                        'END_TIME', 'BEGIN_DATE_TIME', 'CZ_TIMEZONE', 'END_DATE_TIME', 'YEAR',\n",
    "                        'MONTH_NAME'], axis=1, inplace=True)\n",
    "\n",
    "# Gathering direct and indirect deaths, and injuries:\n",
    "tornado_2007_2017['Deaths'] = tornado_2007_2017.DEATHS_DIRECT + tornado_2007_2017.DEATHS_INDIRECT\n",
    "tornado_2007_2017['Injuries'] = tornado_2007_2017.INJURIES_DIRECT +\\\n",
    "                                tornado_2007_2017.INJURIES_INDIRECT\n",
    "tornado_2007_2017.drop(['DEATHS_DIRECT','DEATHS_INDIRECT','INJURIES_DIRECT','INJURIES_INDIRECT'],\n",
    "                       axis=1, inplace=True)\n",
    "\n",
    "# Adds 3 new columns average latitude, longitude and azimuth of tornado's path:\n",
    "tornado_2007_2017 = compute_Az_AvLat_AvLon_fromLatLong(tornado_2007_2017)"
   ]
  },
  {
   "cell_type": "code",
   "execution_count": 23,
   "metadata": {
    "scrolled": true
   },
   "outputs": [
    {
     "name": "stdout",
     "output_type": "stream",
     "text": [
      "Plot before imputing NaN azimuth values:\n"
     ]
    },
    {
     "data": {
      "image/png": "[encoded data removed]",
      "text/plain": [
       "<Figure size 640x640 with 1 Axes>"
      ]
     },
     "metadata": {},
     "output_type": "display_data"
    },
    {
     "name": "stdout",
     "output_type": "stream",
     "text": [
      "The median azimuth of the tornados' straight paths is:\n",
      "We are replacing the computed NaN azimuths to this value.\n",
      "nPlot after imputing NaN azimuth values:\n"
     ]
    },
    {
     "data": {
      "image/png": "[encoded data removed]",
      "text/plain": [
       "<Figure size 640x640 with 1 Axes>"
      ]
     },
     "metadata": {},
     "output_type": "display_data"
    }
   ],
   "source": [
    "# Plots the windrose before imputing values for stationary tornadoes:\n",
    "print(\"Plot before imputing NaN azimuth values:\")\n",
    "plot_windrose(tornado_2007_2017)\n",
    "\n",
    "# Filling the azimuth NaN values with median:\n",
    "print(\"The median azimuth of the tornados' straight paths is:\"), \\\n",
    "      tornado_2007_2017['Azimuth'].median(), \"degrees.\"\n",
    "print(\"We are replacing the computed NaN azimuths to this value.\")\n",
    "tornado_2007_2017.Azimuth.fillna(tornado_2007_2017['Azimuth'].median(), inplace=True)\n",
    "\n",
    "# Plots the windrose after imputing values for stationary tornadoes:\n",
    "print(\"nPlot after imputing NaN azimuth values:\")\n",
    "plot_windrose(tornado_2007_2017)\n",
    "\n",
    "# Converting the state FIPS numbers into state abbreviations easily recognizable:\n",
    "tornado_2007_2017['State'] = tornado_2007_2017['STATE_FIPS'].map(lambda x: fips_to_state[x])\n",
    "\n",
    "# Removing columns related to location:\n",
    "tornado_2007_2017.drop(['BEGIN_RANGE', 'BEGIN_AZIMUTH', 'END_RANGE', 'END_AZIMUTH', \n",
    "                        'BEGIN_LAT', 'BEGIN_LON', 'END_LAT', 'END_LON', \n",
    "                        'CZ_NAME', 'CZ_TYPE', 'CZ_FIPS', 'WFO', 'STATE_FIPS', 'STATE', \n",
    "                        'BEGIN_LOCATION', 'END_LOCATION', \n",
    "                        'TOR_OTHER_CZ_STATE', 'TOR_OTHER_CZ_FIPS', 'TOR_OTHER_CZ_NAME',\n",
    "                        'TOR_OTHER_WFO'],\n",
    "                       axis=1, inplace=True)\n",
    "\n",
    "# Converting the cost columns into integer numbers:\n",
    "tornado_2007_2017['PropertyDamageCost'] = \\\n",
    "tornado_2007_2017.DAMAGE_PROPERTY.map(convertcost_tointeger)\n",
    "tornado_2007_2017['CropsDamageCost'] = tornado_2007_2017.DAMAGE_CROPS.map(convertcost_tointeger)\n",
    "\n",
    "# Removing old columns related to costs:\n",
    "tornado_2007_2017.drop(['DAMAGE_PROPERTY', 'DAMAGE_CROPS'], axis=1, inplace=True)\n",
    "\n",
    "# Replacing spaces by underscores in the SOURCE feature:\n",
    "tornado_2007_2017.SOURCE = tornado_2007_2017.SOURCE.map(lambda x: x.replace(' ', '_'))\n",
    "\n",
    "# Removing tornado with outlier TOR_LENGTH=100:\n",
    "tornado_2007_2017 = tornado_2007_2017[tornado_2007_2017.TOR_LENGTH<50]\n",
    "\n"
   ]
  },
  {
   "cell_type": "code",
   "execution_count": 24,
   "metadata": {},
   "outputs": [
    {
     "data": {
      "image/png": "[encoded data removed]",
      "text/plain": [
       "<Figure size 1152x288 with 2 Axes>"
      ]
     },
     "metadata": {},
     "output_type": "display_data"
    }
   ],
   "source": [
    "# Checking death casualties and injuries, taking both direct and indirect ones together:\n",
    "fig, ax = plt.subplots(1,2, figsize=(16,4), sharey=True)\n",
    "tornado_2007_2017.Deaths.hist(bins=30, log=True, ax=ax[0])\n",
    "tornado_2007_2017.Injuries.hist(bins=30, log=True, ax=ax[1])\n",
    "ax[0].set_title(\"Death casualties distribution\")\n",
    "ax[0].set_xlabel(\"Number of direct and indirect deaths\")\n",
    "ax[0].set_ylabel(\"Tornado count since 2007\")\n",
    "ax[1].set_title(\"Injuries distribution\")\n",
    "ax[1].set_xlabel(\"Number of direct and indirect injuries\")\n",
    "ax[1].set_ylabel(\"Tornado count since 2007\")\n",
    "plt.show()"
   ]
  },
  {
   "cell_type": "code",
   "execution_count": 29,
   "metadata": {},
   "outputs": [],
   "source": [
    "y1 = tornado_2007_2017.reset_index().TOR_F_SCALE\n",
    "X1 = tornado_2007_2017.reset_index().drop(['TOR_F_SCALE'], axis=1)"
   ]
  },
  {
   "cell_type": "code",
   "execution_count": 31,
   "metadata": {},
   "outputs": [
    {
     "data": {
      "text/html": [
       "<div>\n",
       "<style scoped>\n",
       "    .dataframe tbody tr th:only-of-type {\n",
       "        vertical-align: middle;\n",
       "    }\n",
       "\n",
       "    .dataframe tbody tr th {\n",
       "        vertical-align: top;\n",
       "    }\n",
       "\n",
       "    .dataframe thead th {\n",
       "        text-align: right;\n",
       "    }\n",
       "</style>\n",
       "<table border=\"1\" class=\"dataframe\">\n",
       "  <thead>\n",
       "    <tr style=\"text-align: right;\">\n",
       "      <th></th>\n",
       "      <th>TOR_LENGTH</th>\n",
       "      <th>TOR_WIDTH</th>\n",
       "      <th>Duration</th>\n",
       "      <th>AverageDate</th>\n",
       "      <th>AverageTime</th>\n",
       "      <th>Deaths</th>\n",
       "      <th>Injuries</th>\n",
       "      <th>Mean_Lat</th>\n",
       "      <th>Mean_Lon</th>\n",
       "      <th>Azimuth</th>\n",
       "    </tr>\n",
       "  </thead>\n",
       "  <tbody>\n",
       "    <tr>\n",
       "      <th>0</th>\n",
       "      <td>-0.384696</td>\n",
       "      <td>-0.453753</td>\n",
       "      <td>-0.372725</td>\n",
       "      <td>-0.399389</td>\n",
       "      <td>0.034001</td>\n",
       "      <td>-0.046745</td>\n",
       "      <td>-0.057794</td>\n",
       "      <td>0.025597</td>\n",
       "      <td>-0.818166</td>\n",
       "      <td>-1.299679</td>\n",
       "    </tr>\n",
       "    <tr>\n",
       "      <th>1</th>\n",
       "      <td>-0.396503</td>\n",
       "      <td>-0.557985</td>\n",
       "      <td>-0.080881</td>\n",
       "      <td>0.326020</td>\n",
       "      <td>0.391832</td>\n",
       "      <td>-0.046745</td>\n",
       "      <td>-0.057794</td>\n",
       "      <td>-2.195896</td>\n",
       "      <td>1.453279</td>\n",
       "      <td>-1.324643</td>\n",
       "    </tr>\n",
       "  </tbody>\n",
       "</table>\n",
       "</div>"
      ],
      "text/plain": [
       "   TOR_LENGTH  TOR_WIDTH  Duration  AverageDate  AverageTime    Deaths  \\\n",
       "0   -0.384696  -0.453753 -0.372725    -0.399389     0.034001 -0.046745   \n",
       "1   -0.396503  -0.557985 -0.080881     0.326020     0.391832 -0.046745   \n",
       "\n",
       "   Injuries  Mean_Lat  Mean_Lon   Azimuth  \n",
       "0 -0.057794  0.025597 -0.818166 -1.299679  \n",
       "1 -0.057794 -2.195896  1.453279 -1.324643  "
      ]
     },
     "execution_count": 31,
     "metadata": {},
     "output_type": "execute_result"
    }
   ],
   "source": [
    "# Standardizing numerical features:\n",
    "numfeat = ['TOR_LENGTH', 'TOR_WIDTH', 'Duration', 'AverageDate', 'AverageTime', \n",
    "           'Deaths', 'Injuries', 'Mean_Lat', 'Mean_Lon', 'Azimuth']\n",
    "scaler = StandardScaler()\n",
    "X1numfeat = pd.DataFrame(scaler.fit_transform(X1[numfeat]), columns=numfeat)\n",
    "X1numfeat.head(2)"
   ]
  },
  {
   "cell_type": "code",
   "execution_count": 35,
   "metadata": {},
   "outputs": [
    {
     "data": {
      "text/plain": [
       "TX    1551\n",
       "KS    1227\n",
       "Name: State, dtype: int64"
      ]
     },
     "execution_count": 35,
     "metadata": {},
     "output_type": "execute_result"
    }
   ],
   "source": [
    "# Checking which State we will drop after dummification (the most common one should be dropped):\n",
    "tornado_2007_2017.State.value_counts().head(2)"
   ]
  },
  {
   "cell_type": "code",
   "execution_count": 36,
   "metadata": {},
   "outputs": [
    {
     "data": {
      "text/plain": [
       "NWS_Storm_Survey    10349\n",
       "Trained_Spotter      1167\n",
       "Name: SOURCE, dtype: int64"
      ]
     },
     "execution_count": 36,
     "metadata": {},
     "output_type": "execute_result"
    }
   ],
   "source": [
    "# Checking which Source we will drop after dummification (the most common one should be dropped):\n",
    "tornado_2007_2017.SOURCE.value_counts().head(2)"
   ]
  },
  {
   "cell_type": "code",
   "execution_count": 37,
   "metadata": {},
   "outputs": [
    {
     "data": {
      "text/html": [
       "<div>\n",
       "<style scoped>\n",
       "    .dataframe tbody tr th:only-of-type {\n",
       "        vertical-align: middle;\n",
       "    }\n",
       "\n",
       "    .dataframe tbody tr th {\n",
       "        vertical-align: top;\n",
       "    }\n",
       "\n",
       "    .dataframe thead th {\n",
       "        text-align: right;\n",
       "    }\n",
       "</style>\n",
       "<table border=\"1\" class=\"dataframe\">\n",
       "  <thead>\n",
       "    <tr style=\"text-align: right;\">\n",
       "      <th></th>\n",
       "      <th>State_AL</th>\n",
       "      <th>State_AR</th>\n",
       "      <th>State_AZ</th>\n",
       "      <th>State_CA</th>\n",
       "      <th>State_CO</th>\n",
       "      <th>State_CT</th>\n",
       "      <th>State_DC</th>\n",
       "      <th>State_DE</th>\n",
       "      <th>State_FL</th>\n",
       "      <th>State_GA</th>\n",
       "      <th>...</th>\n",
       "      <th>Source_Official_NWS_Observations</th>\n",
       "      <th>Source_Other_Federal_Agency</th>\n",
       "      <th>Source_Park/Forest_Service</th>\n",
       "      <th>Source_Public</th>\n",
       "      <th>Source_Social_Media</th>\n",
       "      <th>Source_State_Official</th>\n",
       "      <th>Source_Storm_Chaser</th>\n",
       "      <th>Source_Trained_Spotter</th>\n",
       "      <th>Source_Unknown</th>\n",
       "      <th>Source_Utility_Company</th>\n",
       "    </tr>\n",
       "  </thead>\n",
       "  <tbody>\n",
       "    <tr>\n",
       "      <th>0</th>\n",
       "      <td>0</td>\n",
       "      <td>0</td>\n",
       "      <td>0</td>\n",
       "      <td>0</td>\n",
       "      <td>0</td>\n",
       "      <td>0</td>\n",
       "      <td>0</td>\n",
       "      <td>0</td>\n",
       "      <td>0</td>\n",
       "      <td>0</td>\n",
       "      <td>...</td>\n",
       "      <td>0</td>\n",
       "      <td>0</td>\n",
       "      <td>0</td>\n",
       "      <td>0</td>\n",
       "      <td>0</td>\n",
       "      <td>0</td>\n",
       "      <td>0</td>\n",
       "      <td>0</td>\n",
       "      <td>0</td>\n",
       "      <td>0</td>\n",
       "    </tr>\n",
       "    <tr>\n",
       "      <th>1</th>\n",
       "      <td>0</td>\n",
       "      <td>0</td>\n",
       "      <td>0</td>\n",
       "      <td>0</td>\n",
       "      <td>0</td>\n",
       "      <td>0</td>\n",
       "      <td>0</td>\n",
       "      <td>0</td>\n",
       "      <td>1</td>\n",
       "      <td>0</td>\n",
       "      <td>...</td>\n",
       "      <td>0</td>\n",
       "      <td>0</td>\n",
       "      <td>0</td>\n",
       "      <td>0</td>\n",
       "      <td>0</td>\n",
       "      <td>0</td>\n",
       "      <td>0</td>\n",
       "      <td>0</td>\n",
       "      <td>0</td>\n",
       "      <td>0</td>\n",
       "    </tr>\n",
       "  </tbody>\n",
       "</table>\n",
       "<p>2 rows × 76 columns</p>\n",
       "</div>"
      ],
      "text/plain": [
       "   State_AL  State_AR  State_AZ  State_CA  State_CO  State_CT  State_DC  \\\n",
       "0         0         0         0         0         0         0         0   \n",
       "1         0         0         0         0         0         0         0   \n",
       "\n",
       "   State_DE  State_FL  State_GA           ...            \\\n",
       "0         0         0         0           ...             \n",
       "1         0         1         0           ...             \n",
       "\n",
       "   Source_Official_NWS_Observations  Source_Other_Federal_Agency  \\\n",
       "0                                 0                            0   \n",
       "1                                 0                            0   \n",
       "\n",
       "   Source_Park/Forest_Service  Source_Public  Source_Social_Media  \\\n",
       "0                           0              0                    0   \n",
       "1                           0              0                    0   \n",
       "\n",
       "   Source_State_Official  Source_Storm_Chaser  Source_Trained_Spotter  \\\n",
       "0                      0                    0                       0   \n",
       "1                      0                    0                       0   \n",
       "\n",
       "   Source_Unknown  Source_Utility_Company  \n",
       "0               0                       0  \n",
       "1               0                       0  \n",
       "\n",
       "[2 rows x 76 columns]"
      ]
     },
     "execution_count": 37,
     "metadata": {},
     "output_type": "execute_result"
    }
   ],
   "source": [
    "X1dums = pd.get_dummies(X1[['State','SOURCE']], prefix=['State','Source'],\n",
    "                        columns=['State','SOURCE'])\n",
    "X1dums.drop(['State_TX','Source_NWS_Storm_Survey'], axis=1, inplace=True)\n",
    "X1dums.head(2)"
   ]
  },
  {
   "cell_type": "code",
   "execution_count": 39,
   "metadata": {},
   "outputs": [
    {
     "name": "stdout",
     "output_type": "stream",
     "text": [
      "(16353, 86) (16353, 10) (16353, 76)\n"
     ]
    },
    {
     "data": {
      "text/html": [
       "<div>\n",
       "<style scoped>\n",
       "    .dataframe tbody tr th:only-of-type {\n",
       "        vertical-align: middle;\n",
       "    }\n",
       "\n",
       "    .dataframe tbody tr th {\n",
       "        vertical-align: top;\n",
       "    }\n",
       "\n",
       "    .dataframe thead th {\n",
       "        text-align: right;\n",
       "    }\n",
       "</style>\n",
       "<table border=\"1\" class=\"dataframe\">\n",
       "  <thead>\n",
       "    <tr style=\"text-align: right;\">\n",
       "      <th></th>\n",
       "      <th>TOR_LENGTH</th>\n",
       "      <th>TOR_WIDTH</th>\n",
       "      <th>Duration</th>\n",
       "      <th>AverageDate</th>\n",
       "      <th>AverageTime</th>\n",
       "      <th>Deaths</th>\n",
       "      <th>Injuries</th>\n",
       "      <th>Mean_Lat</th>\n",
       "      <th>Mean_Lon</th>\n",
       "      <th>Azimuth</th>\n",
       "      <th>...</th>\n",
       "      <th>Source_Official_NWS_Observations</th>\n",
       "      <th>Source_Other_Federal_Agency</th>\n",
       "      <th>Source_Park/Forest_Service</th>\n",
       "      <th>Source_Public</th>\n",
       "      <th>Source_Social_Media</th>\n",
       "      <th>Source_State_Official</th>\n",
       "      <th>Source_Storm_Chaser</th>\n",
       "      <th>Source_Trained_Spotter</th>\n",
       "      <th>Source_Unknown</th>\n",
       "      <th>Source_Utility_Company</th>\n",
       "    </tr>\n",
       "  </thead>\n",
       "  <tbody>\n",
       "    <tr>\n",
       "      <th>0</th>\n",
       "      <td>-0.384696</td>\n",
       "      <td>-0.453753</td>\n",
       "      <td>-0.372725</td>\n",
       "      <td>-0.399389</td>\n",
       "      <td>0.034001</td>\n",
       "      <td>-0.046745</td>\n",
       "      <td>-0.057794</td>\n",
       "      <td>0.025597</td>\n",
       "      <td>-0.818166</td>\n",
       "      <td>-1.299679</td>\n",
       "      <td>...</td>\n",
       "      <td>0</td>\n",
       "      <td>0</td>\n",
       "      <td>0</td>\n",
       "      <td>0</td>\n",
       "      <td>0</td>\n",
       "      <td>0</td>\n",
       "      <td>0</td>\n",
       "      <td>0</td>\n",
       "      <td>0</td>\n",
       "      <td>0</td>\n",
       "    </tr>\n",
       "    <tr>\n",
       "      <th>1</th>\n",
       "      <td>-0.396503</td>\n",
       "      <td>-0.557985</td>\n",
       "      <td>-0.080881</td>\n",
       "      <td>0.326020</td>\n",
       "      <td>0.391832</td>\n",
       "      <td>-0.046745</td>\n",
       "      <td>-0.057794</td>\n",
       "      <td>-2.195896</td>\n",
       "      <td>1.453279</td>\n",
       "      <td>-1.324643</td>\n",
       "      <td>...</td>\n",
       "      <td>0</td>\n",
       "      <td>0</td>\n",
       "      <td>0</td>\n",
       "      <td>0</td>\n",
       "      <td>0</td>\n",
       "      <td>0</td>\n",
       "      <td>0</td>\n",
       "      <td>0</td>\n",
       "      <td>0</td>\n",
       "      <td>0</td>\n",
       "    </tr>\n",
       "  </tbody>\n",
       "</table>\n",
       "<p>2 rows × 86 columns</p>\n",
       "</div>"
      ],
      "text/plain": [
       "   TOR_LENGTH  TOR_WIDTH  Duration  AverageDate  AverageTime    Deaths  \\\n",
       "0   -0.384696  -0.453753 -0.372725    -0.399389     0.034001 -0.046745   \n",
       "1   -0.396503  -0.557985 -0.080881     0.326020     0.391832 -0.046745   \n",
       "\n",
       "   Injuries  Mean_Lat  Mean_Lon   Azimuth           ...            \\\n",
       "0 -0.057794  0.025597 -0.818166 -1.299679           ...             \n",
       "1 -0.057794 -2.195896  1.453279 -1.324643           ...             \n",
       "\n",
       "   Source_Official_NWS_Observations  Source_Other_Federal_Agency  \\\n",
       "0                                 0                            0   \n",
       "1                                 0                            0   \n",
       "\n",
       "   Source_Park/Forest_Service  Source_Public  Source_Social_Media  \\\n",
       "0                           0              0                    0   \n",
       "1                           0              0                    0   \n",
       "\n",
       "   Source_State_Official  Source_Storm_Chaser  Source_Trained_Spotter  \\\n",
       "0                      0                    0                       0   \n",
       "1                      0                    0                       0   \n",
       "\n",
       "   Source_Unknown  Source_Utility_Company  \n",
       "0               0                       0  \n",
       "1               0                       0  \n",
       "\n",
       "[2 rows x 86 columns]"
      ]
     },
     "execution_count": 39,
     "metadata": {},
     "output_type": "execute_result"
    }
   ],
   "source": [
    "# Putting back together the standardized and dummifies features:\n",
    "X1 = pd.concat([X1numfeat,X1dums], axis=1)\n",
    "print(X1.shape, X1numfeat.shape, X1dums.shape)\n",
    "X1.head(2)"
   ]
  },
  {
   "cell_type": "code",
   "execution_count": 40,
   "metadata": {},
   "outputs": [],
   "source": [
    "Xtrain1, Xtest1, ytrain1, ytest1 = train_test_split(X1, y1, test_size=0.3, \n",
    "                                                    stratify=y1, random_state=31)"
   ]
  },
  {
   "cell_type": "code",
   "execution_count": 41,
   "metadata": {},
   "outputs": [
    {
     "data": {
      "text/plain": [
       "EF0    2585\n",
       "EF1    1642\n",
       "EF2     475\n",
       "EF3     134\n",
       "EFU      35\n",
       "EF4      31\n",
       "EF5       4\n",
       "Name: TOR_F_SCALE, dtype: int64"
      ]
     },
     "execution_count": 41,
     "metadata": {},
     "output_type": "execute_result"
    }
   ],
   "source": [
    "ytest1.value_counts()"
   ]
  },
  {
   "cell_type": "code",
   "execution_count": 46,
   "metadata": {},
   "outputs": [
    {
     "name": "stdout",
     "output_type": "stream",
     "text": [
      "Accuracy | Test\t\t | Baseline\t\t | EF0 tornados:\t 0.527\n"
     ]
    }
   ],
   "source": [
    "ytest_valcounts = ytest1.value_counts()\n",
    "accuracy_baseline = ytest_valcounts.get_values()[0]/float(ytest_valcounts.get_values().sum())\n",
    "print(\"Accuracy | Test\\t\\t | Baseline\\t\\t | EF0 tornados:\\t\", round(accuracy_baseline, 3))"
   ]
  },
  {
   "cell_type": "code",
   "execution_count": 47,
   "metadata": {},
   "outputs": [
    {
     "name": "stdout",
     "output_type": "stream",
     "text": [
      "Accuracy | Train CV5\t | Logistic Regresssion\t | Default params:\t 0.669\n"
     ]
    }
   ],
   "source": [
    "#LOGISTIC REGRESSION\n",
    "lr1 = LogisticRegression()\n",
    "accuracy_cv5_lr1 = np.mean(cross_val_score(lr1, Xtrain1, ytrain1, cv=5))\n",
    "print(\"Accuracy | Train CV5\\t | Logistic Regresssion\\t | Default params:\\t\", round(accuracy_cv5_lr1, 3))"
   ]
  },
  {
   "cell_type": "code",
   "execution_count": 48,
   "metadata": {},
   "outputs": [
    {
     "name": "stdout",
     "output_type": "stream",
     "text": [
      "Accuracy | Test\t\t | Logistic Regresssion\t | Default params:\t 0.671\n"
     ]
    }
   ],
   "source": [
    "lr1.fit(Xtrain1, ytrain1)\n",
    "yhat1_lr1 = lr1.predict(Xtest1)\n",
    "accuracy_lr1 = accuracy_score(ytest1, yhat1_lr1)\n",
    "print(\"Accuracy | Test\\t\\t | Logistic Regresssion\\t | Default params:\\t\", round(accuracy_lr1, 3))"
   ]
  },
  {
   "cell_type": "code",
   "execution_count": 49,
   "metadata": {},
   "outputs": [
    {
     "data": {
      "text/plain": [
       "GridSearchCV(cv=5, error_score='raise-deprecating',\n",
       "       estimator=LogisticRegression(C=1.0, class_weight=None, dual=False, fit_intercept=True,\n",
       "          intercept_scaling=1, max_iter=100, multi_class='warn',\n",
       "          n_jobs=None, penalty='l2', random_state=None, solver='warn',\n",
       "          tol=0.0001, verbose=0, warm_start=False),\n",
       "       fit_params=None, iid='warn', n_jobs=None,\n",
       "       param_grid={'penalty': ['l1', 'l2'], 'C': array([1.e+02, 1.e+03, 1.e+04, 1.e+05, 1.e+06])},\n",
       "       pre_dispatch='2*n_jobs', refit=True, return_train_score='warn',\n",
       "       scoring=None, verbose=0)"
      ]
     },
     "execution_count": 49,
     "metadata": {},
     "output_type": "execute_result"
    }
   ],
   "source": [
    "#OPTIMIZATION\n",
    "params_logreg_v1 = {'penalty': ['l1','l2'], 'C':np.logspace(2,6,5)}\n",
    "lr2 = GridSearchCV(lr1, param_grid=params_logreg_v1, cv=5)\n",
    "lr2.fit(Xtrain1, ytrain1)"
   ]
  },
  {
   "cell_type": "code",
   "execution_count": 50,
   "metadata": {},
   "outputs": [
    {
     "data": {
      "text/plain": [
       "{'C': 100.0, 'penalty': 'l1'}"
      ]
     },
     "execution_count": 50,
     "metadata": {},
     "output_type": "execute_result"
    }
   ],
   "source": [
    "lr2.best_params_"
   ]
  },
  {
   "cell_type": "code",
   "execution_count": 51,
   "metadata": {},
   "outputs": [
    {
     "name": "stdout",
     "output_type": "stream",
     "text": [
      "Accuracy | Train CV5\t | Logistic Regresssion\t | Optimal params:\t 0.67\n"
     ]
    }
   ],
   "source": [
    "print (\"Accuracy | Train CV5\\t | Logistic Regresssion\\t | Optimal params:\\t\", round(lr2.best_score_, 3))"
   ]
  },
  {
   "cell_type": "code",
   "execution_count": 52,
   "metadata": {},
   "outputs": [
    {
     "name": "stdout",
     "output_type": "stream",
     "text": [
      "Accuracy | Test\t\t | Logistic Regresssion\t | Optimal params:\t 0.671\n"
     ]
    }
   ],
   "source": [
    "lr3 = lr2.best_estimator_.fit(Xtrain1, ytrain1)\n",
    "yhat1_lr3 = lr3.predict(Xtest1)\n",
    "accuracy_lr3 = accuracy_score(ytest1, yhat1_lr3)\n",
    "print(\"Accuracy | Test\\t\\t | Logistic Regresssion\\t | Optimal params:\\t\", round(accuracy_lr3, 3))"
   ]
  },
  {
   "cell_type": "code",
   "execution_count": 55,
   "metadata": {},
   "outputs": [
    {
     "name": "stdout",
     "output_type": "stream",
     "text": [
      "0.678\n"
     ]
    }
   ],
   "source": [
    "#RANDOM FOREST \n",
    "rf1 = RandomForestClassifier(random_state=31)\n",
    "accuracy_cv5_rf1 = np.mean(cross_val_score(rf1, Xtrain1, ytrain1, cv=5))\n",
    "print(round(accuracy_cv5_rf1, 3))\n",
    "\n",
    "# rf = RandomForestClassifier(n_estimators=200)\n",
    "# rf = rf.fit(iris.data, iris.target)\n",
    "# rf.score(iris.data, iris.target)"
   ]
  },
  {
   "cell_type": "code",
   "execution_count": 56,
   "metadata": {},
   "outputs": [
    {
     "name": "stdout",
     "output_type": "stream",
     "text": [
      "Accuracy | Test\t\t | Random Forest\t | Default params:\t 0.68\n"
     ]
    }
   ],
   "source": [
    "rf1.fit(Xtrain1, ytrain1)\n",
    "yhat1_rf1 = rf1.predict(Xtest1)\n",
    "accuracy_rf1 = accuracy_score(ytest1, yhat1_rf1)\n",
    "print(\"Accuracy | Test\\t\\t | Random Forest\\t | Default params:\\t\", round(accuracy_rf1, 3))"
   ]
  },
  {
   "cell_type": "code",
   "execution_count": 57,
   "metadata": {},
   "outputs": [
    {
     "name": "stdout",
     "output_type": "stream",
     "text": [
      "Accuracy | Test\t\t | Random Forest\t | Part2 params:\t\t 0.699\n"
     ]
    }
   ],
   "source": [
    "#USING BASE PARAMATERS \n",
    "rf2 = RandomForestClassifier(criterion='gini', max_depth=7, max_features=0.7, min_samples_leaf=1,\n",
    "                             min_samples_split=5, n_estimators=24, random_state=31)\n",
    "rf2.fit(Xtrain1, ytrain1)\n",
    "yhat1_rf2 = rf2.predict(Xtest1)\n",
    "accuracy_rf2 = accuracy_score(ytest1, yhat1_rf2)\n",
    "print(\"Accuracy | Test\\t\\t | Random Forest\\t | Part2 params:\\t\\t\", round(accuracy_rf2, 3))"
   ]
  },
  {
   "cell_type": "code",
   "execution_count": 61,
   "metadata": {},
   "outputs": [
    {
     "data": {
      "image/png": "[encoded data removed]",
      "text/plain": [
       "<Figure size 504x360 with 2 Axes>"
      ]
     },
     "metadata": {},
     "output_type": "display_data"
    }
   ],
   "source": [
    "# Computing the confusion matrix\n",
    "confmatrix_rf2 = confusion_matrix(ytest1, rf2.predict(Xtest1))\n",
    "\n",
    "# Plotting it using the function:\n",
    "sns.set(font_scale=1.5)\n",
    "plt.figure(figsize=(7,5))\n",
    "plot_confusion_matrix(confmatrix_rf2, rf2.classes_,\n",
    "                      'Confusion matrix - Random Forest - Part2 hyperparameters',\n",
    "                      xlab='Predicted EF scale magnitude', ylab='True EF scale magnitude')\n",
    "plt.show()"
   ]
  },
  {
   "cell_type": "code",
   "execution_count": 62,
   "metadata": {},
   "outputs": [
    {
     "name": "stdout",
     "output_type": "stream",
     "text": [
      "Fitting 5 folds for each of 288 candidates, totalling 1440 fits\n"
     ]
    },
    {
     "name": "stderr",
     "output_type": "stream",
     "text": [
      "[Parallel(n_jobs=2)]: Using backend LokyBackend with 2 concurrent workers.\n",
      "[Parallel(n_jobs=2)]: Done  46 tasks      | elapsed:   27.7s\n",
      "[Parallel(n_jobs=2)]: Done 196 tasks      | elapsed:  2.1min\n",
      "[Parallel(n_jobs=2)]: Done 446 tasks      | elapsed:  5.8min\n",
      "[Parallel(n_jobs=2)]: Done 796 tasks      | elapsed: 12.5min\n",
      "[Parallel(n_jobs=2)]: Done 1246 tasks      | elapsed: 21.4min\n",
      "[Parallel(n_jobs=2)]: Done 1440 out of 1440 | elapsed: 26.8min finished\n"
     ]
    },
    {
     "data": {
      "text/plain": [
       "GridSearchCV(cv=5, error_score='raise-deprecating',\n",
       "       estimator=RandomForestClassifier(bootstrap=True, class_weight=None, criterion='gini',\n",
       "            max_depth=None, max_features='auto', max_leaf_nodes=None,\n",
       "            min_impurity_decrease=0.0, min_impurity_split=None,\n",
       "            min_samples_leaf=1, min_samples_split=2,\n",
       "            min_weight_fraction_leaf=0.0, n_estimators=10, n_jobs=None,\n",
       "            oob_score=False, random_state=42, verbose=0, warm_start=False),\n",
       "       fit_params=None, iid='warn', n_jobs=2,\n",
       "       param_grid={'criterion': ['gini', 'entropy'], 'max_depth': [10, 15], 'max_features': [0.4, 0.6, 0.8], 'n_estimators': [20, 40, 60, 80], 'min_samples_split': [6, 10, 14], 'min_samples_leaf': [1, 2]},\n",
       "       pre_dispatch='2*n_jobs', refit=True, return_train_score='warn',\n",
       "       scoring=None, verbose=1)"
      ]
     },
     "execution_count": 62,
     "metadata": {},
     "output_type": "execute_result"
    }
   ],
   "source": [
    "params_randfor_v1 = {'criterion': ['gini','entropy'],\n",
    "                     'max_depth': [10,15],\n",
    "                     'max_features': [0.4,0.6,0.8],\n",
    "                     'n_estimators': [20, 40, 60, 80],\n",
    "                     'min_samples_split': [6, 10, 14],\n",
    "                     'min_samples_leaf': [1,2]\n",
    "                    }\n",
    "\n",
    "rf3 = GridSearchCV(rf1, param_grid=params_randfor_v1, cv=5, verbose=1, n_jobs=2)\n",
    "rf3.fit(Xtrain1, ytrain1)"
   ]
  },
  {
   "cell_type": "code",
   "execution_count": 63,
   "metadata": {},
   "outputs": [
    {
     "data": {
      "text/plain": [
       "{'criterion': 'entropy',\n",
       " 'max_depth': 15,\n",
       " 'max_features': 0.8,\n",
       " 'min_samples_leaf': 1,\n",
       " 'min_samples_split': 6,\n",
       " 'n_estimators': 60}"
      ]
     },
     "execution_count": 63,
     "metadata": {},
     "output_type": "execute_result"
    }
   ],
   "source": [
    "rf3.best_params_"
   ]
  },
  {
   "cell_type": "code",
   "execution_count": 64,
   "metadata": {},
   "outputs": [
    {
     "name": "stdout",
     "output_type": "stream",
     "text": [
      "Accuracy | Train CV5\t | Random Forest\t | Optimal params:\t 0.701\n"
     ]
    }
   ],
   "source": [
    "print(\"Accuracy | Train CV5\\t | Random Forest\\t | Optimal params:\\t\", round(rf3.best_score_, 3))"
   ]
  },
  {
   "cell_type": "code",
   "execution_count": 65,
   "metadata": {},
   "outputs": [
    {
     "name": "stdout",
     "output_type": "stream",
     "text": [
      "Accuracy | Test\t\t | Random Forest\t | Optimized params:\t 0.703\n"
     ]
    }
   ],
   "source": [
    "rf4 = rf3.best_estimator_\n",
    "rf4.fit(Xtrain1, ytrain1)\n",
    "\n",
    "yhat1_rf4 = rf4.predict(Xtest1)\n",
    "accuracy_rf4 = accuracy_score(ytest1, yhat1_rf4)\n",
    "print(\"Accuracy | Test\\t\\t | Random Forest\\t | Optimized params:\\t\", round(accuracy_rf4, 3))"
   ]
  },
  {
   "cell_type": "code",
   "execution_count": 66,
   "metadata": {},
   "outputs": [
    {
     "name": "stdout",
     "output_type": "stream",
     "text": [
      "Fitting 5 folds for each of 81 candidates, totalling 405 fits\n"
     ]
    },
    {
     "name": "stderr",
     "output_type": "stream",
     "text": [
      "[Parallel(n_jobs=2)]: Using backend LokyBackend with 2 concurrent workers.\n",
      "[Parallel(n_jobs=2)]: Done  46 tasks      | elapsed:   49.8s\n",
      "[Parallel(n_jobs=2)]: Done 196 tasks      | elapsed:  4.8min\n",
      "[Parallel(n_jobs=2)]: Done 405 out of 405 | elapsed:  9.9min finished\n"
     ]
    },
    {
     "name": "stdout",
     "output_type": "stream",
     "text": [
      "\n",
      "Best params: {'criterion': 'entropy', 'max_depth': 18, 'max_features': 0.5, 'min_samples_leaf': 1, 'min_samples_split': 9, 'n_estimators': 70}\n",
      "\n",
      "Accuracy | Train CV5\t | Random Forest\t | Optimal params:\t 0.701\n"
     ]
    }
   ],
   "source": [
    "params_randfor_v2 = {'criterion': ['entropy'],\n",
    "                     'max_depth': [16,18,20],\n",
    "                     'max_features': [0.3,0.4,0.5],\n",
    "                     'n_estimators': [68,70,72],\n",
    "                     'min_samples_split': [8,9,10],\n",
    "                     'min_samples_leaf': [1]\n",
    "                    }\n",
    "\n",
    "rf5 = GridSearchCV(rf1, param_grid=params_randfor_v2, cv=5, verbose=1, n_jobs=2)\n",
    "rf5.fit(Xtrain1, ytrain1)\n",
    "\n",
    "print(\"\\nBest params:\", rf5.best_params_)\n",
    "\n",
    "print(\"\\nAccuracy | Train CV5\\t | Random Forest\\t | Optimal params:\\t\", round(rf5.best_score_, 3))"
   ]
  },
  {
   "cell_type": "code",
   "execution_count": 67,
   "metadata": {},
   "outputs": [
    {
     "name": "stdout",
     "output_type": "stream",
     "text": [
      "Accuracy | Test\t\t | Random Forest\t | Optimized params:\t 0.706\n"
     ]
    }
   ],
   "source": [
    "# First time use after gridsearch: rf6 = rf5.best_estimator_\n",
    "# Not to have to rerun the gridsearch again:\n",
    "rf6 = RandomForestClassifier(criterion='entropy', max_depth=18, max_features=0.4, \n",
    "                             min_samples_leaf=1, min_samples_split=9, \n",
    "                             n_estimators=72, random_state=31)\n",
    "rf6.fit(Xtrain1, ytrain1)\n",
    "\n",
    "yhat1_rf6 = rf6.predict(Xtest1)\n",
    "accuracy_rf6 = accuracy_score(ytest1, yhat1_rf6)\n",
    "print(\"Accuracy | Test\\t\\t | Random Forest\\t | Optimized params:\\t\", round(accuracy_rf6, 3))"
   ]
  },
  {
   "cell_type": "code",
   "execution_count": 68,
   "metadata": {},
   "outputs": [
    {
     "data": {
      "image/png": "[encoded data removed]",
      "text/plain": [
       "<Figure size 504x360 with 2 Axes>"
      ]
     },
     "metadata": {},
     "output_type": "display_data"
    }
   ],
   "source": [
    "# Computing the confusion matrix\n",
    "confmatrix_rf6 = confusion_matrix(ytest1, rf6.predict(Xtest1))\n",
    "\n",
    "# Plotting it using the function:\n",
    "sns.set(font_scale=1.5)\n",
    "plt.figure(figsize=(7,5))\n",
    "plot_confusion_matrix(confmatrix_rf6, rf6.classes_,\n",
    "                      'Confusion matrix - Random Forest - Optimized hyperparameters',\n",
    "                      xlab='Predicted EF scale magnitude', ylab='True EF scale magnitude')\n",
    "plt.show()"
   ]
  },
  {
   "cell_type": "code",
   "execution_count": 69,
   "metadata": {},
   "outputs": [
    {
     "data": {
      "text/html": [
       "<div>\n",
       "<style scoped>\n",
       "    .dataframe tbody tr th:only-of-type {\n",
       "        vertical-align: middle;\n",
       "    }\n",
       "\n",
       "    .dataframe tbody tr th {\n",
       "        vertical-align: top;\n",
       "    }\n",
       "\n",
       "    .dataframe thead th {\n",
       "        text-align: right;\n",
       "    }\n",
       "</style>\n",
       "<table border=\"1\" class=\"dataframe\">\n",
       "  <thead>\n",
       "    <tr style=\"text-align: right;\">\n",
       "      <th></th>\n",
       "      <th>TOR_LENGTH</th>\n",
       "      <th>TOR_WIDTH</th>\n",
       "      <th>Duration</th>\n",
       "      <th>AverageDate</th>\n",
       "      <th>AverageTime</th>\n",
       "      <th>Deaths</th>\n",
       "      <th>Injuries</th>\n",
       "      <th>Mean_Lat</th>\n",
       "      <th>Mean_Lon</th>\n",
       "      <th>Azimuth</th>\n",
       "      <th>...</th>\n",
       "      <th>Source_Official_NWS_Observations</th>\n",
       "      <th>Source_Other_Federal_Agency</th>\n",
       "      <th>Source_Park/Forest_Service</th>\n",
       "      <th>Source_Public</th>\n",
       "      <th>Source_Social_Media</th>\n",
       "      <th>Source_State_Official</th>\n",
       "      <th>Source_Storm_Chaser</th>\n",
       "      <th>Source_Trained_Spotter</th>\n",
       "      <th>Source_Unknown</th>\n",
       "      <th>Source_Utility_Company</th>\n",
       "    </tr>\n",
       "  </thead>\n",
       "  <tbody>\n",
       "    <tr>\n",
       "      <th>Importances</th>\n",
       "      <td>0.151527</td>\n",
       "      <td>0.240328</td>\n",
       "      <td>0.070915</td>\n",
       "      <td>0.060825</td>\n",
       "      <td>0.071346</td>\n",
       "      <td>0.015278</td>\n",
       "      <td>0.05557</td>\n",
       "      <td>0.076984</td>\n",
       "      <td>0.096865</td>\n",
       "      <td>0.065869</td>\n",
       "      <td>...</td>\n",
       "      <td>0.000017</td>\n",
       "      <td>0.001288</td>\n",
       "      <td>0.000403</td>\n",
       "      <td>0.002201</td>\n",
       "      <td>0.000007</td>\n",
       "      <td>0.000022</td>\n",
       "      <td>0.013941</td>\n",
       "      <td>0.006561</td>\n",
       "      <td>0.0</td>\n",
       "      <td>0.000082</td>\n",
       "    </tr>\n",
       "  </tbody>\n",
       "</table>\n",
       "<p>1 rows × 86 columns</p>\n",
       "</div>"
      ],
      "text/plain": [
       "             TOR_LENGTH  TOR_WIDTH  Duration  AverageDate  AverageTime  \\\n",
       "Importances    0.151527   0.240328  0.070915     0.060825     0.071346   \n",
       "\n",
       "               Deaths  Injuries  Mean_Lat  Mean_Lon   Azimuth  \\\n",
       "Importances  0.015278   0.05557  0.076984  0.096865  0.065869   \n",
       "\n",
       "                      ...            Source_Official_NWS_Observations  \\\n",
       "Importances           ...                                    0.000017   \n",
       "\n",
       "             Source_Other_Federal_Agency  Source_Park/Forest_Service  \\\n",
       "Importances                     0.001288                    0.000403   \n",
       "\n",
       "             Source_Public  Source_Social_Media  Source_State_Official  \\\n",
       "Importances       0.002201             0.000007               0.000022   \n",
       "\n",
       "             Source_Storm_Chaser  Source_Trained_Spotter  Source_Unknown  \\\n",
       "Importances             0.013941                0.006561             0.0   \n",
       "\n",
       "             Source_Utility_Company  \n",
       "Importances                0.000082  \n",
       "\n",
       "[1 rows x 86 columns]"
      ]
     },
     "execution_count": 69,
     "metadata": {},
     "output_type": "execute_result"
    }
   ],
   "source": [
    "# Creating a DF out of the coefficients, and sorting them in order of importance of \n",
    "# their absolute value:\n",
    "importanceDF_rf6 = pd.DataFrame({'Importances': rf6.feature_importances_},\n",
    "                          index = Xtrain1.columns)\n",
    "importanceDF_rf6.T"
   ]
  },
  {
   "cell_type": "code",
   "execution_count": 70,
   "metadata": {},
   "outputs": [
    {
     "data": {
      "text/html": [
       "<div>\n",
       "<style scoped>\n",
       "    .dataframe tbody tr th:only-of-type {\n",
       "        vertical-align: middle;\n",
       "    }\n",
       "\n",
       "    .dataframe tbody tr th {\n",
       "        vertical-align: top;\n",
       "    }\n",
       "\n",
       "    .dataframe thead th {\n",
       "        text-align: right;\n",
       "    }\n",
       "</style>\n",
       "<table border=\"1\" class=\"dataframe\">\n",
       "  <thead>\n",
       "    <tr style=\"text-align: right;\">\n",
       "      <th></th>\n",
       "      <th>Importances</th>\n",
       "    </tr>\n",
       "  </thead>\n",
       "  <tbody>\n",
       "    <tr>\n",
       "      <th>TOR_WIDTH</th>\n",
       "      <td>0.240328</td>\n",
       "    </tr>\n",
       "    <tr>\n",
       "      <th>TOR_LENGTH</th>\n",
       "      <td>0.151527</td>\n",
       "    </tr>\n",
       "    <tr>\n",
       "      <th>Mean_Lon</th>\n",
       "      <td>0.096865</td>\n",
       "    </tr>\n",
       "  </tbody>\n",
       "</table>\n",
       "</div>"
      ],
      "text/plain": [
       "            Importances\n",
       "TOR_WIDTH      0.240328\n",
       "TOR_LENGTH     0.151527\n",
       "Mean_Lon       0.096865"
      ]
     },
     "execution_count": 70,
     "metadata": {},
     "output_type": "execute_result"
    }
   ],
   "source": [
    "# Most important features:\n",
    "mostimp_rf6 = importanceDF_rf6.sort_values(by=\"Importances\", ascending=False)\n",
    "mostimp_rf6.head(3)"
   ]
  },
  {
   "cell_type": "code",
   "execution_count": 80,
   "metadata": {},
   "outputs": [],
   "source": [
    "# Horizontal bar plot\n"
   ]
  },
  {
   "cell_type": "markdown",
   "metadata": {},
   "source": [
    "Neural Network "
   ]
  },
  {
   "cell_type": "code",
   "execution_count": 82,
   "metadata": {},
   "outputs": [
    {
     "name": "stdout",
     "output_type": "stream",
     "text": [
      "(16353, 10)\n"
     ]
    }
   ],
   "source": [
    "X2 = X1numfeat.copy()\n",
    "print(X2.shape)"
   ]
  },
  {
   "cell_type": "code",
   "execution_count": 83,
   "metadata": {},
   "outputs": [],
   "source": [
    "Xtrain2, Xtest2, ytrain2, ytest2 = train_test_split(X2, y1, test_size=0.3, \n",
    "                                                    stratify=y1, random_state=31)"
   ]
  },
  {
   "cell_type": "code",
   "execution_count": 85,
   "metadata": {},
   "outputs": [
    {
     "name": "stdout",
     "output_type": "stream",
     "text": [
      "Accuracy | Train CV5\t | Logistic Regresssion\t | Default params\t | No dummies:\t\n"
     ]
    },
    {
     "data": {
      "text/plain": [
       "(None, 0.641)"
      ]
     },
     "execution_count": 85,
     "metadata": {},
     "output_type": "execute_result"
    }
   ],
   "source": [
    "# Same parameters as the best one we obtained:\n",
    "lr4 = LogisticRegression(penalty='l2', C=1000000)\n",
    "accuracy_cv5_lr4 = np.mean(cross_val_score(lr4, Xtrain2, ytrain2, cv=5))\n",
    "print (\"Accuracy | Train CV5\\t | Logistic Regresssion\\t | Default params\\t | No dummies:\\t\"), round(accuracy_cv5_lr4, 3)"
   ]
  },
  {
   "cell_type": "code",
   "execution_count": 86,
   "metadata": {},
   "outputs": [
    {
     "name": "stdout",
     "output_type": "stream",
     "text": [
      "Accuracy | Test\t\t | Logistic Regresssion\t | Default params\t | No dummies:\t\n"
     ]
    },
    {
     "data": {
      "text/plain": [
       "(None, 0.638)"
      ]
     },
     "execution_count": 86,
     "metadata": {},
     "output_type": "execute_result"
    }
   ],
   "source": [
    "\n",
    "lr4.fit(Xtrain2, ytrain2)\n",
    "yhat2_lr4 = lr4.predict(Xtest2)\n",
    "accuracy_lr4 = accuracy_score(ytest2, yhat2_lr4)\n",
    "print (\"Accuracy | Test\\t\\t | Logistic Regresssion\\t | Default params\\t | No dummies:\\t\"), round(accuracy_lr4, 3)"
   ]
  },
  {
   "cell_type": "code",
   "execution_count": 87,
   "metadata": {},
   "outputs": [
    {
     "name": "stdout",
     "output_type": "stream",
     "text": [
      "Accuracy | Train CV5\t | Random Forest\t | Default params\t | No dummies:\t\n"
     ]
    },
    {
     "data": {
      "text/plain": [
       "(None, 0.692)"
      ]
     },
     "execution_count": 87,
     "metadata": {},
     "output_type": "execute_result"
    }
   ],
   "source": [
    "# Same parameters as the best one we obtained:\n",
    "rf7 = RandomForestClassifier(criterion='entropy', max_depth=18, max_features=0.4, \n",
    "                             min_samples_leaf=1, min_samples_split=9,\n",
    "                             n_estimators=72, random_state=31)\n",
    "accuracy_cv5_rf7 = np.mean(cross_val_score(rf7, Xtrain2, ytrain2, cv=5))\n",
    "print (\"Accuracy | Train CV5\\t | Random Forest\\t | Default params\\t | No dummies:\\t\"), round(accuracy_cv5_rf7, 3)"
   ]
  },
  {
   "cell_type": "code",
   "execution_count": 88,
   "metadata": {},
   "outputs": [
    {
     "name": "stdout",
     "output_type": "stream",
     "text": [
      "Accuracy | Test\t\t | Random Forest\t | Default params\t | No dummies:\t\n"
     ]
    },
    {
     "data": {
      "text/plain": [
       "(None, 0.706)"
      ]
     },
     "execution_count": 88,
     "metadata": {},
     "output_type": "execute_result"
    }
   ],
   "source": [
    "rf7.fit(Xtrain2, ytrain2)\n",
    "yhat2_rf7 = rf7.predict(Xtest2)\n",
    "accuracy_rf7 = accuracy_score(ytest2, yhat2_rf7)\n",
    "print (\"Accuracy | Test\\t\\t | Random Forest\\t | Default params\\t | No dummies:\\t\"), round(accuracy_rf7, 3)"
   ]
  },
  {
   "cell_type": "code",
   "execution_count": 95,
   "metadata": {},
   "outputs": [],
   "source": [
    "#X2.reset_index(drop=True, inplace=True)\n",
    "np.random.seed(7)\n",
    "# create model\n",
    "model = Sequential()\n",
    "model.add(Dense(10, input_dim=10, activation='relu'))\n",
    "model.add(Dense(10, activation='relu'))\n",
    "model.add(Dense(1, activation='sigmoid'))"
   ]
  },
  {
   "cell_type": "code",
   "execution_count": 96,
   "metadata": {},
   "outputs": [],
   "source": [
    "# Compile model\n",
    "model.compile(loss='binary_crossentropy', optimizer='adam', metrics=['accuracy'])"
   ]
  },
  {
   "cell_type": "code",
   "execution_count": 97,
   "metadata": {},
   "outputs": [
    {
     "name": "stdout",
     "output_type": "stream",
     "text": [
      "WARNING:tensorflow:From /anaconda3/lib/python3.7/site-packages/tensorflow/python/ops/math_ops.py:3066: to_int32 (from tensorflow.python.ops.math_ops) is deprecated and will be removed in a future version.\n",
      "Instructions for updating:\n",
      "Use tf.cast instead.\n",
      "Epoch 1/150\n",
      "11447/11447 [==============================] - 1s 128us/step - loss: -0.5566 - acc: 0.5661\n",
      "Epoch 2/150\n",
      "11447/11447 [==============================] - 1s 93us/step - loss: -1.3393 - acc: 0.6510\n",
      "Epoch 3/150\n",
      "11447/11447 [==============================] - 1s 93us/step - loss: -1.4472 - acc: 0.6603\n",
      "Epoch 4/150\n",
      "11447/11447 [==============================] - 1s 94us/step - loss: -1.4842 - acc: 0.6645\n",
      "Epoch 5/150\n",
      "11447/11447 [==============================] - 1s 94us/step - loss: -1.5078 - acc: 0.6645\n",
      "Epoch 6/150\n",
      "11447/11447 [==============================] - 1s 94us/step - loss: -1.5236 - acc: 0.6643\n",
      "Epoch 7/150\n",
      "11447/11447 [==============================] - 1s 93us/step - loss: -1.5403 - acc: 0.6665\n",
      "Epoch 8/150\n",
      "11447/11447 [==============================] - 1s 93us/step - loss: -1.5529 - acc: 0.6679\n",
      "Epoch 9/150\n",
      "11447/11447 [==============================] - 1s 93us/step - loss: -1.5618 - acc: 0.6673\n",
      "Epoch 10/150\n",
      "11447/11447 [==============================] - 1s 94us/step - loss: -1.5741 - acc: 0.6660\n",
      "Epoch 11/150\n",
      "11447/11447 [==============================] - 1s 95us/step - loss: -1.5811 - acc: 0.6654\n",
      "Epoch 12/150\n",
      "11447/11447 [==============================] - 1s 94us/step - loss: -1.5878 - acc: 0.6645\n",
      "Epoch 13/150\n",
      "11447/11447 [==============================] - 1s 94us/step - loss: -1.5911 - acc: 0.6662\n",
      "Epoch 14/150\n",
      "11447/11447 [==============================] - 1s 93us/step - loss: -1.5992 - acc: 0.6660\n",
      "Epoch 15/150\n",
      "11447/11447 [==============================] - 1s 94us/step - loss: -1.6038 - acc: 0.6651\n",
      "Epoch 16/150\n",
      "11447/11447 [==============================] - 1s 96us/step - loss: -1.6079 - acc: 0.6665\n",
      "Epoch 17/150\n",
      "11447/11447 [==============================] - 1s 106us/step - loss: -1.6155 - acc: 0.6647\n",
      "Epoch 18/150\n",
      "11447/11447 [==============================] - 1s 100us/step - loss: -1.6194 - acc: 0.6667\n",
      "Epoch 19/150\n",
      "11447/11447 [==============================] - 1s 101us/step - loss: -1.6217 - acc: 0.6641\n",
      "Epoch 20/150\n",
      "11447/11447 [==============================] - 1s 101us/step - loss: -1.6293 - acc: 0.6659\n",
      "Epoch 21/150\n",
      "11447/11447 [==============================] - 1s 109us/step - loss: -1.6321 - acc: 0.6645\n",
      "Epoch 22/150\n",
      "11447/11447 [==============================] - 1s 103us/step - loss: -1.6357 - acc: 0.6633\n",
      "Epoch 23/150\n",
      "11447/11447 [==============================] - 1s 95us/step - loss: -1.6385 - acc: 0.6681\n",
      "Epoch 24/150\n",
      "11447/11447 [==============================] - 1s 94us/step - loss: -1.6426 - acc: 0.6687\n",
      "Epoch 25/150\n",
      "11447/11447 [==============================] - 1s 94us/step - loss: -1.6464 - acc: 0.6676\n",
      "Epoch 26/150\n",
      "11447/11447 [==============================] - 1s 94us/step - loss: -1.6499 - acc: 0.6672\n",
      "Epoch 27/150\n",
      "11447/11447 [==============================] - 1s 99us/step - loss: -1.6525 - acc: 0.6667\n",
      "Epoch 28/150\n",
      "11447/11447 [==============================] - 1s 103us/step - loss: -1.6529 - acc: 0.6646\n",
      "Epoch 29/150\n",
      "11447/11447 [==============================] - 1s 94us/step - loss: -1.6580 - acc: 0.6654\n",
      "Epoch 30/150\n",
      "11447/11447 [==============================] - 1s 94us/step - loss: -1.6599 - acc: 0.6677\n",
      "Epoch 31/150\n",
      "11447/11447 [==============================] - 1s 94us/step - loss: -1.6615 - acc: 0.6697\n",
      "Epoch 32/150\n",
      "11447/11447 [==============================] - 1s 94us/step - loss: -1.6634 - acc: 0.6680\n",
      "Epoch 33/150\n",
      "11447/11447 [==============================] - 1s 99us/step - loss: -1.6613 - acc: 0.6686\n",
      "Epoch 34/150\n",
      "11447/11447 [==============================] - 1s 103us/step - loss: -1.6623 - acc: 0.6677\n",
      "Epoch 35/150\n",
      "11447/11447 [==============================] - 1s 94us/step - loss: -1.6665 - acc: 0.6680\n",
      "Epoch 36/150\n",
      "11447/11447 [==============================] - 1s 98us/step - loss: -1.6696 - acc: 0.6669\n",
      "Epoch 37/150\n",
      "11447/11447 [==============================] - 1s 100us/step - loss: -1.6648 - acc: 0.6682\n",
      "Epoch 38/150\n",
      "11447/11447 [==============================] - 1s 95us/step - loss: -1.6700 - acc: 0.6664\n",
      "Epoch 39/150\n",
      "11447/11447 [==============================] - 1s 95us/step - loss: -1.6692 - acc: 0.6691\n",
      "Epoch 40/150\n",
      "11447/11447 [==============================] - 1s 95us/step - loss: -1.6688 - acc: 0.6673\n",
      "Epoch 41/150\n",
      "11447/11447 [==============================] - 1s 95us/step - loss: -1.6693 - acc: 0.6684\n",
      "Epoch 42/150\n",
      "11447/11447 [==============================] - 1s 97us/step - loss: -1.6728 - acc: 0.6697\n",
      "Epoch 43/150\n",
      "11447/11447 [==============================] - 1s 102us/step - loss: -1.6703 - acc: 0.6683\n",
      "Epoch 44/150\n",
      "11447/11447 [==============================] - 1s 94us/step - loss: -1.6740 - acc: 0.6678\n",
      "Epoch 45/150\n",
      "11447/11447 [==============================] - 1s 94us/step - loss: -1.6727 - acc: 0.6670\n",
      "Epoch 46/150\n",
      "11447/11447 [==============================] - 1s 93us/step - loss: -1.6774 - acc: 0.6674\n",
      "Epoch 47/150\n",
      "11447/11447 [==============================] - 1s 95us/step - loss: -1.6728 - acc: 0.6700\n",
      "Epoch 48/150\n",
      "11447/11447 [==============================] - 1s 102us/step - loss: -1.6802 - acc: 0.6676\n",
      "Epoch 49/150\n",
      "11447/11447 [==============================] - 1s 97us/step - loss: -1.6800 - acc: 0.6680\n",
      "Epoch 50/150\n",
      "11447/11447 [==============================] - 1s 95us/step - loss: -1.6768 - acc: 0.6681\n",
      "Epoch 51/150\n",
      "11447/11447 [==============================] - 1s 115us/step - loss: -1.6752 - acc: 0.6703\n",
      "Epoch 52/150\n",
      "11447/11447 [==============================] - 1s 106us/step - loss: -1.6814 - acc: 0.6672\n",
      "Epoch 53/150\n",
      "11447/11447 [==============================] - 1s 105us/step - loss: -1.6781 - acc: 0.6680\n",
      "Epoch 54/150\n",
      "11447/11447 [==============================] - 1s 101us/step - loss: -1.6823 - acc: 0.6696\n",
      "Epoch 55/150\n",
      "11447/11447 [==============================] - 1s 96us/step - loss: -1.6844 - acc: 0.6695\n",
      "Epoch 56/150\n",
      "11447/11447 [==============================] - 1s 99us/step - loss: -1.6851 - acc: 0.6694\n",
      "Epoch 57/150\n",
      "11447/11447 [==============================] - 1s 94us/step - loss: -1.6820 - acc: 0.6679\n",
      "Epoch 58/150\n",
      "11447/11447 [==============================] - 1s 94us/step - loss: -1.6844 - acc: 0.6688\n",
      "Epoch 59/150\n",
      "11447/11447 [==============================] - 1s 94us/step - loss: -1.6853 - acc: 0.6684\n",
      "Epoch 60/150\n",
      "11447/11447 [==============================] - 1s 90us/step - loss: -1.6876 - acc: 0.6694\n",
      "Epoch 61/150\n",
      "11447/11447 [==============================] - 1s 94us/step - loss: -1.6894 - acc: 0.6676\n",
      "Epoch 62/150\n",
      "11447/11447 [==============================] - 1s 96us/step - loss: -1.6872 - acc: 0.6675\n",
      "Epoch 63/150\n",
      "11447/11447 [==============================] - 1s 99us/step - loss: -1.6896 - acc: 0.6676\n",
      "Epoch 64/150\n",
      "11447/11447 [==============================] - 1s 94us/step - loss: -1.6873 - acc: 0.6686\n",
      "Epoch 65/150\n",
      "11447/11447 [==============================] - 1s 99us/step - loss: -1.6899 - acc: 0.6683\n",
      "Epoch 66/150\n",
      "11447/11447 [==============================] - 1s 96us/step - loss: -1.6888 - acc: 0.6668\n",
      "Epoch 67/150\n",
      "11447/11447 [==============================] - 1s 103us/step - loss: -1.6876 - acc: 0.6680\n",
      "Epoch 68/150\n",
      "11447/11447 [==============================] - 1s 96us/step - loss: -1.6910 - acc: 0.6694\n",
      "Epoch 69/150\n",
      "11447/11447 [==============================] - 1s 104us/step - loss: -1.6918 - acc: 0.6687\n",
      "Epoch 70/150\n",
      "11447/11447 [==============================] - 1s 101us/step - loss: -1.6924 - acc: 0.6683\n",
      "Epoch 71/150\n",
      "11447/11447 [==============================] - 1s 107us/step - loss: -1.6903 - acc: 0.6678\n",
      "Epoch 72/150\n",
      "11447/11447 [==============================] - 1s 107us/step - loss: -1.6908 - acc: 0.6673\n",
      "Epoch 73/150\n",
      "11447/11447 [==============================] - 1s 98us/step - loss: -1.6924 - acc: 0.6686\n",
      "Epoch 74/150\n",
      "11447/11447 [==============================] - 1s 104us/step - loss: -1.6918 - acc: 0.6671\n",
      "Epoch 75/150\n",
      "11447/11447 [==============================] - 1s 97us/step - loss: -1.6957 - acc: 0.6693\n",
      "Epoch 76/150\n",
      "11447/11447 [==============================] - 1s 97us/step - loss: -1.6960 - acc: 0.6670\n",
      "Epoch 77/150\n",
      "11447/11447 [==============================] - 1s 112us/step - loss: -1.6999 - acc: 0.6695\n"
     ]
    },
    {
     "name": "stdout",
     "output_type": "stream",
     "text": [
      "Epoch 78/150\n",
      "11447/11447 [==============================] - 1s 106us/step - loss: -1.6941 - acc: 0.6691\n",
      "Epoch 79/150\n",
      "11447/11447 [==============================] - 1s 108us/step - loss: -1.6978 - acc: 0.6676\n",
      "Epoch 80/150\n",
      "11447/11447 [==============================] - 1s 120us/step - loss: -1.6958 - acc: 0.6700\n",
      "Epoch 81/150\n",
      "11447/11447 [==============================] - 1s 109us/step - loss: -1.6978 - acc: 0.6693\n",
      "Epoch 82/150\n",
      "11447/11447 [==============================] - 1s 117us/step - loss: -1.6976 - acc: 0.6664\n",
      "Epoch 83/150\n",
      "11447/11447 [==============================] - 1s 102us/step - loss: -1.6965 - acc: 0.6679\n",
      "Epoch 84/150\n",
      "11447/11447 [==============================] - 1s 93us/step - loss: -1.6991 - acc: 0.6688\n",
      "Epoch 85/150\n",
      "11447/11447 [==============================] - 1s 93us/step - loss: -1.6998 - acc: 0.6686\n",
      "Epoch 86/150\n",
      "11447/11447 [==============================] - 1s 93us/step - loss: -1.6974 - acc: 0.6713\n",
      "Epoch 87/150\n",
      "11447/11447 [==============================] - 1s 93us/step - loss: -1.7012 - acc: 0.6686\n",
      "Epoch 88/150\n",
      "11447/11447 [==============================] - 1s 95us/step - loss: -1.7040 - acc: 0.6696\n",
      "Epoch 89/150\n",
      "11447/11447 [==============================] - 1s 94us/step - loss: -1.7029 - acc: 0.6685\n",
      "Epoch 90/150\n",
      "11447/11447 [==============================] - 1s 94us/step - loss: -1.7035 - acc: 0.6699\n",
      "Epoch 91/150\n",
      "11447/11447 [==============================] - 1s 94us/step - loss: -1.7081 - acc: 0.6682\n",
      "Epoch 92/150\n",
      "11447/11447 [==============================] - 1s 93us/step - loss: -1.7084 - acc: 0.6693\n",
      "Epoch 93/150\n",
      "11447/11447 [==============================] - 1s 94us/step - loss: -1.7079 - acc: 0.6690\n",
      "Epoch 94/150\n",
      "11447/11447 [==============================] - 1s 94us/step - loss: -1.7062 - acc: 0.6713\n",
      "Epoch 95/150\n",
      "11447/11447 [==============================] - 1s 94us/step - loss: -1.7106 - acc: 0.6697\n",
      "Epoch 96/150\n",
      "11447/11447 [==============================] - 1s 94us/step - loss: -1.7098 - acc: 0.6701\n",
      "Epoch 97/150\n",
      "11447/11447 [==============================] - 1s 93us/step - loss: -1.7142 - acc: 0.6701\n",
      "Epoch 98/150\n",
      "11447/11447 [==============================] - 1s 94us/step - loss: -1.7101 - acc: 0.6696\n",
      "Epoch 99/150\n",
      "11447/11447 [==============================] - 1s 94us/step - loss: -1.7142 - acc: 0.6705\n",
      "Epoch 100/150\n",
      "11447/11447 [==============================] - 1s 93us/step - loss: -1.7101 - acc: 0.6703\n",
      "Epoch 101/150\n",
      "11447/11447 [==============================] - 1s 93us/step - loss: -1.7117 - acc: 0.6701\n",
      "Epoch 102/150\n",
      "11447/11447 [==============================] - 1s 96us/step - loss: -1.7111 - acc: 0.6703\n",
      "Epoch 103/150\n",
      "11447/11447 [==============================] - 1s 92us/step - loss: -1.7174 - acc: 0.6685\n",
      "Epoch 104/150\n",
      "11447/11447 [==============================] - 1s 94us/step - loss: -1.7107 - acc: 0.6721\n",
      "Epoch 105/150\n",
      "11447/11447 [==============================] - 1s 96us/step - loss: -1.7152 - acc: 0.6682\n",
      "Epoch 106/150\n",
      "11447/11447 [==============================] - 1s 102us/step - loss: -1.7163 - acc: 0.6675\n",
      "Epoch 107/150\n",
      "11447/11447 [==============================] - 1s 101us/step - loss: -1.7180 - acc: 0.6697\n",
      "Epoch 108/150\n",
      "11447/11447 [==============================] - 1s 94us/step - loss: -1.7175 - acc: 0.6693\n",
      "Epoch 109/150\n",
      "11447/11447 [==============================] - 1s 94us/step - loss: -1.7174 - acc: 0.6713\n",
      "Epoch 110/150\n",
      "11447/11447 [==============================] - 1s 94us/step - loss: -1.7200 - acc: 0.6696\n",
      "Epoch 111/150\n",
      "11447/11447 [==============================] - 1s 94us/step - loss: -1.7177 - acc: 0.6708\n",
      "Epoch 112/150\n",
      "11447/11447 [==============================] - 1s 94us/step - loss: -1.7211 - acc: 0.6702\n",
      "Epoch 113/150\n",
      "11447/11447 [==============================] - 1s 94us/step - loss: -1.7213 - acc: 0.6696\n",
      "Epoch 114/150\n",
      "11447/11447 [==============================] - 1s 94us/step - loss: -1.7133 - acc: 0.6692\n",
      "Epoch 115/150\n",
      "11447/11447 [==============================] - 1s 94us/step - loss: -1.7225 - acc: 0.6689\n",
      "Epoch 116/150\n",
      "11447/11447 [==============================] - 1s 94us/step - loss: -1.7201 - acc: 0.6681\n",
      "Epoch 117/150\n",
      "11447/11447 [==============================] - 1s 94us/step - loss: -1.7248 - acc: 0.6686\n",
      "Epoch 118/150\n",
      "11447/11447 [==============================] - 1s 92us/step - loss: -1.7230 - acc: 0.6685\n",
      "Epoch 119/150\n",
      "11447/11447 [==============================] - 1s 94us/step - loss: -1.7230 - acc: 0.6708\n",
      "Epoch 120/150\n",
      "11447/11447 [==============================] - 1s 94us/step - loss: -1.7229 - acc: 0.6701\n",
      "Epoch 121/150\n",
      "11447/11447 [==============================] - 1s 94us/step - loss: -1.7295 - acc: 0.6688\n",
      "Epoch 122/150\n",
      "11447/11447 [==============================] - 1s 94us/step - loss: -1.7289 - acc: 0.6700\n",
      "Epoch 123/150\n",
      "11447/11447 [==============================] - 1s 94us/step - loss: -1.7252 - acc: 0.6703\n",
      "Epoch 124/150\n",
      "11447/11447 [==============================] - 1s 94us/step - loss: -1.7250 - acc: 0.6709\n",
      "Epoch 125/150\n",
      "11447/11447 [==============================] - 1s 93us/step - loss: -1.7260 - acc: 0.6706\n",
      "Epoch 126/150\n",
      "11447/11447 [==============================] - 1s 94us/step - loss: -1.7278 - acc: 0.6723\n",
      "Epoch 127/150\n",
      "11447/11447 [==============================] - 1s 94us/step - loss: -1.7247 - acc: 0.6707\n",
      "Epoch 128/150\n",
      "11447/11447 [==============================] - 1s 94us/step - loss: -1.7281 - acc: 0.6720\n",
      "Epoch 129/150\n",
      "11447/11447 [==============================] - 1s 96us/step - loss: -1.7242 - acc: 0.6703\n",
      "Epoch 130/150\n",
      "11447/11447 [==============================] - 1s 95us/step - loss: -1.7248 - acc: 0.6691\n",
      "Epoch 131/150\n",
      "11447/11447 [==============================] - 1s 94us/step - loss: -1.7194 - acc: 0.6693\n",
      "Epoch 132/150\n",
      "11447/11447 [==============================] - 1s 94us/step - loss: -1.7279 - acc: 0.6714\n",
      "Epoch 133/150\n",
      "11447/11447 [==============================] - 1s 94us/step - loss: -1.7258 - acc: 0.6719\n",
      "Epoch 134/150\n",
      "11447/11447 [==============================] - 1s 94us/step - loss: -1.7245 - acc: 0.6669\n",
      "Epoch 135/150\n",
      "11447/11447 [==============================] - 1s 93us/step - loss: -1.7231 - acc: 0.6698\n",
      "Epoch 136/150\n",
      "11447/11447 [==============================] - 1s 94us/step - loss: -1.7233 - acc: 0.6691\n",
      "Epoch 137/150\n",
      "11447/11447 [==============================] - 1s 94us/step - loss: -1.7320 - acc: 0.6686\n",
      "Epoch 138/150\n",
      "11447/11447 [==============================] - 1s 94us/step - loss: -1.7307 - acc: 0.6688\n",
      "Epoch 139/150\n",
      "11447/11447 [==============================] - 1s 92us/step - loss: -1.7276 - acc: 0.6687\n",
      "Epoch 140/150\n",
      "11447/11447 [==============================] - 1s 93us/step - loss: -1.7330 - acc: 0.6714\n",
      "Epoch 141/150\n",
      "11447/11447 [==============================] - 1s 90us/step - loss: -1.7354 - acc: 0.6686\n",
      "Epoch 142/150\n",
      "11447/11447 [==============================] - 1s 94us/step - loss: -1.7265 - acc: 0.6711\n",
      "Epoch 143/150\n",
      "11447/11447 [==============================] - 1s 94us/step - loss: -1.7327 - acc: 0.6687\n",
      "Epoch 144/150\n",
      "11447/11447 [==============================] - 1s 94us/step - loss: -1.7306 - acc: 0.6693\n",
      "Epoch 145/150\n",
      "11447/11447 [==============================] - 1s 94us/step - loss: -1.7308 - acc: 0.6701\n",
      "Epoch 146/150\n",
      "11447/11447 [==============================] - 1s 94us/step - loss: -1.7374 - acc: 0.6691\n",
      "Epoch 147/150\n",
      "11447/11447 [==============================] - 1s 94us/step - loss: -1.7371 - acc: 0.6707\n",
      "Epoch 148/150\n",
      "11447/11447 [==============================] - 1s 94us/step - loss: -1.7353 - acc: 0.6716\n",
      "Epoch 149/150\n",
      "11447/11447 [==============================] - 1s 94us/step - loss: -1.7377 - acc: 0.6693\n",
      "Epoch 150/150\n",
      "11447/11447 [==============================] - 1s 94us/step - loss: -1.7372 - acc: 0.6709\n"
     ]
    },
    {
     "data": {
      "text/plain": [
       "<keras.callbacks.History at 0x1a3d88c208>"
      ]
     },
     "execution_count": 97,
     "metadata": {},
     "output_type": "execute_result"
    }
   ],
   "source": [
    "model.fit(np.array(Xtrain2),\n",
    "          np.array(ytrain2.map(convertEFtonb)),\n",
    "          epochs=150, batch_size=10)"
   ]
  },
  {
   "cell_type": "code",
   "execution_count": 98,
   "metadata": {},
   "outputs": [
    {
     "data": {
      "text/plain": [
       "4906"
      ]
     },
     "execution_count": 98,
     "metadata": {},
     "output_type": "execute_result"
    }
   ],
   "source": [
    "# Predictions on the test set:\n",
    "yhat2_rnn1 = model.predict(np.array(Xtest2))\n",
    "len(yhat2_rnn1)"
   ]
  },
  {
   "cell_type": "code",
   "execution_count": 99,
   "metadata": {},
   "outputs": [
    {
     "data": {
      "text/plain": [
       "(4906,)"
      ]
     },
     "execution_count": 99,
     "metadata": {},
     "output_type": "execute_result"
    }
   ],
   "source": [
    "ytest2array = np.array(ytest2.map(convertEFtonb))\n",
    "ytest2array.shape"
   ]
  },
  {
   "cell_type": "code",
   "execution_count": 104,
   "metadata": {},
   "outputs": [
    {
     "data": {
      "text/plain": [
       "(4906,)"
      ]
     },
     "execution_count": 104,
     "metadata": {},
     "output_type": "execute_result"
    }
   ],
   "source": [
    "yhat2_rnn1trans = np.empty_like(ytest2array)\n",
    "for i in range(len(yhat2_rnn1)):\n",
    "    yhat2_rnn1trans[i] = int(round(float(yhat2_rnn1[i])))\n",
    "\n",
    "yhat2_rnn1trans.shape"
   ]
  },
  {
   "cell_type": "code",
   "execution_count": 106,
   "metadata": {},
   "outputs": [
    {
     "name": "stdout",
     "output_type": "stream",
     "text": [
      "Accuracy | Test\t\t | Logistic Regresssion\t\t | Default params\t | No dummies:\t\n",
      "Accuracy | Test\t\t | Random Forest\t\t | Default params\t | No dummies:\t\n",
      "Accuracy | Test\t\t | Recursive Neural Network\t | Test params:\t\t\t\n"
     ]
    },
    {
     "data": {
      "text/plain": [
       "(None, 0.669)"
      ]
     },
     "execution_count": 106,
     "metadata": {},
     "output_type": "execute_result"
    }
   ],
   "source": [
    "accuracy_rnn1 = accuracy_score(ytest2array, yhat2_rnn1trans)\n",
    "print (\"Accuracy | Test\\t\\t | Logistic Regresssion\\t\\t | Default params\\t | No dummies:\\t\"), round(accuracy_lr1, 3)\n",
    "print (\"Accuracy | Test\\t\\t | Random Forest\\t\\t | Default params\\t | No dummies:\\t\"), round(accuracy_rf7, 3)\n",
    "print (\"Accuracy | Test\\t\\t | Recursive Neural Network\\t | Test params:\\t\\t\\t\"), round(accuracy_rnn1, 3)"
   ]
  },
  {
   "cell_type": "code",
   "execution_count": null,
   "metadata": {},
   "outputs": [],
   "source": []
  }
 ],
 "metadata": {
  "kernelspec": {
   "display_name": "Python 3",
   "language": "python",
   "name": "python3"
  },
  "language_info": {
   "codemirror_mode": {
    "name": "ipython",
    "version": 3
   },
   "file_extension": ".py",
   "mimetype": "text/x-python",
   "name": "python",
   "nbconvert_exporter": "python",
   "pygments_lexer": "ipython3",
   "version": "3.7.0"
  }
 },
 "nbformat": 4,
 "nbformat_minor": 2
}
