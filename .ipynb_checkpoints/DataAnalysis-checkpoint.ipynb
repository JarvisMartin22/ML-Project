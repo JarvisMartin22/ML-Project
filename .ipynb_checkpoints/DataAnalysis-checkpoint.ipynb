{
 "cells": [
  {
   "cell_type": "code",
   "execution_count": 49,
   "metadata": {},
   "outputs": [],
   "source": [
    "import pandas as pd\n",
    "import numpy as np\n",
    "import matplotlib.pyplot as plt\n",
    "from matplotlib import cm\n",
    "import seaborn as sns\n",
    "import itertools\n",
    "\n",
    "from sqlalchemy import create_engine\n",
    "import requests\n",
    "from bs4 import BeautifulSoup\n",
    "\n",
    "import calendar\n",
    "from datetime import datetime, date, timedelta\n",
    "\n",
    "from sklearn.preprocessing import StandardScaler\n",
    "from sklearn.decomposition import PCA\n",
    "from sklearn.feature_extraction.text import CountVectorizer, TfidfVectorizer\n",
    "from textblob import TextBlob, Word\n",
    "from sklearn.base import BaseEstimator, TransformerMixin\n",
    "\n",
    "from sklearn.model_selection import train_test_split, GridSearchCV, cross_val_score\n",
    "from sklearn.metrics import accuracy_score, confusion_matrix\n",
    "\n",
    "from sklearn.linear_model import LogisticRegression\n",
    "from sklearn.ensemble import RandomForestClassifier\n",
    "from sklearn.naive_bayes import MultinomialNB\n",
    "\n",
    "from keras.models import Sequential\n",
    "from keras.layers import Dense"
   ]
  },
  {
   "cell_type": "code",
   "execution_count": 50,
   "metadata": {},
   "outputs": [],
   "source": [
    "import warnings\n",
    "warnings.filterwarnings('ignore')"
   ]
  },
  {
   "cell_type": "code",
   "execution_count": 51,
   "metadata": {},
   "outputs": [],
   "source": [
    "# Connecting to storms Database With SQLalchemy\n",
    "engine_local = create_engine('postgresql://localhost:5432/storms')"
   ]
  },
  {
   "cell_type": "code",
   "execution_count": 52,
   "metadata": {},
   "outputs": [
    {
     "data": {
      "text/html": [
       "<div>\n",
       "<style scoped>\n",
       "    .dataframe tbody tr th:only-of-type {\n",
       "        vertical-align: middle;\n",
       "    }\n",
       "\n",
       "    .dataframe tbody tr th {\n",
       "        vertical-align: top;\n",
       "    }\n",
       "\n",
       "    .dataframe thead th {\n",
       "        text-align: right;\n",
       "    }\n",
       "</style>\n",
       "<table border=\"1\" class=\"dataframe\">\n",
       "  <thead>\n",
       "    <tr style=\"text-align: right;\">\n",
       "      <th></th>\n",
       "      <th>BEGIN_YEARMONTH</th>\n",
       "      <th>BEGIN_DAY</th>\n",
       "      <th>BEGIN_TIME</th>\n",
       "      <th>END_YEARMONTH</th>\n",
       "      <th>END_DAY</th>\n",
       "      <th>END_TIME</th>\n",
       "      <th>EPISODE_ID</th>\n",
       "      <th>EVENT_ID</th>\n",
       "      <th>STATE</th>\n",
       "      <th>STATE_FIPS</th>\n",
       "      <th>...</th>\n",
       "      <th>END_RANGE</th>\n",
       "      <th>END_AZIMUTH</th>\n",
       "      <th>END_LOCATION</th>\n",
       "      <th>BEGIN_LAT</th>\n",
       "      <th>BEGIN_LON</th>\n",
       "      <th>END_LAT</th>\n",
       "      <th>END_LON</th>\n",
       "      <th>EPISODE_NARRATIVE</th>\n",
       "      <th>EVENT_NARRATIVE</th>\n",
       "      <th>DATA_SOURCE</th>\n",
       "    </tr>\n",
       "  </thead>\n",
       "  <tbody>\n",
       "    <tr>\n",
       "      <th>0</th>\n",
       "      <td>200608</td>\n",
       "      <td>27</td>\n",
       "      <td>1942</td>\n",
       "      <td>200608</td>\n",
       "      <td>27</td>\n",
       "      <td>1946</td>\n",
       "      <td>1219535.0</td>\n",
       "      <td>5528248</td>\n",
       "      <td>TEXAS</td>\n",
       "      <td>48.0</td>\n",
       "      <td>...</td>\n",
       "      <td>2.0</td>\n",
       "      <td>SSW</td>\n",
       "      <td>FRITCH</td>\n",
       "      <td>35.63</td>\n",
       "      <td>-101.62</td>\n",
       "      <td>35.60</td>\n",
       "      <td>-101.62</td>\n",
       "      <td>Severe thunderstorms produced hail...damaging ...</td>\n",
       "      <td>The Emergency Manager from Hutchinson county o...</td>\n",
       "      <td>PDS</td>\n",
       "    </tr>\n",
       "    <tr>\n",
       "      <th>1</th>\n",
       "      <td>200608</td>\n",
       "      <td>24</td>\n",
       "      <td>1818</td>\n",
       "      <td>200608</td>\n",
       "      <td>24</td>\n",
       "      <td>1840</td>\n",
       "      <td>1219338.0</td>\n",
       "      <td>5528107</td>\n",
       "      <td>SOUTH DAKOTA</td>\n",
       "      <td>46.0</td>\n",
       "      <td>...</td>\n",
       "      <td>10.0</td>\n",
       "      <td>SE</td>\n",
       "      <td>HURON</td>\n",
       "      <td>44.32</td>\n",
       "      <td>-98.17</td>\n",
       "      <td>44.25</td>\n",
       "      <td>-98.07</td>\n",
       "      <td>None</td>\n",
       "      <td>A tornado severely damaged 3 houses and destro...</td>\n",
       "      <td>PDS</td>\n",
       "    </tr>\n",
       "    <tr>\n",
       "      <th>2</th>\n",
       "      <td>200608</td>\n",
       "      <td>24</td>\n",
       "      <td>1856</td>\n",
       "      <td>200608</td>\n",
       "      <td>24</td>\n",
       "      <td>1857</td>\n",
       "      <td>1219340.0</td>\n",
       "      <td>5528109</td>\n",
       "      <td>SOUTH DAKOTA</td>\n",
       "      <td>46.0</td>\n",
       "      <td>...</td>\n",
       "      <td>6.0</td>\n",
       "      <td>SSE</td>\n",
       "      <td>IROQUOIS</td>\n",
       "      <td>44.28</td>\n",
       "      <td>-97.80</td>\n",
       "      <td>44.28</td>\n",
       "      <td>-97.80</td>\n",
       "      <td>None</td>\n",
       "      <td>A brief tornado caused no reported damage.</td>\n",
       "      <td>PDS</td>\n",
       "    </tr>\n",
       "  </tbody>\n",
       "</table>\n",
       "<p>3 rows × 51 columns</p>\n",
       "</div>"
      ],
      "text/plain": [
       "   BEGIN_YEARMONTH  BEGIN_DAY  BEGIN_TIME  END_YEARMONTH  END_DAY  END_TIME  \\\n",
       "0           200608         27        1942         200608       27      1946   \n",
       "1           200608         24        1818         200608       24      1840   \n",
       "2           200608         24        1856         200608       24      1857   \n",
       "\n",
       "   EPISODE_ID  EVENT_ID         STATE  STATE_FIPS     ...      END_RANGE  \\\n",
       "0   1219535.0   5528248         TEXAS        48.0     ...            2.0   \n",
       "1   1219338.0   5528107  SOUTH DAKOTA        46.0     ...           10.0   \n",
       "2   1219340.0   5528109  SOUTH DAKOTA        46.0     ...            6.0   \n",
       "\n",
       "  END_AZIMUTH END_LOCATION BEGIN_LAT  BEGIN_LON END_LAT END_LON  \\\n",
       "0         SSW       FRITCH     35.63    -101.62   35.60 -101.62   \n",
       "1          SE        HURON     44.32     -98.17   44.25  -98.07   \n",
       "2         SSE     IROQUOIS     44.28     -97.80   44.28  -97.80   \n",
       "\n",
       "                                   EPISODE_NARRATIVE  \\\n",
       "0  Severe thunderstorms produced hail...damaging ...   \n",
       "1                                               None   \n",
       "2                                               None   \n",
       "\n",
       "                                     EVENT_NARRATIVE DATA_SOURCE  \n",
       "0  The Emergency Manager from Hutchinson county o...         PDS  \n",
       "1  A tornado severely damaged 3 houses and destro...         PDS  \n",
       "2         A brief tornado caused no reported damage.         PDS  \n",
       "\n",
       "[3 rows x 51 columns]"
      ]
     },
     "execution_count": 52,
     "metadata": {},
     "output_type": "execute_result"
    }
   ],
   "source": [
    "# Displaying the first 3 rows from the tornado table\n",
    "sql_query = 'SELECT * FROM tornadoes_1950_mid2017 LIMIT 3' \n",
    "pd.read_sql(sql_query, engine_local)"
   ]
  },
  {
   "cell_type": "code",
   "execution_count": 53,
   "metadata": {},
   "outputs": [
    {
     "data": {
      "text/html": [
       "<div>\n",
       "<style scoped>\n",
       "    .dataframe tbody tr th:only-of-type {\n",
       "        vertical-align: middle;\n",
       "    }\n",
       "\n",
       "    .dataframe tbody tr th {\n",
       "        vertical-align: top;\n",
       "    }\n",
       "\n",
       "    .dataframe thead th {\n",
       "        text-align: right;\n",
       "    }\n",
       "</style>\n",
       "<table border=\"1\" class=\"dataframe\">\n",
       "  <thead>\n",
       "    <tr style=\"text-align: right;\">\n",
       "      <th></th>\n",
       "      <th>count</th>\n",
       "      <th>TOR_F_SCALE</th>\n",
       "    </tr>\n",
       "  </thead>\n",
       "  <tbody>\n",
       "    <tr>\n",
       "      <th>0</th>\n",
       "      <td>8617</td>\n",
       "      <td>EF0</td>\n",
       "    </tr>\n",
       "    <tr>\n",
       "      <th>1</th>\n",
       "      <td>5474</td>\n",
       "      <td>EF1</td>\n",
       "    </tr>\n",
       "    <tr>\n",
       "      <th>2</th>\n",
       "      <td>1584</td>\n",
       "      <td>EF2</td>\n",
       "    </tr>\n",
       "    <tr>\n",
       "      <th>3</th>\n",
       "      <td>445</td>\n",
       "      <td>EF3</td>\n",
       "    </tr>\n",
       "    <tr>\n",
       "      <th>4</th>\n",
       "      <td>116</td>\n",
       "      <td>EFU</td>\n",
       "    </tr>\n",
       "    <tr>\n",
       "      <th>5</th>\n",
       "      <td>103</td>\n",
       "      <td>EF4</td>\n",
       "    </tr>\n",
       "    <tr>\n",
       "      <th>6</th>\n",
       "      <td>14</td>\n",
       "      <td>EF5</td>\n",
       "    </tr>\n",
       "    <tr>\n",
       "      <th>7</th>\n",
       "      <td>11</td>\n",
       "      <td>F1</td>\n",
       "    </tr>\n",
       "    <tr>\n",
       "      <th>8</th>\n",
       "      <td>8</td>\n",
       "      <td>F0</td>\n",
       "    </tr>\n",
       "    <tr>\n",
       "      <th>9</th>\n",
       "      <td>3</td>\n",
       "      <td>F2</td>\n",
       "    </tr>\n",
       "  </tbody>\n",
       "</table>\n",
       "</div>"
      ],
      "text/plain": [
       "   count TOR_F_SCALE\n",
       "0   8617         EF0\n",
       "1   5474         EF1\n",
       "2   1584         EF2\n",
       "3    445         EF3\n",
       "4    116         EFU\n",
       "5    103         EF4\n",
       "6     14         EF5\n",
       "7     11          F1\n",
       "8      8          F0\n",
       "9      3          F2"
      ]
     },
     "execution_count": 53,
     "metadata": {},
     "output_type": "execute_result"
    }
   ],
   "source": [
    "sql_query = \"\"\"\n",
    "SELECT COUNT(\"TOR_F_SCALE\"), \"TOR_F_SCALE\"\n",
    "FROM tornadoes_1950_mid2017 \n",
    "WHERE \"BEGIN_YEARMONTH\" >= 200701\n",
    "GROUP BY \"TOR_F_SCALE\"\n",
    "ORDER BY count DESC\n",
    "\"\"\"\n",
    "pd.read_sql(sql_query, engine_local)"
   ]
  },
  {
   "cell_type": "code",
   "execution_count": 54,
   "metadata": {},
   "outputs": [
    {
     "data": {
      "text/html": [
       "<div>\n",
       "<style scoped>\n",
       "    .dataframe tbody tr th:only-of-type {\n",
       "        vertical-align: middle;\n",
       "    }\n",
       "\n",
       "    .dataframe tbody tr th {\n",
       "        vertical-align: top;\n",
       "    }\n",
       "\n",
       "    .dataframe thead th {\n",
       "        text-align: right;\n",
       "    }\n",
       "</style>\n",
       "<table border=\"1\" class=\"dataframe\">\n",
       "  <thead>\n",
       "    <tr style=\"text-align: right;\">\n",
       "      <th></th>\n",
       "      <th>count</th>\n",
       "      <th>TOR_F_SCALE</th>\n",
       "    </tr>\n",
       "  </thead>\n",
       "  <tbody>\n",
       "    <tr>\n",
       "      <th>0</th>\n",
       "      <td>8617</td>\n",
       "      <td>EF0</td>\n",
       "    </tr>\n",
       "    <tr>\n",
       "      <th>1</th>\n",
       "      <td>5474</td>\n",
       "      <td>EF1</td>\n",
       "    </tr>\n",
       "    <tr>\n",
       "      <th>2</th>\n",
       "      <td>1584</td>\n",
       "      <td>EF2</td>\n",
       "    </tr>\n",
       "    <tr>\n",
       "      <th>3</th>\n",
       "      <td>445</td>\n",
       "      <td>EF3</td>\n",
       "    </tr>\n",
       "    <tr>\n",
       "      <th>4</th>\n",
       "      <td>116</td>\n",
       "      <td>EFU</td>\n",
       "    </tr>\n",
       "    <tr>\n",
       "      <th>5</th>\n",
       "      <td>103</td>\n",
       "      <td>EF4</td>\n",
       "    </tr>\n",
       "    <tr>\n",
       "      <th>6</th>\n",
       "      <td>14</td>\n",
       "      <td>EF5</td>\n",
       "    </tr>\n",
       "  </tbody>\n",
       "</table>\n",
       "</div>"
      ],
      "text/plain": [
       "   count TOR_F_SCALE\n",
       "0   8617         EF0\n",
       "1   5474         EF1\n",
       "2   1584         EF2\n",
       "3    445         EF3\n",
       "4    116         EFU\n",
       "5    103         EF4\n",
       "6     14         EF5"
      ]
     },
     "execution_count": 54,
     "metadata": {},
     "output_type": "execute_result"
    }
   ],
   "source": [
    "#editing data for values post 2007, when the  Fujita scale  started being recorded, although it's been around since 1970's :p\n",
    "sql_query = \"\"\"\n",
    "SELECT COUNT(\"TOR_F_SCALE\"), \"TOR_F_SCALE\"\n",
    "FROM tornadoes_1950_mid2017 \n",
    "WHERE \"BEGIN_YEARMONTH\" >= 200702\n",
    "GROUP BY \"TOR_F_SCALE\"\n",
    "ORDER BY count DESC\n",
    "\"\"\"\n",
    "pd.read_sql(sql_query, engine_local)"
   ]
  },
  {
   "cell_type": "code",
   "execution_count": 55,
   "metadata": {},
   "outputs": [
    {
     "data": {
      "text/plain": [
       "EF0    8617\n",
       "EF1    5474\n",
       "EF2    1584\n",
       "EF3     445\n",
       "EFU     116\n",
       "EF4     103\n",
       "EF5      14\n",
       "Name: TOR_F_SCALE, dtype: int64"
      ]
     },
     "execution_count": 55,
     "metadata": {},
     "output_type": "execute_result"
    }
   ],
   "source": [
    "# Saving new dataset):\n",
    "sql_query = \"\"\"\n",
    "SELECT * \n",
    "FROM tornadoes_1950_mid2017 \n",
    "WHERE \"BEGIN_YEARMONTH\" >= 200702;\n",
    "\"\"\"\n",
    "\n",
    "raw_2007_2017 = pd.read_sql(sql_query, engine_local)\n",
    "\n",
    "# Counting the number of tornadoes in each magnitude category:\n",
    "raw_2007_2017.TOR_F_SCALE.value_counts()"
   ]
  },
  {
   "cell_type": "code",
   "execution_count": 56,
   "metadata": {},
   "outputs": [
    {
     "name": "stdout",
     "output_type": "stream",
     "text": [
      "<class 'pandas.core.frame.DataFrame'>\n",
      "RangeIndex: 16353 entries, 0 to 16352\n",
      "Data columns (total 51 columns):\n",
      "BEGIN_YEARMONTH       16353 non-null int64\n",
      "BEGIN_DAY             16353 non-null int64\n",
      "BEGIN_TIME            16353 non-null int64\n",
      "END_YEARMONTH         16353 non-null int64\n",
      "END_DAY               16353 non-null int64\n",
      "END_TIME              16353 non-null int64\n",
      "EPISODE_ID            16353 non-null float64\n",
      "EVENT_ID              16353 non-null int64\n",
      "STATE                 16353 non-null object\n",
      "STATE_FIPS            16353 non-null float64\n",
      "YEAR                  16353 non-null int64\n",
      "MONTH_NAME            16353 non-null object\n",
      "EVENT_TYPE            16353 non-null object\n",
      "CZ_TYPE               16353 non-null object\n",
      "CZ_FIPS               16353 non-null int64\n",
      "CZ_NAME               16353 non-null object\n",
      "WFO                   16353 non-null object\n",
      "BEGIN_DATE_TIME       16353 non-null object\n",
      "CZ_TIMEZONE           16353 non-null object\n",
      "END_DATE_TIME         16353 non-null object\n",
      "INJURIES_DIRECT       16353 non-null int64\n",
      "INJURIES_INDIRECT     16353 non-null int64\n",
      "DEATHS_DIRECT         16353 non-null int64\n",
      "DEATHS_INDIRECT       16353 non-null int64\n",
      "DAMAGE_PROPERTY       14403 non-null object\n",
      "DAMAGE_CROPS          13880 non-null object\n",
      "SOURCE                16353 non-null object\n",
      "MAGNITUDE             0 non-null object\n",
      "MAGNITUDE_TYPE        0 non-null object\n",
      "FLOOD_CAUSE           0 non-null object\n",
      "CATEGORY              0 non-null object\n",
      "TOR_F_SCALE           16353 non-null object\n",
      "TOR_LENGTH            16353 non-null float64\n",
      "TOR_WIDTH             16353 non-null float64\n",
      "TOR_OTHER_WFO         2059 non-null object\n",
      "TOR_OTHER_CZ_STATE    2059 non-null object\n",
      "TOR_OTHER_CZ_FIPS     2059 non-null float64\n",
      "TOR_OTHER_CZ_NAME     2059 non-null object\n",
      "BEGIN_RANGE           16353 non-null float64\n",
      "BEGIN_AZIMUTH         16353 non-null object\n",
      "BEGIN_LOCATION        16353 non-null object\n",
      "END_RANGE             16353 non-null float64\n",
      "END_AZIMUTH           16353 non-null object\n",
      "END_LOCATION          16353 non-null object\n",
      "BEGIN_LAT             16353 non-null float64\n",
      "BEGIN_LON             16353 non-null float64\n",
      "END_LAT               16353 non-null float64\n",
      "END_LON               16353 non-null float64\n",
      "EPISODE_NARRATIVE     16353 non-null object\n",
      "EVENT_NARRATIVE       16353 non-null object\n",
      "DATA_SOURCE           16353 non-null object\n",
      "dtypes: float64(11), int64(13), object(27)\n",
      "memory usage: 6.4+ MB\n"
     ]
    }
   ],
   "source": [
    "raw_2007_2017.info()"
   ]
  },
  {
   "cell_type": "code",
   "execution_count": 57,
   "metadata": {},
   "outputs": [
    {
     "data": {
      "text/plain": [
       "Index(['BEGIN_YEARMONTH', 'BEGIN_DAY', 'BEGIN_TIME', 'END_YEARMONTH',\n",
       "       'END_DAY', 'END_TIME', 'EPISODE_ID', 'EVENT_ID', 'STATE', 'STATE_FIPS',\n",
       "       'YEAR', 'MONTH_NAME', 'EVENT_TYPE', 'CZ_TYPE', 'CZ_FIPS', 'CZ_NAME',\n",
       "       'WFO', 'BEGIN_DATE_TIME', 'CZ_TIMEZONE', 'END_DATE_TIME',\n",
       "       'INJURIES_DIRECT', 'INJURIES_INDIRECT', 'DEATHS_DIRECT',\n",
       "       'DEATHS_INDIRECT', 'DAMAGE_PROPERTY', 'DAMAGE_CROPS', 'SOURCE',\n",
       "       'MAGNITUDE', 'MAGNITUDE_TYPE', 'FLOOD_CAUSE', 'CATEGORY', 'TOR_F_SCALE',\n",
       "       'TOR_LENGTH', 'TOR_WIDTH', 'TOR_OTHER_WFO', 'TOR_OTHER_CZ_STATE',\n",
       "       'TOR_OTHER_CZ_FIPS', 'TOR_OTHER_CZ_NAME', 'BEGIN_RANGE',\n",
       "       'BEGIN_AZIMUTH', 'BEGIN_LOCATION', 'END_RANGE', 'END_AZIMUTH',\n",
       "       'END_LOCATION', 'BEGIN_LAT', 'BEGIN_LON', 'END_LAT', 'END_LON',\n",
       "       'EPISODE_NARRATIVE', 'EVENT_NARRATIVE', 'DATA_SOURCE'],\n",
       "      dtype='object')"
      ]
     },
     "execution_count": 57,
     "metadata": {},
     "output_type": "execute_result"
    }
   ],
   "source": [
    "tornado_2007_2017 = raw_2007_2017.copy()\n",
    "tornado_2007_2017.columns"
   ]
  },
  {
   "cell_type": "code",
   "execution_count": 58,
   "metadata": {},
   "outputs": [],
   "source": [
    "# Transforming the function in part 1 into an easier-to-read dictionnary\n",
    "compassdir2degrees = {'N': 0., 'NNE': 22.5, 'NE': 45., 'ENE': 67.5, 'E': 90., 'ESE': 112.5, \n",
    "                      'SE': 135., 'SSE': 157.5, 'S': 180., 'SSW': 202.5, 'SW': 225., \n",
    "                      'WSW': 247.5, 'W': 270., 'WNW': 292.5, 'NW': 315., 'NNW': 337.5}\n",
    "def compute_Az_AvLat_AvLon_fromLatLong(df, xA='BEGIN_LON', yA='BEGIN_LAT', xB='END_LON',\n",
    "                                       yB='END_LAT', outMeanLat='Mean_Lat', \n",
    "                                       outMeanLon='Mean_Lon', outAz='Azimuth'):\n",
    "     # New features with average latitude and longitude of the tornado path:\n",
    "    LAT = (df[yA]+df[yB])/2\n",
    "    LON = (df[xA]+df[xB])/2\n",
    "    df[outMeanLat] = np.round(LAT,4)\n",
    "    df[outMeanLon] = np.round(LON,4)\n",
    "    #Earth radius\n",
    "    R = 3959\n",
    "    #radian conversion:\n",
    "    diffLON = np.radians(df[xB] - df[xA])\n",
    "    diffLAT = np.radians(df[yB] - df[yA])  \n",
    "    AZ = pd.Series(index=diffLON.index)\n",
    "    for i in range(len(diffLON)):\n",
    "        if diffLAT[i]==0 and diffLON[i]==0:\n",
    "            AZ[i] = np.nan\n",
    "        else:\n",
    "            AZ[i] = np.degrees(np.arctan2(diffLON[i],diffLAT[i]))\n",
    "    \n",
    "    # Saving azimuth into new column:\n",
    "    df[outAz] = np.round(AZ,2)\n",
    "\n",
    "    # setting north as middle of range\n",
    "    df[outAz] = df[outAz].map(lambda x: x-360 if x>180 else x)\n",
    "\n",
    "    return df\n"
   ]
  },
  {
   "cell_type": "code",
   "execution_count": 59,
   "metadata": {},
   "outputs": [],
   "source": [
    "#converting to Integers \n",
    "def convertEFtonb(x):\n",
    "    if x=='EF0' or x=='EFU': return 0\n",
    "    elif x=='EF1': return 1\n",
    "    elif x=='EF2': return 2\n",
    "    elif x=='EF3': return 3\n",
    "    elif x=='EF4': return 4\n",
    "    elif x=='EF5': return 5\n",
    "    else: return np.nan"
   ]
  },
  {
   "cell_type": "code",
   "execution_count": 60,
   "metadata": {},
   "outputs": [],
   "source": [
    "#Creating a Windrose Graph - to hightlight direction of Tornadoe \n",
    "def plot_windrose(df, EFscale='TOR_F_SCALE', Azimuth='Azimuth', TorYears='2007-2017'):\n",
    "    '''Plots a windrose diagram from the azimuth and EF scales of a tornado dataframe'''\n",
    "    \n",
    "    from windrose import WindroseAxes, plot_windrose\n",
    "    \n",
    "    dfwindroseAzim = pd.DataFrame({'speed':list(df[EFscale].map(convertEFtonb).values), \n",
    "                                   'direction':list(df[Azimuth].values)}).reset_index(drop=True)\n",
    "    # Radial grids must be positive for the windrose display:\n",
    "    dfwindroseAzim.direction = dfwindroseAzim.direction.map(lambda x: 0.001 if x==0 \n",
    "                                                            else 360+x if x<0 else x)\n",
    "    sns.set(font_scale=1.3)\n",
    "    plot_windrose(dfwindroseAzim, kind='bar', bins=np.arange(-0.5,5.5,1), edgecolor='black')\n",
    "    plt.title(\"Distribution of the {} tornadoes' heading (Blue to Red for weak to strong\\\n",
    "              magnitudes)\".format(TorYears))\n",
    "    plt.legend(\"lower right\")\n",
    "    plt.show()"
   ]
  },
  {
   "cell_type": "code",
   "execution_count": 61,
   "metadata": {},
   "outputs": [],
   "source": [
    "#Transforming Date & time from Dataset\n",
    "def computeduration(df, beginDT='BEGIN_DATE_TIME', endDT='END_DATE_TIME'):\n",
    "    #Converts them into datatime format.\n",
    "    #Computes the duration in minutes and returns it as new column\n",
    "    #Computes the average date and average time \n",
    "    #Computes the day of the year, and time in floating format, and returns them as new columns\n",
    "\n",
    "    # Changing to datetime format:\n",
    "    df[beginDT] = pd.to_datetime(df[beginDT])\n",
    "    df[endDT] = pd.to_datetime(df[endDT])\n",
    "    \n",
    "    # Computes the duration:\n",
    "    df['Duration'] =  df[endDT] - df[beginDT]\n",
    "    df['Duration'] = df.Duration.map(lambda x: int(round(x.total_seconds()/60.)))\n",
    "    \n",
    "    # Computing the average date and time of a tornado event:\n",
    "    df['AverageDate'] = pd.to_datetime(df[beginDT] + (df[endDT] - df[beginDT])/2)\n",
    "    df['AverageTime'] = df['AverageDate']\n",
    "    \n",
    "    def dayoftheyear(x): \n",
    "        dayYear = x.timetuple().tm_yday\n",
    "        # Feb 28 corresponds to year day 31+28=59\n",
    "        if calendar.isleap(x.year) and dayYear<=59:\n",
    "            return dayYear\n",
    "    #Leap Year calc\n",
    "        elif calendar.isleap(x.year) and dayYear>59:\n",
    "            return dayYear - 1\n",
    "        #non leap year calc\n",
    "        else:\n",
    "            return dayYear\n",
    "    # Converting date to day of the year:\n",
    "    df['AverageDate'] = df['AverageDate'].map(dayoftheyear)\n",
    "    \n",
    "    # Converting time to float from Timestamp object:\n",
    "    df['AverageTime'] = df['AverageTime'].map(lambda x: x.time())\n",
    "    df['AverageTime'] = df['AverageTime'].map(lambda x: x.hour) \\\n",
    "    + df['AverageTime'].map(lambda x: round((x.minute*100/60.)/100., 2)) \\\n",
    "    + df['AverageTime'].map(lambda x: round((x.second*100/60.)/10000., 4))\n",
    "    \n",
    "    return df"
   ]
  },
  {
   "cell_type": "code",
   "execution_count": 62,
   "metadata": {},
   "outputs": [
    {
     "data": {
      "text/html": [
       "<div>\n",
       "<style scoped>\n",
       "    .dataframe tbody tr th:only-of-type {\n",
       "        vertical-align: middle;\n",
       "    }\n",
       "\n",
       "    .dataframe tbody tr th {\n",
       "        vertical-align: top;\n",
       "    }\n",
       "\n",
       "    .dataframe thead th {\n",
       "        text-align: right;\n",
       "    }\n",
       "</style>\n",
       "<table border=\"1\" class=\"dataframe\">\n",
       "  <thead>\n",
       "    <tr style=\"text-align: right;\">\n",
       "      <th></th>\n",
       "      <th>BEGIN_DATE_TIME</th>\n",
       "      <th>END_DATE_TIME</th>\n",
       "      <th>Duration</th>\n",
       "      <th>AverageDate</th>\n",
       "      <th>AverageTime</th>\n",
       "    </tr>\n",
       "  </thead>\n",
       "  <tbody>\n",
       "    <tr>\n",
       "      <th>0</th>\n",
       "      <td>2007-05-06 15:40:00</td>\n",
       "      <td>2007-05-06 15:43:00</td>\n",
       "      <td>3</td>\n",
       "      <td>126</td>\n",
       "      <td>15.685</td>\n",
       "    </tr>\n",
       "    <tr>\n",
       "      <th>1</th>\n",
       "      <td>2007-07-02 17:30:00</td>\n",
       "      <td>2007-07-02 17:35:00</td>\n",
       "      <td>5</td>\n",
       "      <td>183</td>\n",
       "      <td>17.535</td>\n",
       "    </tr>\n",
       "    <tr>\n",
       "      <th>2</th>\n",
       "      <td>2007-04-21 18:48:00</td>\n",
       "      <td>2007-04-21 18:57:00</td>\n",
       "      <td>9</td>\n",
       "      <td>111</td>\n",
       "      <td>18.875</td>\n",
       "    </tr>\n",
       "    <tr>\n",
       "      <th>3</th>\n",
       "      <td>2007-06-01 11:55:00</td>\n",
       "      <td>2007-06-01 11:56:00</td>\n",
       "      <td>1</td>\n",
       "      <td>152</td>\n",
       "      <td>11.925</td>\n",
       "    </tr>\n",
       "    <tr>\n",
       "      <th>4</th>\n",
       "      <td>2007-04-15 06:15:00</td>\n",
       "      <td>2007-04-15 06:15:00</td>\n",
       "      <td>0</td>\n",
       "      <td>105</td>\n",
       "      <td>6.250</td>\n",
       "    </tr>\n",
       "  </tbody>\n",
       "</table>\n",
       "</div>"
      ],
      "text/plain": [
       "      BEGIN_DATE_TIME       END_DATE_TIME  Duration  AverageDate  AverageTime\n",
       "0 2007-05-06 15:40:00 2007-05-06 15:43:00         3          126       15.685\n",
       "1 2007-07-02 17:30:00 2007-07-02 17:35:00         5          183       17.535\n",
       "2 2007-04-21 18:48:00 2007-04-21 18:57:00         9          111       18.875\n",
       "3 2007-06-01 11:55:00 2007-06-01 11:56:00         1          152       11.925\n",
       "4 2007-04-15 06:15:00 2007-04-15 06:15:00         0          105        6.250"
      ]
     },
     "execution_count": 62,
     "metadata": {},
     "output_type": "execute_result"
    }
   ],
   "source": [
    "testdf = raw_2007_2017[['BEGIN_DATE_TIME', 'END_DATE_TIME']].head()\n",
    "\n",
    "computeduration(testdf)"
   ]
  },
  {
   "cell_type": "code",
   "execution_count": 63,
   "metadata": {},
   "outputs": [],
   "source": [
    "def convertcost_tointeger(cost):\n",
    "    '''From a cost in text format in format 'nb'.00'letter' where letter = K or M or B\n",
    "    Returns a cost as integer'''\n",
    "    if pd.isnull(cost): return 0\n",
    "    elif 'K' in cost: return int(round(float(cost[:-2]) * 10**3))\n",
    "    elif 'M' in cost: return int(round(float(cost[:-2]) * 10**6))\n",
    "    elif 'B' in cost: return int(round(float(cost[:-2]) * 10**9))\n",
    "    else: return np.nan"
   ]
  },
  {
   "cell_type": "code",
   "execution_count": 64,
   "metadata": {},
   "outputs": [
    {
     "data": {
      "text/html": [
       "<div>\n",
       "<style scoped>\n",
       "    .dataframe tbody tr th:only-of-type {\n",
       "        vertical-align: middle;\n",
       "    }\n",
       "\n",
       "    .dataframe tbody tr th {\n",
       "        vertical-align: top;\n",
       "    }\n",
       "\n",
       "    .dataframe thead th {\n",
       "        text-align: right;\n",
       "    }\n",
       "</style>\n",
       "<table border=\"1\" class=\"dataframe\">\n",
       "  <thead>\n",
       "    <tr style=\"text-align: right;\">\n",
       "      <th></th>\n",
       "      <th>DAMAGE_PROPERTY</th>\n",
       "      <th>DAMAGE_CROPS</th>\n",
       "      <th>PropertyDamageCost</th>\n",
       "      <th>CropsDamageCost</th>\n",
       "    </tr>\n",
       "  </thead>\n",
       "  <tbody>\n",
       "    <tr>\n",
       "      <th>67</th>\n",
       "      <td>1.50M</td>\n",
       "      <td>0.00K</td>\n",
       "      <td>1500000</td>\n",
       "      <td>0</td>\n",
       "    </tr>\n",
       "    <tr>\n",
       "      <th>68</th>\n",
       "      <td>100.00K</td>\n",
       "      <td>0.00K</td>\n",
       "      <td>100000</td>\n",
       "      <td>0</td>\n",
       "    </tr>\n",
       "    <tr>\n",
       "      <th>69</th>\n",
       "      <td>3.50M</td>\n",
       "      <td>None</td>\n",
       "      <td>3500000</td>\n",
       "      <td>0</td>\n",
       "    </tr>\n",
       "    <tr>\n",
       "      <th>70</th>\n",
       "      <td>20.00K</td>\n",
       "      <td>0.00K</td>\n",
       "      <td>20000</td>\n",
       "      <td>0</td>\n",
       "    </tr>\n",
       "    <tr>\n",
       "      <th>71</th>\n",
       "      <td>0.00K</td>\n",
       "      <td>0.00K</td>\n",
       "      <td>0</td>\n",
       "      <td>0</td>\n",
       "    </tr>\n",
       "    <tr>\n",
       "      <th>72</th>\n",
       "      <td>0.00K</td>\n",
       "      <td>0.00K</td>\n",
       "      <td>0</td>\n",
       "      <td>0</td>\n",
       "    </tr>\n",
       "    <tr>\n",
       "      <th>73</th>\n",
       "      <td>8.00K</td>\n",
       "      <td>0.00K</td>\n",
       "      <td>8000</td>\n",
       "      <td>0</td>\n",
       "    </tr>\n",
       "  </tbody>\n",
       "</table>\n",
       "</div>"
      ],
      "text/plain": [
       "   DAMAGE_PROPERTY DAMAGE_CROPS  PropertyDamageCost  CropsDamageCost\n",
       "67           1.50M        0.00K             1500000                0\n",
       "68         100.00K        0.00K              100000                0\n",
       "69           3.50M         None             3500000                0\n",
       "70          20.00K        0.00K               20000                0\n",
       "71           0.00K        0.00K                   0                0\n",
       "72           0.00K        0.00K                   0                0\n",
       "73           8.00K        0.00K                8000                0"
      ]
     },
     "execution_count": 64,
     "metadata": {},
     "output_type": "execute_result"
    }
   ],
   "source": [
    "\n"
   ]
  },
  {
   "cell_type": "code",
   "execution_count": 65,
   "metadata": {},
   "outputs": [
    {
     "data": {
      "text/plain": [
       "array([20., 12., 46., 28., 39., 45., 18., 38., 27., 31., 19., 48.,  1.,\n",
       "        6., 22.,  5., 26., 35., 17., 29., 40., 24.,  8., 21., 47., 55.,\n",
       "       42., 16., 37., 13., 30., 41., 56., 49., 25., 51.,  9., 54., 36.,\n",
       "       23., 99., 15.,  4., 53., 33., 50., 44., 32., 34., 10., 11.])"
      ]
     },
     "execution_count": 65,
     "metadata": {},
     "output_type": "execute_result"
    }
   ],
   "source": [
    "#raw_2007_2017['STATE_FIPS'].unique()"
   ]
  },
  {
   "cell_type": "code",
   "execution_count": 66,
   "metadata": {},
   "outputs": [
    {
     "data": {
      "text/html": [
       "<div>\n",
       "<style scoped>\n",
       "    .dataframe tbody tr th:only-of-type {\n",
       "        vertical-align: middle;\n",
       "    }\n",
       "\n",
       "    .dataframe tbody tr th {\n",
       "        vertical-align: top;\n",
       "    }\n",
       "\n",
       "    .dataframe thead th {\n",
       "        text-align: right;\n",
       "    }\n",
       "</style>\n",
       "<table border=\"1\" class=\"dataframe\">\n",
       "  <thead>\n",
       "    <tr style=\"text-align: right;\">\n",
       "      <th></th>\n",
       "      <th>STATE_FIPS</th>\n",
       "      <th>STATE</th>\n",
       "    </tr>\n",
       "  </thead>\n",
       "  <tbody>\n",
       "    <tr>\n",
       "      <th>1165</th>\n",
       "      <td>99.0</td>\n",
       "      <td>PUERTO RICO</td>\n",
       "    </tr>\n",
       "    <tr>\n",
       "      <th>4343</th>\n",
       "      <td>99.0</td>\n",
       "      <td>PUERTO RICO</td>\n",
       "    </tr>\n",
       "    <tr>\n",
       "      <th>7630</th>\n",
       "      <td>99.0</td>\n",
       "      <td>PUERTO RICO</td>\n",
       "    </tr>\n",
       "    <tr>\n",
       "      <th>8940</th>\n",
       "      <td>99.0</td>\n",
       "      <td>PUERTO RICO</td>\n",
       "    </tr>\n",
       "    <tr>\n",
       "      <th>9968</th>\n",
       "      <td>99.0</td>\n",
       "      <td>PUERTO RICO</td>\n",
       "    </tr>\n",
       "    <tr>\n",
       "      <th>13454</th>\n",
       "      <td>99.0</td>\n",
       "      <td>PUERTO RICO</td>\n",
       "    </tr>\n",
       "    <tr>\n",
       "      <th>13675</th>\n",
       "      <td>99.0</td>\n",
       "      <td>PUERTO RICO</td>\n",
       "    </tr>\n",
       "  </tbody>\n",
       "</table>\n",
       "</div>"
      ],
      "text/plain": [
       "       STATE_FIPS        STATE\n",
       "1165         99.0  PUERTO RICO\n",
       "4343         99.0  PUERTO RICO\n",
       "7630         99.0  PUERTO RICO\n",
       "8940         99.0  PUERTO RICO\n",
       "9968         99.0  PUERTO RICO\n",
       "13454        99.0  PUERTO RICO\n",
       "13675        99.0  PUERTO RICO"
      ]
     },
     "execution_count": 66,
     "metadata": {},
     "output_type": "execute_result"
    }
   ],
   "source": [
    "raw_2007_2017[raw_2007_2017['STATE_FIPS']==99][['STATE_FIPS','STATE']].head(10)"
   ]
  },
  {
   "cell_type": "code",
   "execution_count": 67,
   "metadata": {},
   "outputs": [
    {
     "name": "stdout",
     "output_type": "stream",
     "text": [
      "FIPS number and state abreviation dictionary:\n",
      "\n"
     ]
    },
    {
     "data": {
      "text/plain": [
       "(None,\n",
       " {1: 'AL',\n",
       "  2: 'AK',\n",
       "  60: 'AS',\n",
       "  4: 'AZ',\n",
       "  5: 'AR',\n",
       "  6: 'CA',\n",
       "  8: 'CO',\n",
       "  9: 'CT',\n",
       "  10: 'DE',\n",
       "  11: 'DC',\n",
       "  12: 'FL',\n",
       "  64: 'FM',\n",
       "  13: 'GA',\n",
       "  66: 'GU',\n",
       "  15: 'HI',\n",
       "  16: 'ID',\n",
       "  17: 'IL',\n",
       "  18: 'IN',\n",
       "  19: 'IA',\n",
       "  20: 'KS',\n",
       "  21: 'KY',\n",
       "  22: 'LA',\n",
       "  23: 'ME',\n",
       "  68: 'MH',\n",
       "  24: 'MD',\n",
       "  25: 'MA',\n",
       "  26: 'MI',\n",
       "  27: 'MN',\n",
       "  28: 'MS',\n",
       "  29: 'MO',\n",
       "  30: 'MT',\n",
       "  31: 'NE',\n",
       "  32: 'NV',\n",
       "  33: 'NH',\n",
       "  34: 'NJ',\n",
       "  35: 'NM',\n",
       "  36: 'NY',\n",
       "  37: 'NC',\n",
       "  38: 'ND',\n",
       "  69: 'MP',\n",
       "  39: 'OH',\n",
       "  40: 'OK',\n",
       "  41: 'OR',\n",
       "  70: 'PW',\n",
       "  42: 'PA',\n",
       "  72: 'PR',\n",
       "  44: 'RI',\n",
       "  45: 'SC',\n",
       "  46: 'SD',\n",
       "  47: 'TN',\n",
       "  48: 'TX',\n",
       "  74: 'UM',\n",
       "  49: 'UT',\n",
       "  50: 'VT',\n",
       "  51: 'VA',\n",
       "  78: 'VI',\n",
       "  53: 'WA',\n",
       "  54: 'WV',\n",
       "  55: 'WI',\n",
       "  56: 'WY',\n",
       "  99: 'PR'})"
      ]
     },
     "execution_count": 67,
     "metadata": {},
     "output_type": "execute_result"
    }
   ],
   "source": [
    "# Link to the FIPS table:\n",
    "link = \"https://en.wikipedia.org/wiki/Federal_Information_Processing_Standard_state_code\"\n",
    "response = requests.get(link)\n",
    "html = response.text\n",
    "\n",
    "# Creating list of FIPS\n",
    "soup = BeautifulSoup(html, \"lxml\")\n",
    "listofFIPSrows = soup.findAll(\"tr\")\n",
    "    \n",
    "fips_to_state = {}\n",
    "for element in listofFIPSrows[1:75]:\n",
    "    if str(element).split('<td>')[2][:2] != '</':\n",
    "        fips_to_state[int(str(element).split('<td>')[3][:2])] = str(element).split('<td>')[2][:2]\n",
    "#fips_to_state[99] = 'PR'\n",
    "\n",
    "print(\"FIPS number and state abreviation dictionary:\\n\"), fips_to_state"
   ]
  },
  {
   "cell_type": "code",
   "execution_count": 68,
   "metadata": {},
   "outputs": [
    {
     "data": {
      "text/html": [
       "<div>\n",
       "<style scoped>\n",
       "    .dataframe tbody tr th:only-of-type {\n",
       "        vertical-align: middle;\n",
       "    }\n",
       "\n",
       "    .dataframe tbody tr th {\n",
       "        vertical-align: top;\n",
       "    }\n",
       "\n",
       "    .dataframe thead th {\n",
       "        text-align: right;\n",
       "    }\n",
       "</style>\n",
       "<table border=\"1\" class=\"dataframe\">\n",
       "  <thead>\n",
       "    <tr style=\"text-align: right;\">\n",
       "      <th></th>\n",
       "      <th>STATE_FIPS</th>\n",
       "      <th>STATE</th>\n",
       "      <th>State</th>\n",
       "    </tr>\n",
       "  </thead>\n",
       "  <tbody>\n",
       "    <tr>\n",
       "      <th>784</th>\n",
       "      <td>31.0</td>\n",
       "      <td>NEBRASKA</td>\n",
       "      <td>NE</td>\n",
       "    </tr>\n",
       "    <tr>\n",
       "      <th>785</th>\n",
       "      <td>20.0</td>\n",
       "      <td>KANSAS</td>\n",
       "      <td>KS</td>\n",
       "    </tr>\n",
       "    <tr>\n",
       "      <th>786</th>\n",
       "      <td>20.0</td>\n",
       "      <td>KANSAS</td>\n",
       "      <td>KS</td>\n",
       "    </tr>\n",
       "    <tr>\n",
       "      <th>787</th>\n",
       "      <td>48.0</td>\n",
       "      <td>TEXAS</td>\n",
       "      <td>TX</td>\n",
       "    </tr>\n",
       "    <tr>\n",
       "      <th>788</th>\n",
       "      <td>31.0</td>\n",
       "      <td>NEBRASKA</td>\n",
       "      <td>NE</td>\n",
       "    </tr>\n",
       "    <tr>\n",
       "      <th>789</th>\n",
       "      <td>20.0</td>\n",
       "      <td>KANSAS</td>\n",
       "      <td>KS</td>\n",
       "    </tr>\n",
       "  </tbody>\n",
       "</table>\n",
       "</div>"
      ],
      "text/plain": [
       "     STATE_FIPS     STATE State\n",
       "784        31.0  NEBRASKA    NE\n",
       "785        20.0    KANSAS    KS\n",
       "786        20.0    KANSAS    KS\n",
       "787        48.0     TEXAS    TX\n",
       "788        31.0  NEBRASKA    NE\n",
       "789        20.0    KANSAS    KS"
      ]
     },
     "execution_count": 68,
     "metadata": {},
     "output_type": "execute_result"
    }
   ],
   "source": []
  },
  {
   "cell_type": "code",
   "execution_count": 69,
   "metadata": {},
   "outputs": [],
   "source": [
    "# Function to plot the confusion matrices in a nicer and more interpretable way:\n",
    "def plot_confusion_matrix(cm, classes, title='Confusion matrix', cmap=plt.cm.Blues, \n",
    "                          xlab='Predicted magnitude', ylab='True magnitude'):\n",
    "    plt.imshow(cm, interpolation='nearest', cmap=cmap)\n",
    "    plt.title(title)\n",
    "    plt.colorbar()\n",
    "    tick_marks = np.arange(len(classes))\n",
    "    plt.xticks(tick_marks, classes, rotation=45)\n",
    "    plt.yticks(tick_marks, classes)\n",
    "    thresh = cm.max() / 2.\n",
    "    for i, j in itertools.product(range(cm.shape[0]), range(cm.shape[1])):\n",
    "        plt.text(j, i, cm[i, j],\n",
    "                 horizontalalignment=\"center\",\n",
    "                 color=\"white\" if cm[i, j] > thresh else \"black\")\n",
    "    plt.ylabel(ylab)\n",
    "    plt.xlabel(xlab)\n",
    "    plt.show()\n",
    "    "
   ]
  },
  {
   "cell_type": "code",
   "execution_count": 70,
   "metadata": {},
   "outputs": [],
   "source": [
    "#dropping columns \n",
    "tornado_2007_2017 = tornado_2007_2017.drop(['EVENT_ID', 'EPISODE_ID', \n",
    "                                            'EVENT_TYPE', 'MAGNITUDE', 'MAGNITUDE_TYPE', \n",
    "                                            'FLOOD_CAUSE', \n",
    "                                            'EPISODE_NARRATIVE', 'EVENT_NARRATIVE', \n",
    "                                            'DATA_SOURCE', 'CATEGORY'], axis=1)\n",
    "\n",
    "# Adding 3 new columns, duration,average year-date, and time: \n",
    "tornado_2007_2017 = computeduration(tornado_2007_2017)\n",
    "\n",
    "# Removing original columns related to date and time:\n",
    "tornado_2007_2017.drop(['BEGIN_YEARMONTH', 'BEGIN_DAY', 'BEGIN_TIME', 'END_YEARMONTH', 'END_DAY',\n",
    "                        'END_TIME', 'BEGIN_DATE_TIME', 'CZ_TIMEZONE', 'END_DATE_TIME', 'YEAR',\n",
    "                        'MONTH_NAME'], axis=1, inplace=True)\n",
    "\n",
    "# Gathering direct and indirect deaths, and injuries:\n",
    "tornado_2007_2017['Deaths'] = tornado_2007_2017.DEATHS_DIRECT + tornado_2007_2017.DEATHS_INDIRECT\n",
    "tornado_2007_2017['Injuries'] = tornado_2007_2017.INJURIES_DIRECT +\\\n",
    "                                tornado_2007_2017.INJURIES_INDIRECT\n",
    "tornado_2007_2017.drop(['DEATHS_DIRECT','DEATHS_INDIRECT','INJURIES_DIRECT','INJURIES_INDIRECT'],\n",
    "                       axis=1, inplace=True)\n",
    "\n",
    "# Adds 3 new columns average latitude, longitude and azimuth of tornado's path:\n",
    "tornado_2007_2017 = compute_Az_AvLat_AvLon_fromLatLong(tornado_2007_2017)"
   ]
  },
  {
   "cell_type": "code",
   "execution_count": 71,
   "metadata": {
    "scrolled": true
   },
   "outputs": [
    {
     "name": "stdout",
     "output_type": "stream",
     "text": [
      "Plot before imputing NaN azimuth values:\n"
     ]
    },
    {
     "data": {
      "image/png": "[encoded data removed]",
      "text/plain": [
       "<Figure size 640x640 with 1 Axes>"
      ]
     },
     "metadata": {},
     "output_type": "display_data"
    },
    {
     "name": "stdout",
     "output_type": "stream",
     "text": [
      "The median azimuth of the tornados' straight paths is:\n",
      "We are replacing the computed NaN azimuths to this value.\n",
      "nPlot after imputing NaN azimuth values:\n"
     ]
    },
    {
     "data": {
      "image/png": "[encoded data removed]",
      "text/plain": [
       "<Figure size 640x640 with 1 Axes>"
      ]
     },
     "metadata": {},
     "output_type": "display_data"
    }
   ],
   "source": [
    "# Plots the windrose before imputing values for stationary tornadoes:\n",
    "print(\"Plot before imputing NaN azimuth values:\")\n",
    "plot_windrose(tornado_2007_2017)\n",
    "\n",
    "# Filling the azimuth NaN values with median:\n",
    "print(\"The median azimuth of the tornados' straight paths is:\"), \\\n",
    "      tornado_2007_2017['Azimuth'].median(), \"degrees.\"\n",
    "print(\"We are replacing the computed NaN azimuths to this value.\")\n",
    "tornado_2007_2017.Azimuth.fillna(tornado_2007_2017['Azimuth'].median(), inplace=True)\n",
    "\n",
    "# Plots the windrose after imputing values for stationary tornadoes:\n",
    "print(\"nPlot after imputing NaN azimuth values:\")\n",
    "plot_windrose(tornado_2007_2017)\n",
    "\n",
    "# Converting the state FIPS numbers into state abbreviations easily recognizable:\n",
    "tornado_2007_2017['State'] = tornado_2007_2017['STATE_FIPS'].map(lambda x: fips_to_state[x])\n",
    "\n",
    "# Removing columns related to location:\n",
    "tornado_2007_2017.drop(['BEGIN_RANGE', 'BEGIN_AZIMUTH', 'END_RANGE', 'END_AZIMUTH', \n",
    "                        'BEGIN_LAT', 'BEGIN_LON', 'END_LAT', 'END_LON', \n",
    "                        'CZ_NAME', 'CZ_TYPE', 'CZ_FIPS', 'WFO', 'STATE_FIPS', 'STATE', \n",
    "                        'BEGIN_LOCATION', 'END_LOCATION', \n",
    "                        'TOR_OTHER_CZ_STATE', 'TOR_OTHER_CZ_FIPS', 'TOR_OTHER_CZ_NAME',\n",
    "                        'TOR_OTHER_WFO'],\n",
    "                       axis=1, inplace=True)\n",
    "\n",
    "# Converting the cost columns into integer numbers:\n",
    "tornado_2007_2017['PropertyDamageCost'] = \\\n",
    "tornado_2007_2017.DAMAGE_PROPERTY.map(convertcost_tointeger)\n",
    "tornado_2007_2017['CropsDamageCost'] = tornado_2007_2017.DAMAGE_CROPS.map(convertcost_tointeger)\n",
    "\n",
    "# Removing old columns related to costs:\n",
    "tornado_2007_2017.drop(['DAMAGE_PROPERTY', 'DAMAGE_CROPS'], axis=1, inplace=True)\n",
    "\n",
    "# Replacing spaces by underscores in the SOURCE feature:\n",
    "tornado_2007_2017.SOURCE = tornado_2007_2017.SOURCE.map(lambda x: x.replace(' ', '_'))\n",
    "\n",
    "# Removing tornado with outlier TOR_LENGTH=100:\n",
    "tornado_2007_2017 = tornado_2007_2017[tornado_2007_2017.TOR_LENGTH<50]\n",
    "\n"
   ]
  },
  {
   "cell_type": "code",
   "execution_count": 72,
   "metadata": {},
   "outputs": [
    {
     "data": {
      "image/png": "[encoded data removed]",
      "text/plain": [
       "<Figure size 1152x288 with 2 Axes>"
      ]
     },
     "metadata": {},
     "output_type": "display_data"
    }
   ],
   "source": [
    "# Checking death casualties and injuries, taking both direct and indirect ones together:\n",
    "fig, ax = plt.subplots(1,2, figsize=(16,4), sharey=True)\n",
    "tornado_2007_2017.Deaths.hist(bins=30, log=True, ax=ax[0])\n",
    "tornado_2007_2017.Injuries.hist(bins=30, log=True, ax=ax[1])\n",
    "ax[0].set_title(\"Death casualties distribution\")\n",
    "ax[0].set_xlabel(\"Number of direct and indirect deaths\")\n",
    "ax[0].set_ylabel(\"Tornado count since 2007\")\n",
    "ax[1].set_title(\"Injuries distribution\")\n",
    "ax[1].set_xlabel(\"Number of direct and indirect injuries\")\n",
    "ax[1].set_ylabel(\"Tornado count since 2007\")\n",
    "plt.show()"
   ]
  },
  {
   "cell_type": "code",
   "execution_count": 73,
   "metadata": {},
   "outputs": [],
   "source": [
    "y1 = tornado_2007_2017.reset_index().TOR_F_SCALE\n",
    "X1 = tornado_2007_2017.reset_index().drop(['TOR_F_SCALE'], axis=1)"
   ]
  },
  {
   "cell_type": "code",
   "execution_count": 94,
   "metadata": {},
   "outputs": [],
   "source": [
    "tornado_2007_2017.to_csv(r'Resources/CleanTornado2.csv')"
   ]
  },
  {
   "cell_type": "code",
   "execution_count": 74,
   "metadata": {},
   "outputs": [
    {
     "data": {
      "text/html": [
       "<div>\n",
       "<style scoped>\n",
       "    .dataframe tbody tr th:only-of-type {\n",
       "        vertical-align: middle;\n",
       "    }\n",
       "\n",
       "    .dataframe tbody tr th {\n",
       "        vertical-align: top;\n",
       "    }\n",
       "\n",
       "    .dataframe thead th {\n",
       "        text-align: right;\n",
       "    }\n",
       "</style>\n",
       "<table border=\"1\" class=\"dataframe\">\n",
       "  <thead>\n",
       "    <tr style=\"text-align: right;\">\n",
       "      <th></th>\n",
       "      <th>TOR_LENGTH</th>\n",
       "      <th>TOR_WIDTH</th>\n",
       "      <th>Duration</th>\n",
       "      <th>AverageDate</th>\n",
       "      <th>AverageTime</th>\n",
       "      <th>Deaths</th>\n",
       "      <th>Injuries</th>\n",
       "      <th>Mean_Lat</th>\n",
       "      <th>Mean_Lon</th>\n",
       "      <th>Azimuth</th>\n",
       "    </tr>\n",
       "  </thead>\n",
       "  <tbody>\n",
       "    <tr>\n",
       "      <th>0</th>\n",
       "      <td>-0.384696</td>\n",
       "      <td>-0.453753</td>\n",
       "      <td>-0.372725</td>\n",
       "      <td>-0.399389</td>\n",
       "      <td>0.034001</td>\n",
       "      <td>-0.046745</td>\n",
       "      <td>-0.057794</td>\n",
       "      <td>0.025597</td>\n",
       "      <td>-0.818166</td>\n",
       "      <td>-1.299679</td>\n",
       "    </tr>\n",
       "    <tr>\n",
       "      <th>1</th>\n",
       "      <td>-0.396503</td>\n",
       "      <td>-0.557985</td>\n",
       "      <td>-0.080881</td>\n",
       "      <td>0.326020</td>\n",
       "      <td>0.391832</td>\n",
       "      <td>-0.046745</td>\n",
       "      <td>-0.057794</td>\n",
       "      <td>-2.195896</td>\n",
       "      <td>1.453279</td>\n",
       "      <td>-1.324643</td>\n",
       "    </tr>\n",
       "  </tbody>\n",
       "</table>\n",
       "</div>"
      ],
      "text/plain": [
       "   TOR_LENGTH  TOR_WIDTH  Duration  AverageDate  AverageTime    Deaths  \\\n",
       "0   -0.384696  -0.453753 -0.372725    -0.399389     0.034001 -0.046745   \n",
       "1   -0.396503  -0.557985 -0.080881     0.326020     0.391832 -0.046745   \n",
       "\n",
       "   Injuries  Mean_Lat  Mean_Lon   Azimuth  \n",
       "0 -0.057794  0.025597 -0.818166 -1.299679  \n",
       "1 -0.057794 -2.195896  1.453279 -1.324643  "
      ]
     },
     "execution_count": 74,
     "metadata": {},
     "output_type": "execute_result"
    }
   ],
   "source": [
    "# Standardizing numerical features:\n",
    "numfeat = ['TOR_LENGTH', 'TOR_WIDTH', 'Duration', 'AverageDate', 'AverageTime', \n",
    "           'Deaths', 'Injuries', 'Mean_Lat', 'Mean_Lon', 'Azimuth']\n",
    "scaler = StandardScaler()\n",
    "X1numfeat = pd.DataFrame(scaler.fit_transform(X1[numfeat]), columns=numfeat)\n",
    "X1numfeat.head(2)"
   ]
  },
  {
   "cell_type": "code",
   "execution_count": 75,
   "metadata": {},
   "outputs": [
    {
     "data": {
      "text/plain": [
       "TX    1551\n",
       "KS    1227\n",
       "Name: State, dtype: int64"
      ]
     },
     "execution_count": 75,
     "metadata": {},
     "output_type": "execute_result"
    }
   ],
   "source": [
    "# Checking which State we will drop after dummification (the most common one should be dropped):\n",
    "tornado_2007_2017.State.value_counts().head(2)"
   ]
  },
  {
   "cell_type": "code",
   "execution_count": 76,
   "metadata": {},
   "outputs": [
    {
     "data": {
      "text/plain": [
       "NWS_Storm_Survey    10349\n",
       "Trained_Spotter      1167\n",
       "Name: SOURCE, dtype: int64"
      ]
     },
     "execution_count": 76,
     "metadata": {},
     "output_type": "execute_result"
    }
   ],
   "source": [
    "# Checking which Source we will drop after dummification (the most common one should be dropped):\n",
    "tornado_2007_2017.SOURCE.value_counts().head(2)"
   ]
  },
  {
   "cell_type": "code",
   "execution_count": 77,
   "metadata": {},
   "outputs": [
    {
     "data": {
      "text/html": [
       "<div>\n",
       "<style scoped>\n",
       "    .dataframe tbody tr th:only-of-type {\n",
       "        vertical-align: middle;\n",
       "    }\n",
       "\n",
       "    .dataframe tbody tr th {\n",
       "        vertical-align: top;\n",
       "    }\n",
       "\n",
       "    .dataframe thead th {\n",
       "        text-align: right;\n",
       "    }\n",
       "</style>\n",
       "<table border=\"1\" class=\"dataframe\">\n",
       "  <thead>\n",
       "    <tr style=\"text-align: right;\">\n",
       "      <th></th>\n",
       "      <th>State_AL</th>\n",
       "      <th>State_AR</th>\n",
       "      <th>State_AZ</th>\n",
       "      <th>State_CA</th>\n",
       "      <th>State_CO</th>\n",
       "      <th>State_CT</th>\n",
       "      <th>State_DC</th>\n",
       "      <th>State_DE</th>\n",
       "      <th>State_FL</th>\n",
       "      <th>State_GA</th>\n",
       "      <th>...</th>\n",
       "      <th>Source_Official_NWS_Observations</th>\n",
       "      <th>Source_Other_Federal_Agency</th>\n",
       "      <th>Source_Park/Forest_Service</th>\n",
       "      <th>Source_Public</th>\n",
       "      <th>Source_Social_Media</th>\n",
       "      <th>Source_State_Official</th>\n",
       "      <th>Source_Storm_Chaser</th>\n",
       "      <th>Source_Trained_Spotter</th>\n",
       "      <th>Source_Unknown</th>\n",
       "      <th>Source_Utility_Company</th>\n",
       "    </tr>\n",
       "  </thead>\n",
       "  <tbody>\n",
       "    <tr>\n",
       "      <th>0</th>\n",
       "      <td>0</td>\n",
       "      <td>0</td>\n",
       "      <td>0</td>\n",
       "      <td>0</td>\n",
       "      <td>0</td>\n",
       "      <td>0</td>\n",
       "      <td>0</td>\n",
       "      <td>0</td>\n",
       "      <td>0</td>\n",
       "      <td>0</td>\n",
       "      <td>...</td>\n",
       "      <td>0</td>\n",
       "      <td>0</td>\n",
       "      <td>0</td>\n",
       "      <td>0</td>\n",
       "      <td>0</td>\n",
       "      <td>0</td>\n",
       "      <td>0</td>\n",
       "      <td>0</td>\n",
       "      <td>0</td>\n",
       "      <td>0</td>\n",
       "    </tr>\n",
       "    <tr>\n",
       "      <th>1</th>\n",
       "      <td>0</td>\n",
       "      <td>0</td>\n",
       "      <td>0</td>\n",
       "      <td>0</td>\n",
       "      <td>0</td>\n",
       "      <td>0</td>\n",
       "      <td>0</td>\n",
       "      <td>0</td>\n",
       "      <td>1</td>\n",
       "      <td>0</td>\n",
       "      <td>...</td>\n",
       "      <td>0</td>\n",
       "      <td>0</td>\n",
       "      <td>0</td>\n",
       "      <td>0</td>\n",
       "      <td>0</td>\n",
       "      <td>0</td>\n",
       "      <td>0</td>\n",
       "      <td>0</td>\n",
       "      <td>0</td>\n",
       "      <td>0</td>\n",
       "    </tr>\n",
       "  </tbody>\n",
       "</table>\n",
       "<p>2 rows × 76 columns</p>\n",
       "</div>"
      ],
      "text/plain": [
       "   State_AL  State_AR  State_AZ  State_CA  State_CO  State_CT  State_DC  \\\n",
       "0         0         0         0         0         0         0         0   \n",
       "1         0         0         0         0         0         0         0   \n",
       "\n",
       "   State_DE  State_FL  State_GA           ...            \\\n",
       "0         0         0         0           ...             \n",
       "1         0         1         0           ...             \n",
       "\n",
       "   Source_Official_NWS_Observations  Source_Other_Federal_Agency  \\\n",
       "0                                 0                            0   \n",
       "1                                 0                            0   \n",
       "\n",
       "   Source_Park/Forest_Service  Source_Public  Source_Social_Media  \\\n",
       "0                           0              0                    0   \n",
       "1                           0              0                    0   \n",
       "\n",
       "   Source_State_Official  Source_Storm_Chaser  Source_Trained_Spotter  \\\n",
       "0                      0                    0                       0   \n",
       "1                      0                    0                       0   \n",
       "\n",
       "   Source_Unknown  Source_Utility_Company  \n",
       "0               0                       0  \n",
       "1               0                       0  \n",
       "\n",
       "[2 rows x 76 columns]"
      ]
     },
     "execution_count": 77,
     "metadata": {},
     "output_type": "execute_result"
    }
   ],
   "source": [
    "X1dums = pd.get_dummies(X1[['State','SOURCE']], prefix=['State','Source'],\n",
    "                        columns=['State','SOURCE'])\n",
    "X1dums.drop(['State_TX','Source_NWS_Storm_Survey'], axis=1, inplace=True)\n",
    "X1dums.head(2)"
   ]
  },
  {
   "cell_type": "code",
   "execution_count": 78,
   "metadata": {},
   "outputs": [
    {
     "name": "stdout",
     "output_type": "stream",
     "text": [
      "(16353, 86) (16353, 10) (16353, 76)\n"
     ]
    },
    {
     "data": {
      "text/html": [
       "<div>\n",
       "<style scoped>\n",
       "    .dataframe tbody tr th:only-of-type {\n",
       "        vertical-align: middle;\n",
       "    }\n",
       "\n",
       "    .dataframe tbody tr th {\n",
       "        vertical-align: top;\n",
       "    }\n",
       "\n",
       "    .dataframe thead th {\n",
       "        text-align: right;\n",
       "    }\n",
       "</style>\n",
       "<table border=\"1\" class=\"dataframe\">\n",
       "  <thead>\n",
       "    <tr style=\"text-align: right;\">\n",
       "      <th></th>\n",
       "      <th>TOR_LENGTH</th>\n",
       "      <th>TOR_WIDTH</th>\n",
       "      <th>Duration</th>\n",
       "      <th>AverageDate</th>\n",
       "      <th>AverageTime</th>\n",
       "      <th>Deaths</th>\n",
       "      <th>Injuries</th>\n",
       "      <th>Mean_Lat</th>\n",
       "      <th>Mean_Lon</th>\n",
       "      <th>Azimuth</th>\n",
       "      <th>...</th>\n",
       "      <th>Source_Official_NWS_Observations</th>\n",
       "      <th>Source_Other_Federal_Agency</th>\n",
       "      <th>Source_Park/Forest_Service</th>\n",
       "      <th>Source_Public</th>\n",
       "      <th>Source_Social_Media</th>\n",
       "      <th>Source_State_Official</th>\n",
       "      <th>Source_Storm_Chaser</th>\n",
       "      <th>Source_Trained_Spotter</th>\n",
       "      <th>Source_Unknown</th>\n",
       "      <th>Source_Utility_Company</th>\n",
       "    </tr>\n",
       "  </thead>\n",
       "  <tbody>\n",
       "    <tr>\n",
       "      <th>0</th>\n",
       "      <td>-0.384696</td>\n",
       "      <td>-0.453753</td>\n",
       "      <td>-0.372725</td>\n",
       "      <td>-0.399389</td>\n",
       "      <td>0.034001</td>\n",
       "      <td>-0.046745</td>\n",
       "      <td>-0.057794</td>\n",
       "      <td>0.025597</td>\n",
       "      <td>-0.818166</td>\n",
       "      <td>-1.299679</td>\n",
       "      <td>...</td>\n",
       "      <td>0</td>\n",
       "      <td>0</td>\n",
       "      <td>0</td>\n",
       "      <td>0</td>\n",
       "      <td>0</td>\n",
       "      <td>0</td>\n",
       "      <td>0</td>\n",
       "      <td>0</td>\n",
       "      <td>0</td>\n",
       "      <td>0</td>\n",
       "    </tr>\n",
       "    <tr>\n",
       "      <th>1</th>\n",
       "      <td>-0.396503</td>\n",
       "      <td>-0.557985</td>\n",
       "      <td>-0.080881</td>\n",
       "      <td>0.326020</td>\n",
       "      <td>0.391832</td>\n",
       "      <td>-0.046745</td>\n",
       "      <td>-0.057794</td>\n",
       "      <td>-2.195896</td>\n",
       "      <td>1.453279</td>\n",
       "      <td>-1.324643</td>\n",
       "      <td>...</td>\n",
       "      <td>0</td>\n",
       "      <td>0</td>\n",
       "      <td>0</td>\n",
       "      <td>0</td>\n",
       "      <td>0</td>\n",
       "      <td>0</td>\n",
       "      <td>0</td>\n",
       "      <td>0</td>\n",
       "      <td>0</td>\n",
       "      <td>0</td>\n",
       "    </tr>\n",
       "  </tbody>\n",
       "</table>\n",
       "<p>2 rows × 86 columns</p>\n",
       "</div>"
      ],
      "text/plain": [
       "   TOR_LENGTH  TOR_WIDTH  Duration  AverageDate  AverageTime    Deaths  \\\n",
       "0   -0.384696  -0.453753 -0.372725    -0.399389     0.034001 -0.046745   \n",
       "1   -0.396503  -0.557985 -0.080881     0.326020     0.391832 -0.046745   \n",
       "\n",
       "   Injuries  Mean_Lat  Mean_Lon   Azimuth           ...            \\\n",
       "0 -0.057794  0.025597 -0.818166 -1.299679           ...             \n",
       "1 -0.057794 -2.195896  1.453279 -1.324643           ...             \n",
       "\n",
       "   Source_Official_NWS_Observations  Source_Other_Federal_Agency  \\\n",
       "0                                 0                            0   \n",
       "1                                 0                            0   \n",
       "\n",
       "   Source_Park/Forest_Service  Source_Public  Source_Social_Media  \\\n",
       "0                           0              0                    0   \n",
       "1                           0              0                    0   \n",
       "\n",
       "   Source_State_Official  Source_Storm_Chaser  Source_Trained_Spotter  \\\n",
       "0                      0                    0                       0   \n",
       "1                      0                    0                       0   \n",
       "\n",
       "   Source_Unknown  Source_Utility_Company  \n",
       "0               0                       0  \n",
       "1               0                       0  \n",
       "\n",
       "[2 rows x 86 columns]"
      ]
     },
     "execution_count": 78,
     "metadata": {},
     "output_type": "execute_result"
    }
   ],
   "source": [
    "# Putting back together the standardized and dummifies features:\n",
    "X1 = pd.concat([X1numfeat,X1dums], axis=1)\n",
    "print(X1.shape, X1numfeat.shape, X1dums.shape)\n",
    "X1.head(2)"
   ]
  },
  {
   "cell_type": "code",
   "execution_count": 79,
   "metadata": {},
   "outputs": [],
   "source": [
    "Xtrain1, Xtest1, ytrain1, ytest1 = train_test_split(X1, y1, test_size=0.3, \n",
    "                                                    stratify=y1, random_state=31)"
   ]
  },
  {
   "cell_type": "code",
   "execution_count": 80,
   "metadata": {},
   "outputs": [
    {
     "data": {
      "text/plain": [
       "EF0    2585\n",
       "EF1    1642\n",
       "EF2     475\n",
       "EF3     134\n",
       "EFU      35\n",
       "EF4      31\n",
       "EF5       4\n",
       "Name: TOR_F_SCALE, dtype: int64"
      ]
     },
     "execution_count": 80,
     "metadata": {},
     "output_type": "execute_result"
    }
   ],
   "source": [
    "ytest1.value_counts()"
   ]
  },
  {
   "cell_type": "code",
   "execution_count": 81,
   "metadata": {},
   "outputs": [
    {
     "name": "stdout",
     "output_type": "stream",
     "text": [
      "Accuracy | Test\t\t | Baseline\t\t | EF0 tornados:\t 0.527\n"
     ]
    }
   ],
   "source": [
    "ytest_valcounts = ytest1.value_counts()\n",
    "accuracy_baseline = ytest_valcounts.get_values()[0]/float(ytest_valcounts.get_values().sum())\n",
    "print(\"Accuracy | Test\\t\\t | Baseline\\t\\t | EF0 tornados:\\t\", round(accuracy_baseline, 3))"
   ]
  },
  {
   "cell_type": "code",
   "execution_count": 82,
   "metadata": {},
   "outputs": [
    {
     "name": "stdout",
     "output_type": "stream",
     "text": [
      "Accuracy | Train CV5\t | Logistic Regresssion\t | Default params:\t 0.669\n"
     ]
    }
   ],
   "source": [
    "#LOGISTIC REGRESSION\n",
    "lr1 = LogisticRegression()\n",
    "accuracy_cv5_lr1 = np.mean(cross_val_score(lr1, Xtrain1, ytrain1, cv=5))\n",
    "print(\"Accuracy | Train CV5\\t | Logistic Regresssion\\t | Default params:\\t\", round(accuracy_cv5_lr1, 3))"
   ]
  },
  {
   "cell_type": "code",
   "execution_count": 83,
   "metadata": {},
   "outputs": [
    {
     "name": "stdout",
     "output_type": "stream",
     "text": [
      "Accuracy | Test\t\t | Logistic Regresssion\t | Default params:\t 0.671\n"
     ]
    }
   ],
   "source": [
    "lr1.fit(Xtrain1, ytrain1)\n",
    "yhat1_lr1 = lr1.predict(Xtest1)\n",
    "accuracy_lr1 = accuracy_score(ytest1, yhat1_lr1)\n",
    "print(\"Accuracy | Test\\t\\t | Logistic Regresssion\\t | Default params:\\t\", round(accuracy_lr1, 3))"
   ]
  },
  {
   "cell_type": "code",
   "execution_count": 84,
   "metadata": {},
   "outputs": [
    {
     "data": {
      "text/plain": [
       "GridSearchCV(cv=5, error_score='raise-deprecating',\n",
       "       estimator=LogisticRegression(C=1.0, class_weight=None, dual=False, fit_intercept=True,\n",
       "          intercept_scaling=1, max_iter=100, multi_class='warn',\n",
       "          n_jobs=None, penalty='l2', random_state=None, solver='warn',\n",
       "          tol=0.0001, verbose=0, warm_start=False),\n",
       "       fit_params=None, iid='warn', n_jobs=None,\n",
       "       param_grid={'penalty': ['l1', 'l2'], 'C': array([1.e+02, 1.e+03, 1.e+04, 1.e+05, 1.e+06])},\n",
       "       pre_dispatch='2*n_jobs', refit=True, return_train_score='warn',\n",
       "       scoring=None, verbose=0)"
      ]
     },
     "execution_count": 84,
     "metadata": {},
     "output_type": "execute_result"
    }
   ],
   "source": [
    "#OPTIMIZATION\n",
    "params_logreg_v1 = {'penalty': ['l1','l2'], 'C':np.logspace(2,6,5)}\n",
    "lr2 = GridSearchCV(lr1, param_grid=params_logreg_v1, cv=5)\n",
    "lr2.fit(Xtrain1, ytrain1)"
   ]
  },
  {
   "cell_type": "code",
   "execution_count": 37,
   "metadata": {},
   "outputs": [
    {
     "data": {
      "text/plain": [
       "{'C': 1000.0, 'penalty': 'l1'}"
      ]
     },
     "execution_count": 37,
     "metadata": {},
     "output_type": "execute_result"
    }
   ],
   "source": [
    "lr2.best_params_"
   ]
  },
  {
   "cell_type": "code",
   "execution_count": 38,
   "metadata": {},
   "outputs": [
    {
     "name": "stdout",
     "output_type": "stream",
     "text": [
      "Accuracy | Train CV5\t | Logistic Regresssion\t | Optimal params:\t 0.67\n"
     ]
    }
   ],
   "source": [
    "print (\"Accuracy | Train CV5\\t | Logistic Regresssion\\t | Optimal params:\\t\", round(lr2.best_score_, 3))"
   ]
  },
  {
   "cell_type": "code",
   "execution_count": 39,
   "metadata": {},
   "outputs": [
    {
     "name": "stdout",
     "output_type": "stream",
     "text": [
      "Accuracy | Test\t\t | Logistic Regresssion\t | Optimal params:\t 0.671\n"
     ]
    }
   ],
   "source": [
    "lr3 = lr2.best_estimator_.fit(Xtrain1, ytrain1)\n",
    "yhat1_lr3 = lr3.predict(Xtest1)\n",
    "accuracy_lr3 = accuracy_score(ytest1, yhat1_lr3)\n",
    "print(\"Accuracy | Test\\t\\t | Logistic Regresssion\\t | Optimal params:\\t\", round(accuracy_lr3, 3))"
   ]
  },
  {
   "cell_type": "code",
   "execution_count": 40,
   "metadata": {},
   "outputs": [
    {
     "name": "stdout",
     "output_type": "stream",
     "text": [
      "0.676\n"
     ]
    }
   ],
   "source": [
    "#RANDOM FOREST \n",
    "rf1 = RandomForestClassifier(random_state=31)\n",
    "accuracy_cv5_rf1 = np.mean(cross_val_score(rf1, Xtrain1, ytrain1, cv=5))\n",
    "print(round(accuracy_cv5_rf1, 3))\n",
    "\n",
    "# rf = RandomForestClassifier(n_estimators=200)\n",
    "# rf = rf.fit(iris.data, iris.target)\n",
    "# rf.score(iris.data, iris.target)"
   ]
  },
  {
   "cell_type": "code",
   "execution_count": 41,
   "metadata": {},
   "outputs": [
    {
     "name": "stdout",
     "output_type": "stream",
     "text": [
      "Accuracy | Test\t\t | Random Forest\t | Default params:\t 0.679\n"
     ]
    }
   ],
   "source": [
    "rf1.fit(Xtrain1, ytrain1)\n",
    "yhat1_rf1 = rf1.predict(Xtest1)\n",
    "accuracy_rf1 = accuracy_score(ytest1, yhat1_rf1)\n",
    "print(\"Accuracy | Test\\t\\t | Random Forest\\t | Default params:\\t\", round(accuracy_rf1, 3))"
   ]
  },
  {
   "cell_type": "code",
   "execution_count": 42,
   "metadata": {},
   "outputs": [
    {
     "name": "stdout",
     "output_type": "stream",
     "text": [
      "Accuracy | Test\t\t | Random Forest\t | Part2 params:\t\t 0.699\n"
     ]
    }
   ],
   "source": [
    "#USING BASE PARAMATERS \n",
    "rf2 = RandomForestClassifier(criterion='gini', max_depth=7, max_features=0.7, min_samples_leaf=1,\n",
    "                             min_samples_split=5, n_estimators=24, random_state=31)\n",
    "rf2.fit(Xtrain1, ytrain1)\n",
    "yhat1_rf2 = rf2.predict(Xtest1)\n",
    "accuracy_rf2 = accuracy_score(ytest1, yhat1_rf2)\n",
    "print(\"Accuracy | Test\\t\\t | Random Forest\\t | Part2 params:\\t\\t\", round(accuracy_rf2, 3))"
   ]
  },
  {
   "cell_type": "code",
   "execution_count": 85,
   "metadata": {},
   "outputs": [
    {
     "data": {
      "image/png": "[encoded data removed]",
      "text/plain": [
       "<Figure size 504x360 with 2 Axes>"
      ]
     },
     "metadata": {},
     "output_type": "display_data"
    }
   ],
   "source": [
    "# Computing the confusion matrix\n",
    "confmatrix_rf2 = confusion_matrix(ytest1, rf2.predict(Xtest1))\n",
    "\n",
    "# Plotting it using the function:\n",
    "sns.set(font_scale=1.5)\n",
    "plt.figure(figsize=(7,5))\n",
    "plot_confusion_matrix(confmatrix_rf2, rf2.classes_,\n",
    "                      'Confusion matrix - Random Forest - Part2 hyperparameters',\n",
    "                      xlab='Predicted EF scale magnitude', ylab='True EF scale magnitude')\n",
    "plt.show()"
   ]
  },
  {
   "cell_type": "code",
   "execution_count": 86,
   "metadata": {},
   "outputs": [
    {
     "name": "stdout",
     "output_type": "stream",
     "text": [
      "Fitting 5 folds for each of 288 candidates, totalling 1440 fits\n"
     ]
    },
    {
     "name": "stderr",
     "output_type": "stream",
     "text": [
      "[Parallel(n_jobs=2)]: Using backend LokyBackend with 2 concurrent workers.\n",
      "[Parallel(n_jobs=2)]: Done  46 tasks      | elapsed:   24.4s\n",
      "[Parallel(n_jobs=2)]: Done 196 tasks      | elapsed:  2.1min\n",
      "[Parallel(n_jobs=2)]: Done 446 tasks      | elapsed:  5.8min\n",
      "[Parallel(n_jobs=2)]: Done 796 tasks      | elapsed: 11.9min\n",
      "[Parallel(n_jobs=2)]: Done 1246 tasks      | elapsed: 20.8min\n",
      "[Parallel(n_jobs=2)]: Done 1440 out of 1440 | elapsed: 25.9min finished\n"
     ]
    },
    {
     "data": {
      "text/plain": [
       "GridSearchCV(cv=5, error_score='raise-deprecating',\n",
       "       estimator=RandomForestClassifier(bootstrap=True, class_weight=None, criterion='gini',\n",
       "            max_depth=None, max_features='auto', max_leaf_nodes=None,\n",
       "            min_impurity_decrease=0.0, min_impurity_split=None,\n",
       "            min_samples_leaf=1, min_samples_split=2,\n",
       "            min_weight_fraction_leaf=0.0, n_estimators=10, n_jobs=None,\n",
       "            oob_score=False, random_state=31, verbose=0, warm_start=False),\n",
       "       fit_params=None, iid='warn', n_jobs=2,\n",
       "       param_grid={'criterion': ['gini', 'entropy'], 'max_depth': [10, 15], 'max_features': [0.4, 0.6, 0.8], 'n_estimators': [20, 40, 60, 80], 'min_samples_split': [6, 10, 14], 'min_samples_leaf': [1, 2]},\n",
       "       pre_dispatch='2*n_jobs', refit=True, return_train_score='warn',\n",
       "       scoring=None, verbose=1)"
      ]
     },
     "execution_count": 86,
     "metadata": {},
     "output_type": "execute_result"
    }
   ],
   "source": [
    "params_randfor_v1 = {'criterion': ['gini','entropy'],\n",
    "                     'max_depth': [10,15],\n",
    "                     'max_features': [0.4,0.6,0.8],\n",
    "                     'n_estimators': [20, 40, 60, 80],\n",
    "                     'min_samples_split': [6, 10, 14],\n",
    "                     'min_samples_leaf': [1,2]\n",
    "                    }\n",
    "\n",
    "rf3 = GridSearchCV(rf1, param_grid=params_randfor_v1, cv=5, verbose=1, n_jobs=2)\n",
    "rf3.fit(Xtrain1, ytrain1)"
   ]
  },
  {
   "cell_type": "code",
   "execution_count": 87,
   "metadata": {},
   "outputs": [
    {
     "data": {
      "text/plain": [
       "{'criterion': 'gini',\n",
       " 'max_depth': 15,\n",
       " 'max_features': 0.8,\n",
       " 'min_samples_leaf': 1,\n",
       " 'min_samples_split': 10,\n",
       " 'n_estimators': 40}"
      ]
     },
     "execution_count": 87,
     "metadata": {},
     "output_type": "execute_result"
    }
   ],
   "source": [
    "rf3.best_params_"
   ]
  },
  {
   "cell_type": "code",
   "execution_count": 88,
   "metadata": {},
   "outputs": [
    {
     "name": "stdout",
     "output_type": "stream",
     "text": [
      "Accuracy | Train CV5\t | Random Forest\t | Optimal params:\t 0.702\n"
     ]
    }
   ],
   "source": [
    "print(\"Accuracy | Train CV5\\t | Random Forest\\t | Optimal params:\\t\", round(rf3.best_score_, 3))"
   ]
  },
  {
   "cell_type": "code",
   "execution_count": 89,
   "metadata": {},
   "outputs": [
    {
     "name": "stdout",
     "output_type": "stream",
     "text": [
      "Accuracy | Test\t\t | Random Forest\t | Optimized params:\t 0.704\n"
     ]
    }
   ],
   "source": [
    "rf4 = rf3.best_estimator_\n",
    "rf4.fit(Xtrain1, ytrain1)\n",
    "\n",
    "yhat1_rf4 = rf4.predict(Xtest1)\n",
    "accuracy_rf4 = accuracy_score(ytest1, yhat1_rf4)\n",
    "print(\"Accuracy | Test\\t\\t | Random Forest\\t | Optimized params:\\t\", round(accuracy_rf4, 3))"
   ]
  },
  {
   "cell_type": "code",
   "execution_count": 90,
   "metadata": {},
   "outputs": [
    {
     "name": "stdout",
     "output_type": "stream",
     "text": [
      "Fitting 5 folds for each of 81 candidates, totalling 405 fits\n"
     ]
    },
    {
     "name": "stderr",
     "output_type": "stream",
     "text": [
      "[Parallel(n_jobs=2)]: Using backend LokyBackend with 2 concurrent workers.\n",
      "[Parallel(n_jobs=2)]: Done  46 tasks      | elapsed:   48.7s\n",
      "[Parallel(n_jobs=2)]: Done 196 tasks      | elapsed:  4.4min\n",
      "[Parallel(n_jobs=2)]: Done 405 out of 405 | elapsed:  9.7min finished\n"
     ]
    },
    {
     "name": "stdout",
     "output_type": "stream",
     "text": [
      "\n",
      "Best params: {'criterion': 'entropy', 'max_depth': 20, 'max_features': 0.3, 'min_samples_leaf': 1, 'min_samples_split': 9, 'n_estimators': 68}\n",
      "\n",
      "Accuracy | Train CV5\t | Random Forest\t | Optimal params:\t 0.703\n"
     ]
    }
   ],
   "source": [
    "params_randfor_v2 = {'criterion': ['entropy'],\n",
    "                     'max_depth': [16,18,20],\n",
    "                     'max_features': [0.3,0.4,0.5],\n",
    "                     'n_estimators': [68,70,72],\n",
    "                     'min_samples_split': [8,9,10],\n",
    "                     'min_samples_leaf': [1]\n",
    "                    }\n",
    "\n",
    "rf5 = GridSearchCV(rf1, param_grid=params_randfor_v2, cv=5, verbose=1, n_jobs=2)\n",
    "rf5.fit(Xtrain1, ytrain1)\n",
    "\n",
    "print(\"\\nBest params:\", rf5.best_params_)\n",
    "\n",
    "print(\"\\nAccuracy | Train CV5\\t | Random Forest\\t | Optimal params:\\t\", round(rf5.best_score_, 3))"
   ]
  },
  {
   "cell_type": "code",
   "execution_count": 91,
   "metadata": {},
   "outputs": [
    {
     "name": "stdout",
     "output_type": "stream",
     "text": [
      "Accuracy | Test\t\t | Random Forest\t | Optimized params:\t 0.706\n"
     ]
    }
   ],
   "source": [
    "# First time use after gridsearch: rf6 = rf5.best_estimator_\n",
    "# Not to have to rerun the gridsearch again:\n",
    "rf6 = RandomForestClassifier(criterion='entropy', max_depth=18, max_features=0.4, \n",
    "                             min_samples_leaf=1, min_samples_split=9, \n",
    "                             n_estimators=72, random_state=31)\n",
    "rf6.fit(Xtrain1, ytrain1)\n",
    "\n",
    "yhat1_rf6 = rf6.predict(Xtest1)\n",
    "accuracy_rf6 = accuracy_score(ytest1, yhat1_rf6)\n",
    "print(\"Accuracy | Test\\t\\t | Random Forest\\t | Optimized params:\\t\", round(accuracy_rf6, 3))"
   ]
  },
  {
   "cell_type": "code",
   "execution_count": null,
   "metadata": {},
   "outputs": [],
   "source": [
    "# Computing the confusion matrix\n",
    "confmatrix_rf6 = confusion_matrix(ytest1, rf6.predict(Xtest1))\n",
    "\n",
    "# Plotting it using the function:\n",
    "sns.set(font_scale=1.5)\n",
    "plt.figure(figsize=(7,5))\n",
    "plot_confusion_matrix(confmatrix_rf6, rf6.classes_,\n",
    "                      'Confusion matrix - Random Forest - Optimized hyperparameters',\n",
    "                      xlab='Predicted EF scale magnitude', ylab='True EF scale magnitude')\n",
    "plt.show()"
   ]
  },
  {
   "cell_type": "code",
   "execution_count": null,
   "metadata": {},
   "outputs": [],
   "source": [
    "# Creating a DF out of the coefficients, and sorting them in order of importance of \n",
    "# their absolute value:\n",
    "importanceDF_rf6 = pd.DataFrame({'Importances': rf6.feature_importances_},\n",
    "                          index = Xtrain1.columns)\n",
    "importanceDF_rf6.T"
   ]
  },
  {
   "cell_type": "code",
   "execution_count": null,
   "metadata": {},
   "outputs": [],
   "source": [
    "# Most important features:\n",
    "mostimp_rf6 = importanceDF_rf6.sort_values(by=\"Importances\", ascending=False)\n",
    "mostimp_rf6.head(3)"
   ]
  },
  {
   "cell_type": "code",
   "execution_count": null,
   "metadata": {},
   "outputs": [],
   "source": [
    "# Horizontal bar plot\n"
   ]
  },
  {
   "cell_type": "markdown",
   "metadata": {},
   "source": [
    "Neural Network "
   ]
  },
  {
   "cell_type": "code",
   "execution_count": null,
   "metadata": {},
   "outputs": [],
   "source": [
    "X2 = X1numfeat.copy()\n",
    "print(X2.shape)"
   ]
  },
  {
   "cell_type": "code",
   "execution_count": null,
   "metadata": {},
   "outputs": [],
   "source": [
    "Xtrain2, Xtest2, ytrain2, ytest2 = train_test_split(X2, y1, test_size=0.3, \n",
    "                                                    stratify=y1, random_state=31)"
   ]
  },
  {
   "cell_type": "code",
   "execution_count": null,
   "metadata": {},
   "outputs": [],
   "source": [
    "# Same parameters as the best one we obtained:\n",
    "lr4 = LogisticRegression(penalty='l2', C=1000000)\n",
    "accuracy_cv5_lr4 = np.mean(cross_val_score(lr4, Xtrain2, ytrain2, cv=5))\n",
    "print (\"Accuracy | Train CV5\\t | Logistic Regresssion\\t | Default params\\t | No dummies:\\t\"), round(accuracy_cv5_lr4, 3)"
   ]
  },
  {
   "cell_type": "code",
   "execution_count": null,
   "metadata": {},
   "outputs": [],
   "source": [
    "\n",
    "lr4.fit(Xtrain2, ytrain2)\n",
    "yhat2_lr4 = lr4.predict(Xtest2)\n",
    "accuracy_lr4 = accuracy_score(ytest2, yhat2_lr4)\n",
    "print (\"Accuracy | Test\\t\\t | Logistic Regresssion\\t | Default params\\t | No dummies:\\t\"), round(accuracy_lr4, 3)"
   ]
  },
  {
   "cell_type": "code",
   "execution_count": null,
   "metadata": {},
   "outputs": [],
   "source": [
    "# Same parameters as the best one we obtained:\n",
    "rf7 = RandomForestClassifier(criterion='entropy', max_depth=18, max_features=0.4, \n",
    "                             min_samples_leaf=1, min_samples_split=9,\n",
    "                             n_estimators=72, random_state=31)\n",
    "accuracy_cv5_rf7 = np.mean(cross_val_score(rf7, Xtrain2, ytrain2, cv=5))\n",
    "print (\"Accuracy | Train CV5\\t | Random Forest\\t | Default params\\t | No dummies:\\t\"), round(accuracy_cv5_rf7, 3)"
   ]
  },
  {
   "cell_type": "code",
   "execution_count": null,
   "metadata": {},
   "outputs": [],
   "source": [
    "rf7.fit(Xtrain2, ytrain2)\n",
    "yhat2_rf7 = rf7.predict(Xtest2)\n",
    "accuracy_rf7 = accuracy_score(ytest2, yhat2_rf7)\n",
    "print (\"Accuracy | Test\\t\\t | Random Forest\\t | Default params\\t | No dummies:\\t\"), round(accuracy_rf7, 3)"
   ]
  },
  {
   "cell_type": "code",
   "execution_count": null,
   "metadata": {},
   "outputs": [],
   "source": [
    "#X2.reset_index(drop=True, inplace=True)\n",
    "np.random.seed(7)\n",
    "# create model\n",
    "model = Sequential()\n",
    "model.add(Dense(10, input_dim=10, activation='relu'))\n",
    "model.add(Dense(10, activation='relu'))\n",
    "model.add(Dense(1, activation='sigmoid'))"
   ]
  },
  {
   "cell_type": "code",
   "execution_count": null,
   "metadata": {},
   "outputs": [],
   "source": [
    "# Compile model\n",
    "model.compile(loss='binary_crossentropy', optimizer='adam', metrics=['accuracy'])"
   ]
  },
  {
   "cell_type": "code",
   "execution_count": null,
   "metadata": {},
   "outputs": [],
   "source": [
    "model.fit(np.array(Xtrain2),\n",
    "          np.array(ytrain2.map(convertEFtonb)),\n",
    "          epochs=150, batch_size=10)"
   ]
  },
  {
   "cell_type": "code",
   "execution_count": null,
   "metadata": {},
   "outputs": [],
   "source": [
    "# Predictions on the test set:\n",
    "yhat2_rnn1 = model.predict(np.array(Xtest2))\n",
    "len(yhat2_rnn1)"
   ]
  },
  {
   "cell_type": "code",
   "execution_count": null,
   "metadata": {},
   "outputs": [],
   "source": [
    "ytest2array = np.array(ytest2.map(convertEFtonb))\n",
    "ytest2array.shape"
   ]
  },
  {
   "cell_type": "code",
   "execution_count": null,
   "metadata": {},
   "outputs": [],
   "source": [
    "yhat2_rnn1trans = np.empty_like(ytest2array)\n",
    "for i in range(len(yhat2_rnn1)):\n",
    "    yhat2_rnn1trans[i] = int(round(float(yhat2_rnn1[i])))\n",
    "\n",
    "yhat2_rnn1trans.shape"
   ]
  },
  {
   "cell_type": "code",
   "execution_count": null,
   "metadata": {},
   "outputs": [],
   "source": [
    "accuracy_rnn1 = accuracy_score(ytest2array, yhat2_rnn1trans)\n",
    "print (\"Accuracy | Test\\t\\t | Logistic Regresssion\\t\\t | Default params\\t | No dummies:\\t\"), round(accuracy_lr1, 3)\n",
    "print (\"Accuracy | Test\\t\\t | Random Forest\\t\\t | Default params\\t | No dummies:\\t\"), round(accuracy_rf7, 3)\n",
    "print (\"Accuracy | Test\\t\\t | Recursive Neural Network\\t | Test params:\\t\\t\\t\"), round(accuracy_rnn1, 3)"
   ]
  },
  {
   "cell_type": "code",
   "execution_count": null,
   "metadata": {},
   "outputs": [],
   "source": [
    "Time Series analysis\n",
    "\n",
    "sql_query = \"\"\"\n",
    "SELECT *\n",
    "FROM tornadoes_1950_mid2017 \n",
    "WHERE \"BEGIN_YEARMONTH\" >= 200702\n",
    "LIMIT 2\n",
    "\"\"\"\n",
    "pd.read_sql(sql_query, engine_local)"
   ]
  },
  {
   "cell_type": "code",
   "execution_count": null,
   "metadata": {},
   "outputs": [],
   "source": [
    "# Checking that from 2007 we only have EF scale data:\n",
    "sql_query = \"\"\"\n",
    "SELECT \"BEGIN_YEARMONTH\", COUNT(\"BEGIN_YEARMONTH\") as \"COUNTTORNADOES\"\n",
    "FROM tornadoes_1950_mid2017 \n",
    "WHERE \"BEGIN_YEARMONTH\" >= 200702\n",
    "GROUP BY \"BEGIN_YEARMONTH\"\n",
    "ORDER BY \"BEGIN_YEARMONTH\" ASC\n",
    "LIMIT 3\n",
    "\"\"\"\n",
    "pd.read_sql(sql_query, engine_local)"
   ]
  },
  {
   "cell_type": "code",
   "execution_count": null,
   "metadata": {},
   "outputs": [],
   "source": [
    "sql_query = \"\"\"\n",
    "SELECT \"BEGIN_YEARMONTH\", COUNT(\"BEGIN_YEARMONTH\") as \"COUNTTORNADOES\"\n",
    "FROM tornadoes_1950_mid2017 \n",
    "WHERE \"BEGIN_YEARMONTH\" >= 200702\n",
    "GROUP BY \"BEGIN_YEARMONTH\"\n",
    "ORDER BY \"BEGIN_YEARMONTH\" ASC\n",
    "\"\"\"\n",
    "count_per_month = pd.read_sql(sql_query, engine_local)\n",
    "print (count_per_month.shape)\n",
    "count_per_month.head(2)"
   ]
  },
  {
   "cell_type": "code",
   "execution_count": null,
   "metadata": {},
   "outputs": [],
   "source": [
    "count_per_month.info()"
   ]
  },
  {
   "cell_type": "code",
   "execution_count": null,
   "metadata": {},
   "outputs": [],
   "source": [
    "count_per_month['YearMonth'] = count_per_month['BEGIN_YEARMONTH']\\\n",
    "                               .map(lambda x: str(x)[:4]+'-'+str(x)[4:]+'-15')\n",
    "count_per_month.drop(['BEGIN_YEARMONTH'], axis=1, inplace=True)\n",
    "count_per_month['YearMonth'] = pd.to_datetime(count_per_month['YearMonth'])\n",
    "count_per_month.set_index(['YearMonth'], inplace=True)\n",
    "count_per_month.index.name = None"
   ]
  },
  {
   "cell_type": "code",
   "execution_count": null,
   "metadata": {},
   "outputs": [],
   "source": []
  }
 ],
 "metadata": {
  "kernelspec": {
   "display_name": "Python 3",
   "language": "python",
   "name": "python3"
  },
  "language_info": {
   "codemirror_mode": {
    "name": "ipython",
    "version": 3
   },
   "file_extension": ".py",
   "mimetype": "text/x-python",
   "name": "python",
   "nbconvert_exporter": "python",
   "pygments_lexer": "ipython3",
   "version": "3.7.0"
  }
 },
 "nbformat": 4,
 "nbformat_minor": 2
}
