{
 "cells": [
  {
   "cell_type": "markdown",
   "metadata": {},
   "source": [
    "Hurricane Analysis "
   ]
  },
  {
   "cell_type": "code",
   "execution_count": 11,
   "metadata": {},
   "outputs": [
    {
     "name": "stderr",
     "output_type": "stream",
     "text": [
      "Using TensorFlow backend.\n"
     ]
    }
   ],
   "source": [
    "import pandas as pd\n",
    "import numpy as np\n",
    "import matplotlib.pyplot as plt\n",
    "from matplotlib import cm\n",
    "import seaborn as sns\n",
    "import itertools\n",
    "\n",
    "from sqlalchemy import create_engine\n",
    "import requests\n",
    "from bs4 import BeautifulSoup\n",
    "\n",
    "import calendar\n",
    "from datetime import datetime, date, timedelta\n",
    "\n",
    "from sklearn.preprocessing import StandardScaler\n",
    "from sklearn.decomposition import PCA\n",
    "from sklearn.feature_extraction.text import CountVectorizer, TfidfVectorizer\n",
    "from textblob import TextBlob, Word\n",
    "from sklearn.base import BaseEstimator, TransformerMixin\n",
    "\n",
    "from sklearn.model_selection import train_test_split, GridSearchCV, cross_val_score\n",
    "from sklearn.metrics import accuracy_score, confusion_matrix\n",
    "\n",
    "from sklearn.linear_model import LogisticRegression\n",
    "from sklearn.ensemble import RandomForestClassifier\n",
    "from sklearn.naive_bayes import MultinomialNB\n",
    "\n",
    "from keras.models import Sequential\n",
    "from keras.layers import Dense\n",
    "\n",
    "import warnings\n",
    "warnings.filterwarnings('ignore')"
   ]
  },
  {
   "cell_type": "markdown",
   "metadata": {},
   "source": [
    "Data Set is webscraped Tornados in US, from 1950 - 2018\n",
    "\n",
    "Dummies\n",
    "regression \n",
    "Random Forest\n",
    "confusion matrix \n",
    "Gridsearch\n",
    "compile model "
   ]
  },
  {
   "cell_type": "code",
   "execution_count": 12,
   "metadata": {},
   "outputs": [
    {
     "data": {
      "text/html": [
       "<div>\n",
       "<style scoped>\n",
       "    .dataframe tbody tr th:only-of-type {\n",
       "        vertical-align: middle;\n",
       "    }\n",
       "\n",
       "    .dataframe tbody tr th {\n",
       "        vertical-align: top;\n",
       "    }\n",
       "\n",
       "    .dataframe thead th {\n",
       "        text-align: right;\n",
       "    }\n",
       "</style>\n",
       "<table border=\"1\" class=\"dataframe\">\n",
       "  <thead>\n",
       "    <tr style=\"text-align: right;\">\n",
       "      <th></th>\n",
       "      <th>Unnamed: 0</th>\n",
       "      <th>SOURCE</th>\n",
       "      <th>TOR_F_SCALE</th>\n",
       "      <th>TOR_LENGTH</th>\n",
       "      <th>TOR_WIDTH</th>\n",
       "      <th>Duration</th>\n",
       "      <th>AverageDate</th>\n",
       "      <th>AverageTime</th>\n",
       "      <th>Deaths</th>\n",
       "      <th>Injuries</th>\n",
       "      <th>Mean_Lat</th>\n",
       "      <th>Mean_Lon</th>\n",
       "      <th>Azimuth</th>\n",
       "      <th>State</th>\n",
       "      <th>PropertyDamageCost</th>\n",
       "      <th>CropsDamageCost</th>\n",
       "    </tr>\n",
       "  </thead>\n",
       "  <tbody>\n",
       "    <tr>\n",
       "      <th>0</th>\n",
       "      <td>0</td>\n",
       "      <td>Law_Enforcement</td>\n",
       "      <td>EF0</td>\n",
       "      <td>1.43</td>\n",
       "      <td>50.0</td>\n",
       "      <td>3</td>\n",
       "      <td>126</td>\n",
       "      <td>15.685</td>\n",
       "      <td>0</td>\n",
       "      <td>0</td>\n",
       "      <td>37.2945</td>\n",
       "      <td>-98.6804</td>\n",
       "      <td>1.11</td>\n",
       "      <td>KS</td>\n",
       "      <td>0</td>\n",
       "      <td>0</td>\n",
       "    </tr>\n",
       "    <tr>\n",
       "      <th>1</th>\n",
       "      <td>1</td>\n",
       "      <td>Broadcast_Media</td>\n",
       "      <td>EF0</td>\n",
       "      <td>1.38</td>\n",
       "      <td>20.0</td>\n",
       "      <td>5</td>\n",
       "      <td>183</td>\n",
       "      <td>17.535</td>\n",
       "      <td>0</td>\n",
       "      <td>0</td>\n",
       "      <td>26.7200</td>\n",
       "      <td>-80.2500</td>\n",
       "      <td>0.00</td>\n",
       "      <td>FL</td>\n",
       "      <td>0</td>\n",
       "      <td>0</td>\n",
       "    </tr>\n",
       "    <tr>\n",
       "      <th>2</th>\n",
       "      <td>2</td>\n",
       "      <td>Storm_Chaser</td>\n",
       "      <td>EF0</td>\n",
       "      <td>2.77</td>\n",
       "      <td>100.0</td>\n",
       "      <td>9</td>\n",
       "      <td>111</td>\n",
       "      <td>18.875</td>\n",
       "      <td>0</td>\n",
       "      <td>0</td>\n",
       "      <td>43.6830</td>\n",
       "      <td>-98.3963</td>\n",
       "      <td>81.93</td>\n",
       "      <td>SD</td>\n",
       "      <td>0</td>\n",
       "      <td>0</td>\n",
       "    </tr>\n",
       "    <tr>\n",
       "      <th>3</th>\n",
       "      <td>3</td>\n",
       "      <td>NWS_Storm_Survey</td>\n",
       "      <td>EF0</td>\n",
       "      <td>0.55</td>\n",
       "      <td>30.0</td>\n",
       "      <td>1</td>\n",
       "      <td>152</td>\n",
       "      <td>11.925</td>\n",
       "      <td>0</td>\n",
       "      <td>0</td>\n",
       "      <td>24.6658</td>\n",
       "      <td>-81.5240</td>\n",
       "      <td>-36.57</td>\n",
       "      <td>FL</td>\n",
       "      <td>20000</td>\n",
       "      <td>0</td>\n",
       "    </tr>\n",
       "    <tr>\n",
       "      <th>4</th>\n",
       "      <td>4</td>\n",
       "      <td>NWS_Storm_Survey</td>\n",
       "      <td>EF2</td>\n",
       "      <td>1.50</td>\n",
       "      <td>300.0</td>\n",
       "      <td>0</td>\n",
       "      <td>105</td>\n",
       "      <td>6.250</td>\n",
       "      <td>0</td>\n",
       "      <td>0</td>\n",
       "      <td>30.5300</td>\n",
       "      <td>-82.2500</td>\n",
       "      <td>64.36</td>\n",
       "      <td>FL</td>\n",
       "      <td>0</td>\n",
       "      <td>0</td>\n",
       "    </tr>\n",
       "  </tbody>\n",
       "</table>\n",
       "</div>"
      ],
      "text/plain": [
       "   Unnamed: 0            SOURCE TOR_F_SCALE  TOR_LENGTH  TOR_WIDTH  Duration  \\\n",
       "0           0   Law_Enforcement         EF0        1.43       50.0         3   \n",
       "1           1   Broadcast_Media         EF0        1.38       20.0         5   \n",
       "2           2      Storm_Chaser         EF0        2.77      100.0         9   \n",
       "3           3  NWS_Storm_Survey         EF0        0.55       30.0         1   \n",
       "4           4  NWS_Storm_Survey         EF2        1.50      300.0         0   \n",
       "\n",
       "   AverageDate  AverageTime  Deaths  Injuries  Mean_Lat  Mean_Lon  Azimuth  \\\n",
       "0          126       15.685       0         0   37.2945  -98.6804     1.11   \n",
       "1          183       17.535       0         0   26.7200  -80.2500     0.00   \n",
       "2          111       18.875       0         0   43.6830  -98.3963    81.93   \n",
       "3          152       11.925       0         0   24.6658  -81.5240   -36.57   \n",
       "4          105        6.250       0         0   30.5300  -82.2500    64.36   \n",
       "\n",
       "  State  PropertyDamageCost  CropsDamageCost  \n",
       "0    KS                   0                0  \n",
       "1    FL                   0                0  \n",
       "2    SD                   0                0  \n",
       "3    FL               20000                0  \n",
       "4    FL                   0                0  "
      ]
     },
     "execution_count": 12,
     "metadata": {},
     "output_type": "execute_result"
    }
   ],
   "source": [
    "#Import Data by connecting to storms Database With SQLalchemy\n",
    "Tornado = pd.read_csv('Resources/CleanTornado2.csv')\n",
    "Tornado.head()"
   ]
  },
  {
   "cell_type": "code",
   "execution_count": 171,
   "metadata": {},
   "outputs": [],
   "source": [
    "# # Drop rows that have nan\n",
    "# Tornado.dropna()"
   ]
  },
  {
   "cell_type": "code",
   "execution_count": 13,
   "metadata": {},
   "outputs": [],
   "source": [
    "Tornado = Tornado.reset_index()"
   ]
  },
  {
   "cell_type": "code",
   "execution_count": 14,
   "metadata": {},
   "outputs": [],
   "source": [
    "y1 = Tornado.reset_index().TOR_F_SCALE\n",
    "X1 = Tornado.reset_index().drop(['TOR_F_SCALE'], axis=1)"
   ]
  },
  {
   "cell_type": "code",
   "execution_count": 15,
   "metadata": {},
   "outputs": [
    {
     "data": {
      "text/html": [
       "<div>\n",
       "<style scoped>\n",
       "    .dataframe tbody tr th:only-of-type {\n",
       "        vertical-align: middle;\n",
       "    }\n",
       "\n",
       "    .dataframe tbody tr th {\n",
       "        vertical-align: top;\n",
       "    }\n",
       "\n",
       "    .dataframe thead th {\n",
       "        text-align: right;\n",
       "    }\n",
       "</style>\n",
       "<table border=\"1\" class=\"dataframe\">\n",
       "  <thead>\n",
       "    <tr style=\"text-align: right;\">\n",
       "      <th></th>\n",
       "      <th>TOR_LENGTH</th>\n",
       "      <th>TOR_WIDTH</th>\n",
       "      <th>Duration</th>\n",
       "      <th>AverageDate</th>\n",
       "      <th>AverageTime</th>\n",
       "      <th>Deaths</th>\n",
       "      <th>Injuries</th>\n",
       "      <th>Mean_Lat</th>\n",
       "      <th>Mean_Lon</th>\n",
       "      <th>Azimuth</th>\n",
       "    </tr>\n",
       "  </thead>\n",
       "  <tbody>\n",
       "    <tr>\n",
       "      <th>0</th>\n",
       "      <td>-0.384696</td>\n",
       "      <td>-0.453753</td>\n",
       "      <td>-0.372725</td>\n",
       "      <td>-0.399389</td>\n",
       "      <td>0.034001</td>\n",
       "      <td>-0.046745</td>\n",
       "      <td>-0.057794</td>\n",
       "      <td>0.025597</td>\n",
       "      <td>-0.818166</td>\n",
       "      <td>-1.299679</td>\n",
       "    </tr>\n",
       "    <tr>\n",
       "      <th>1</th>\n",
       "      <td>-0.396503</td>\n",
       "      <td>-0.557985</td>\n",
       "      <td>-0.080881</td>\n",
       "      <td>0.326020</td>\n",
       "      <td>0.391832</td>\n",
       "      <td>-0.046745</td>\n",
       "      <td>-0.057794</td>\n",
       "      <td>-2.195896</td>\n",
       "      <td>1.453279</td>\n",
       "      <td>-1.324643</td>\n",
       "    </tr>\n",
       "  </tbody>\n",
       "</table>\n",
       "</div>"
      ],
      "text/plain": [
       "   TOR_LENGTH  TOR_WIDTH  Duration  AverageDate  AverageTime    Deaths  \\\n",
       "0   -0.384696  -0.453753 -0.372725    -0.399389     0.034001 -0.046745   \n",
       "1   -0.396503  -0.557985 -0.080881     0.326020     0.391832 -0.046745   \n",
       "\n",
       "   Injuries  Mean_Lat  Mean_Lon   Azimuth  \n",
       "0 -0.057794  0.025597 -0.818166 -1.299679  \n",
       "1 -0.057794 -2.195896  1.453279 -1.324643  "
      ]
     },
     "execution_count": 15,
     "metadata": {},
     "output_type": "execute_result"
    }
   ],
   "source": [
    "# Standardizing numerical features:\n",
    "numfeat = ['TOR_LENGTH', 'TOR_WIDTH', 'Duration', 'AverageDate', 'AverageTime', \n",
    "           'Deaths', 'Injuries', 'Mean_Lat', 'Mean_Lon', 'Azimuth']\n",
    "scaler = StandardScaler()\n",
    "X1numfeat = pd.DataFrame(scaler.fit_transform(X1[numfeat]), columns=numfeat)\n",
    "X1numfeat.head(2)"
   ]
  },
  {
   "cell_type": "code",
   "execution_count": 160,
   "metadata": {},
   "outputs": [
    {
     "name": "stdout",
     "output_type": "stream",
     "text": [
      "(16353, 6) (16353,)\n"
     ]
    }
   ],
   "source": [
    "# x = Tornado.reset_index().drop(['TOR_F_SCALE'],axis=1)\n",
    "# y = Tornado.reset_index().TOR_F_SCALE\n",
    "# print(X.shape, y.shape)"
   ]
  },
  {
   "cell_type": "code",
   "execution_count": 16,
   "metadata": {},
   "outputs": [
    {
     "data": {
      "text/plain": [
       "TX    1551\n",
       "KS    1227\n",
       "Name: State, dtype: int64"
      ]
     },
     "execution_count": 16,
     "metadata": {},
     "output_type": "execute_result"
    }
   ],
   "source": [
    "Tornado.State.value_counts().head(2)"
   ]
  },
  {
   "cell_type": "code",
   "execution_count": 17,
   "metadata": {},
   "outputs": [
    {
     "data": {
      "text/plain": [
       "NWS_Storm_Survey    10349\n",
       "Trained_Spotter      1167\n",
       "Name: SOURCE, dtype: int64"
      ]
     },
     "execution_count": 17,
     "metadata": {},
     "output_type": "execute_result"
    }
   ],
   "source": [
    "Tornado.SOURCE.value_counts().head(2)"
   ]
  },
  {
   "cell_type": "code",
   "execution_count": 18,
   "metadata": {},
   "outputs": [
    {
     "data": {
      "text/html": [
       "<div>\n",
       "<style scoped>\n",
       "    .dataframe tbody tr th:only-of-type {\n",
       "        vertical-align: middle;\n",
       "    }\n",
       "\n",
       "    .dataframe tbody tr th {\n",
       "        vertical-align: top;\n",
       "    }\n",
       "\n",
       "    .dataframe thead th {\n",
       "        text-align: right;\n",
       "    }\n",
       "</style>\n",
       "<table border=\"1\" class=\"dataframe\">\n",
       "  <thead>\n",
       "    <tr style=\"text-align: right;\">\n",
       "      <th></th>\n",
       "      <th>State_AL</th>\n",
       "      <th>State_AR</th>\n",
       "      <th>State_AZ</th>\n",
       "      <th>State_CA</th>\n",
       "      <th>State_CO</th>\n",
       "      <th>State_CT</th>\n",
       "      <th>State_DC</th>\n",
       "      <th>State_DE</th>\n",
       "      <th>State_FL</th>\n",
       "      <th>State_GA</th>\n",
       "      <th>...</th>\n",
       "      <th>Source_Official_NWS_Observations</th>\n",
       "      <th>Source_Other_Federal_Agency</th>\n",
       "      <th>Source_Park/Forest_Service</th>\n",
       "      <th>Source_Public</th>\n",
       "      <th>Source_Social_Media</th>\n",
       "      <th>Source_State_Official</th>\n",
       "      <th>Source_Storm_Chaser</th>\n",
       "      <th>Source_Trained_Spotter</th>\n",
       "      <th>Source_Unknown</th>\n",
       "      <th>Source_Utility_Company</th>\n",
       "    </tr>\n",
       "  </thead>\n",
       "  <tbody>\n",
       "    <tr>\n",
       "      <th>0</th>\n",
       "      <td>0</td>\n",
       "      <td>0</td>\n",
       "      <td>0</td>\n",
       "      <td>0</td>\n",
       "      <td>0</td>\n",
       "      <td>0</td>\n",
       "      <td>0</td>\n",
       "      <td>0</td>\n",
       "      <td>0</td>\n",
       "      <td>0</td>\n",
       "      <td>...</td>\n",
       "      <td>0</td>\n",
       "      <td>0</td>\n",
       "      <td>0</td>\n",
       "      <td>0</td>\n",
       "      <td>0</td>\n",
       "      <td>0</td>\n",
       "      <td>0</td>\n",
       "      <td>0</td>\n",
       "      <td>0</td>\n",
       "      <td>0</td>\n",
       "    </tr>\n",
       "    <tr>\n",
       "      <th>1</th>\n",
       "      <td>0</td>\n",
       "      <td>0</td>\n",
       "      <td>0</td>\n",
       "      <td>0</td>\n",
       "      <td>0</td>\n",
       "      <td>0</td>\n",
       "      <td>0</td>\n",
       "      <td>0</td>\n",
       "      <td>1</td>\n",
       "      <td>0</td>\n",
       "      <td>...</td>\n",
       "      <td>0</td>\n",
       "      <td>0</td>\n",
       "      <td>0</td>\n",
       "      <td>0</td>\n",
       "      <td>0</td>\n",
       "      <td>0</td>\n",
       "      <td>0</td>\n",
       "      <td>0</td>\n",
       "      <td>0</td>\n",
       "      <td>0</td>\n",
       "    </tr>\n",
       "  </tbody>\n",
       "</table>\n",
       "<p>2 rows × 76 columns</p>\n",
       "</div>"
      ],
      "text/plain": [
       "   State_AL  State_AR  State_AZ  State_CA  State_CO  State_CT  State_DC  \\\n",
       "0         0         0         0         0         0         0         0   \n",
       "1         0         0         0         0         0         0         0   \n",
       "\n",
       "   State_DE  State_FL  State_GA           ...            \\\n",
       "0         0         0         0           ...             \n",
       "1         0         1         0           ...             \n",
       "\n",
       "   Source_Official_NWS_Observations  Source_Other_Federal_Agency  \\\n",
       "0                                 0                            0   \n",
       "1                                 0                            0   \n",
       "\n",
       "   Source_Park/Forest_Service  Source_Public  Source_Social_Media  \\\n",
       "0                           0              0                    0   \n",
       "1                           0              0                    0   \n",
       "\n",
       "   Source_State_Official  Source_Storm_Chaser  Source_Trained_Spotter  \\\n",
       "0                      0                    0                       0   \n",
       "1                      0                    0                       0   \n",
       "\n",
       "   Source_Unknown  Source_Utility_Company  \n",
       "0               0                       0  \n",
       "1               0                       0  \n",
       "\n",
       "[2 rows x 76 columns]"
      ]
     },
     "execution_count": 18,
     "metadata": {},
     "output_type": "execute_result"
    }
   ],
   "source": [
    "Xdummies = pd.get_dummies(X1[['State','SOURCE']], prefix=['State','Source'],\n",
    "                        columns=['State','SOURCE'])\n",
    "Xdummies.drop(['State_TX','Source_NWS_Storm_Survey'], axis=1, inplace=True)\n",
    "Xdummies.head(2)"
   ]
  },
  {
   "cell_type": "code",
   "execution_count": 30,
   "metadata": {},
   "outputs": [
    {
     "name": "stdout",
     "output_type": "stream",
     "text": [
      "(16353, 86) (16353, 10) (16353, 76)\n"
     ]
    },
    {
     "data": {
      "text/html": [
       "<div>\n",
       "<style scoped>\n",
       "    .dataframe tbody tr th:only-of-type {\n",
       "        vertical-align: middle;\n",
       "    }\n",
       "\n",
       "    .dataframe tbody tr th {\n",
       "        vertical-align: top;\n",
       "    }\n",
       "\n",
       "    .dataframe thead th {\n",
       "        text-align: right;\n",
       "    }\n",
       "</style>\n",
       "<table border=\"1\" class=\"dataframe\">\n",
       "  <thead>\n",
       "    <tr style=\"text-align: right;\">\n",
       "      <th></th>\n",
       "      <th>TOR_LENGTH</th>\n",
       "      <th>TOR_WIDTH</th>\n",
       "      <th>Duration</th>\n",
       "      <th>AverageDate</th>\n",
       "      <th>AverageTime</th>\n",
       "      <th>Deaths</th>\n",
       "      <th>Injuries</th>\n",
       "      <th>Mean_Lat</th>\n",
       "      <th>Mean_Lon</th>\n",
       "      <th>Azimuth</th>\n",
       "      <th>...</th>\n",
       "      <th>Source_Official_NWS_Observations</th>\n",
       "      <th>Source_Other_Federal_Agency</th>\n",
       "      <th>Source_Park/Forest_Service</th>\n",
       "      <th>Source_Public</th>\n",
       "      <th>Source_Social_Media</th>\n",
       "      <th>Source_State_Official</th>\n",
       "      <th>Source_Storm_Chaser</th>\n",
       "      <th>Source_Trained_Spotter</th>\n",
       "      <th>Source_Unknown</th>\n",
       "      <th>Source_Utility_Company</th>\n",
       "    </tr>\n",
       "  </thead>\n",
       "  <tbody>\n",
       "    <tr>\n",
       "      <th>0</th>\n",
       "      <td>-0.384696</td>\n",
       "      <td>-0.453753</td>\n",
       "      <td>-0.372725</td>\n",
       "      <td>-0.399389</td>\n",
       "      <td>0.034001</td>\n",
       "      <td>-0.046745</td>\n",
       "      <td>-0.057794</td>\n",
       "      <td>0.025597</td>\n",
       "      <td>-0.818166</td>\n",
       "      <td>-1.299679</td>\n",
       "      <td>...</td>\n",
       "      <td>0</td>\n",
       "      <td>0</td>\n",
       "      <td>0</td>\n",
       "      <td>0</td>\n",
       "      <td>0</td>\n",
       "      <td>0</td>\n",
       "      <td>0</td>\n",
       "      <td>0</td>\n",
       "      <td>0</td>\n",
       "      <td>0</td>\n",
       "    </tr>\n",
       "    <tr>\n",
       "      <th>1</th>\n",
       "      <td>-0.396503</td>\n",
       "      <td>-0.557985</td>\n",
       "      <td>-0.080881</td>\n",
       "      <td>0.326020</td>\n",
       "      <td>0.391832</td>\n",
       "      <td>-0.046745</td>\n",
       "      <td>-0.057794</td>\n",
       "      <td>-2.195896</td>\n",
       "      <td>1.453279</td>\n",
       "      <td>-1.324643</td>\n",
       "      <td>...</td>\n",
       "      <td>0</td>\n",
       "      <td>0</td>\n",
       "      <td>0</td>\n",
       "      <td>0</td>\n",
       "      <td>0</td>\n",
       "      <td>0</td>\n",
       "      <td>0</td>\n",
       "      <td>0</td>\n",
       "      <td>0</td>\n",
       "      <td>0</td>\n",
       "    </tr>\n",
       "  </tbody>\n",
       "</table>\n",
       "<p>2 rows × 86 columns</p>\n",
       "</div>"
      ],
      "text/plain": [
       "   TOR_LENGTH  TOR_WIDTH  Duration  AverageDate  AverageTime    Deaths  \\\n",
       "0   -0.384696  -0.453753 -0.372725    -0.399389     0.034001 -0.046745   \n",
       "1   -0.396503  -0.557985 -0.080881     0.326020     0.391832 -0.046745   \n",
       "\n",
       "   Injuries  Mean_Lat  Mean_Lon   Azimuth           ...            \\\n",
       "0 -0.057794  0.025597 -0.818166 -1.299679           ...             \n",
       "1 -0.057794 -2.195896  1.453279 -1.324643           ...             \n",
       "\n",
       "   Source_Official_NWS_Observations  Source_Other_Federal_Agency  \\\n",
       "0                                 0                            0   \n",
       "1                                 0                            0   \n",
       "\n",
       "   Source_Park/Forest_Service  Source_Public  Source_Social_Media  \\\n",
       "0                           0              0                    0   \n",
       "1                           0              0                    0   \n",
       "\n",
       "   Source_State_Official  Source_Storm_Chaser  Source_Trained_Spotter  \\\n",
       "0                      0                    0                       0   \n",
       "1                      0                    0                       0   \n",
       "\n",
       "   Source_Unknown  Source_Utility_Company  \n",
       "0               0                       0  \n",
       "1               0                       0  \n",
       "\n",
       "[2 rows x 86 columns]"
      ]
     },
     "execution_count": 30,
     "metadata": {},
     "output_type": "execute_result"
    }
   ],
   "source": [
    "X1 = pd.concat([X1numfeat,Xdummies], axis=1)\n",
    "print(X1.shape, X1numfeat.shape, Xdummies.shape)\n",
    "X1.head(2)"
   ]
  },
  {
   "cell_type": "code",
   "execution_count": 31,
   "metadata": {},
   "outputs": [],
   "source": [
    "Xtrain1, Xtest1, ytrain1, ytest1 = train_test_split(X1, y1, test_size=0.3, \n",
    "                                                    stratify=y1, random_state=31)\n",
    "# X_train, X_test, y_train, y_test = train_test_split(X, y, random_state=42)"
   ]
  },
  {
   "cell_type": "code",
   "execution_count": 39,
   "metadata": {},
   "outputs": [],
   "source": [
    "ytest_valcounts = ytest1.value_counts()"
   ]
  },
  {
   "cell_type": "code",
   "execution_count": 40,
   "metadata": {},
   "outputs": [
    {
     "data": {
      "text/plain": [
       "0.527"
      ]
     },
     "execution_count": 40,
     "metadata": {},
     "output_type": "execute_result"
    }
   ],
   "source": [
    "Test1 = ytest1.value_counts()\n",
    "accuracy_baseline = ytest_valcounts.get_values()[0]/float(ytest_valcounts.get_values().sum())\n",
    "round(accuracy_baseline, 3)"
   ]
  },
  {
   "cell_type": "code",
   "execution_count": 42,
   "metadata": {},
   "outputs": [
    {
     "data": {
      "text/plain": [
       "0.669"
      ]
     },
     "execution_count": 42,
     "metadata": {},
     "output_type": "execute_result"
    }
   ],
   "source": [
    "LordOfTheRings1 = LogisticRegression()\n",
    "accuracy_cv5_lr1 = np.mean(cross_val_score(LordOfTheRings1, Xtrain1, ytrain1, cv=5))\n",
    "round(accuracy_cv5_lr1, 3)"
   ]
  },
  {
   "cell_type": "code",
   "execution_count": 43,
   "metadata": {},
   "outputs": [],
   "source": [
    "#GRIDSEARCHING\n",
    "target_names = [\"negative\", \"positive\"]\n",
    "from sklearn.svm import SVC \n",
    "model = SVC(kernel='linear')"
   ]
  },
  {
   "cell_type": "code",
   "execution_count": 44,
   "metadata": {},
   "outputs": [],
   "source": [
    "from sklearn.model_selection import GridSearchCV\n",
    "param_grid = {'C': [1, 5, 10],\n",
    "              'gamma': [0.0001, 0.001, 0.01]}\n",
    "grid = GridSearchCV(model, param_grid, verbose=3)"
   ]
  },
  {
   "cell_type": "code",
   "execution_count": 45,
   "metadata": {},
   "outputs": [
    {
     "name": "stdout",
     "output_type": "stream",
     "text": [
      "Fitting 3 folds for each of 9 candidates, totalling 27 fits\n",
      "[CV] C=1, gamma=0.0001 ...............................................\n"
     ]
    },
    {
     "name": "stderr",
     "output_type": "stream",
     "text": [
      "[Parallel(n_jobs=1)]: Using backend SequentialBackend with 1 concurrent workers.\n"
     ]
    },
    {
     "name": "stdout",
     "output_type": "stream",
     "text": [
      "[CV] ...... C=1, gamma=0.0001, score=0.6733892090099528, total=   7.5s\n",
      "[CV] C=1, gamma=0.0001 ...............................................\n"
     ]
    },
    {
     "name": "stderr",
     "output_type": "stream",
     "text": [
      "[Parallel(n_jobs=1)]: Done   1 out of   1 | elapsed:   11.1s remaining:    0.0s\n"
     ]
    },
    {
     "name": "stdout",
     "output_type": "stream",
     "text": [
      "[CV] ...... C=1, gamma=0.0001, score=0.6771488469601677, total=   8.0s\n",
      "[CV] C=1, gamma=0.0001 ...............................................\n"
     ]
    },
    {
     "name": "stderr",
     "output_type": "stream",
     "text": [
      "[Parallel(n_jobs=1)]: Done   2 out of   2 | elapsed:   23.1s remaining:    0.0s\n"
     ]
    },
    {
     "name": "stdout",
     "output_type": "stream",
     "text": [
      "[CV] ...... C=1, gamma=0.0001, score=0.6923682140047207, total=   8.0s\n",
      "[CV] C=1, gamma=0.001 ................................................\n",
      "[CV] ....... C=1, gamma=0.001, score=0.6733892090099528, total=   7.3s\n",
      "[CV] C=1, gamma=0.001 ................................................\n",
      "[CV] ....... C=1, gamma=0.001, score=0.6771488469601677, total=   7.4s\n",
      "[CV] C=1, gamma=0.001 ................................................\n",
      "[CV] ....... C=1, gamma=0.001, score=0.6923682140047207, total=   7.8s\n",
      "[CV] C=1, gamma=0.01 .................................................\n",
      "[CV] ........ C=1, gamma=0.01, score=0.6733892090099528, total=   7.4s\n",
      "[CV] C=1, gamma=0.01 .................................................\n",
      "[CV] ........ C=1, gamma=0.01, score=0.6771488469601677, total=   7.6s\n",
      "[CV] C=1, gamma=0.01 .................................................\n",
      "[CV] ........ C=1, gamma=0.01, score=0.6923682140047207, total=   7.4s\n",
      "[CV] C=5, gamma=0.0001 ...............................................\n",
      "[CV] ...... C=5, gamma=0.0001, score=0.6720796228391828, total=  10.5s\n",
      "[CV] C=5, gamma=0.0001 ...............................................\n",
      "[CV] ....... C=5, gamma=0.0001, score=0.679769392033543, total=  10.9s\n",
      "[CV] C=5, gamma=0.0001 ...............................................\n",
      "[CV] ...... C=5, gamma=0.0001, score=0.6918436926304747, total=  10.7s\n",
      "[CV] C=5, gamma=0.001 ................................................\n",
      "[CV] ....... C=5, gamma=0.001, score=0.6720796228391828, total=  11.0s\n",
      "[CV] C=5, gamma=0.001 ................................................\n",
      "[CV] ........ C=5, gamma=0.001, score=0.679769392033543, total=  11.1s\n",
      "[CV] C=5, gamma=0.001 ................................................\n",
      "[CV] ....... C=5, gamma=0.001, score=0.6918436926304747, total=  10.4s\n",
      "[CV] C=5, gamma=0.01 .................................................\n",
      "[CV] ........ C=5, gamma=0.01, score=0.6720796228391828, total=  10.9s\n",
      "[CV] C=5, gamma=0.01 .................................................\n",
      "[CV] ......... C=5, gamma=0.01, score=0.679769392033543, total=  10.7s\n",
      "[CV] C=5, gamma=0.01 .................................................\n",
      "[CV] ........ C=5, gamma=0.01, score=0.6918436926304747, total=  10.7s\n",
      "[CV] C=10, gamma=0.0001 ..............................................\n",
      "[CV] ..... C=10, gamma=0.0001, score=0.6726034573074908, total=  15.2s\n",
      "[CV] C=10, gamma=0.0001 ..............................................\n",
      "[CV] ..... C=10, gamma=0.0001, score=0.6787211740041929, total=  13.5s\n",
      "[CV] C=10, gamma=0.0001 ..............................................\n",
      "[CV] ..... C=10, gamma=0.0001, score=0.6913191712562287, total=  13.6s\n",
      "[CV] C=10, gamma=0.001 ...............................................\n",
      "[CV] ...... C=10, gamma=0.001, score=0.6726034573074908, total=  14.8s\n",
      "[CV] C=10, gamma=0.001 ...............................................\n",
      "[CV] ...... C=10, gamma=0.001, score=0.6787211740041929, total=  14.0s\n",
      "[CV] C=10, gamma=0.001 ...............................................\n",
      "[CV] ...... C=10, gamma=0.001, score=0.6913191712562287, total=  13.7s\n",
      "[CV] C=10, gamma=0.01 ................................................\n",
      "[CV] ....... C=10, gamma=0.01, score=0.6726034573074908, total=  14.8s\n",
      "[CV] C=10, gamma=0.01 ................................................\n",
      "[CV] ....... C=10, gamma=0.01, score=0.6787211740041929, total=  13.8s\n",
      "[CV] C=10, gamma=0.01 ................................................\n",
      "[CV] ....... C=10, gamma=0.01, score=0.6913191712562287, total=  13.9s\n"
     ]
    },
    {
     "name": "stderr",
     "output_type": "stream",
     "text": [
      "[Parallel(n_jobs=1)]: Done  27 out of  27 | elapsed:  6.5min finished\n"
     ]
    },
    {
     "data": {
      "text/plain": [
       "GridSearchCV(cv='warn', error_score='raise-deprecating',\n",
       "       estimator=SVC(C=1.0, cache_size=200, class_weight=None, coef0=0.0,\n",
       "  decision_function_shape='ovr', degree=3, gamma='auto_deprecated',\n",
       "  kernel='linear', max_iter=-1, probability=False, random_state=None,\n",
       "  shrinking=True, tol=0.001, verbose=False),\n",
       "       fit_params=None, iid='warn', n_jobs=None,\n",
       "       param_grid={'C': [1, 5, 10], 'gamma': [0.0001, 0.001, 0.01]},\n",
       "       pre_dispatch='2*n_jobs', refit=True, return_train_score='warn',\n",
       "       scoring=None, verbose=3)"
      ]
     },
     "execution_count": 45,
     "metadata": {},
     "output_type": "execute_result"
    }
   ],
   "source": [
    "grid.fit(Xtrain1, ytrain1)"
   ]
  },
  {
   "cell_type": "code",
   "execution_count": 46,
   "metadata": {},
   "outputs": [
    {
     "name": "stdout",
     "output_type": "stream",
     "text": [
      "{'C': 5, 'gamma': 0.0001}\n"
     ]
    }
   ],
   "source": [
    "print(grid.best_params_)\n",
    "# rf3.best_params_"
   ]
  },
  {
   "cell_type": "code",
   "execution_count": 47,
   "metadata": {},
   "outputs": [
    {
     "name": "stdout",
     "output_type": "stream",
     "text": [
      "0.6812265222328995\n"
     ]
    }
   ],
   "source": [
    "print(grid.best_score_)"
   ]
  },
  {
   "cell_type": "code",
   "execution_count": 48,
   "metadata": {},
   "outputs": [],
   "source": [
    "predictions = grid.predict(Xtest1)"
   ]
  },
  {
   "cell_type": "code",
   "execution_count": 49,
   "metadata": {},
   "outputs": [
    {
     "name": "stdout",
     "output_type": "stream",
     "text": [
      "              precision    recall  f1-score   support\n",
      "\n",
      "           1       0.75      0.89      0.81      2585\n",
      "           2       0.58      0.58      0.58      1642\n",
      "           3       0.48      0.16      0.24       475\n",
      "           4       0.66      0.17      0.27       134\n",
      "           5       0.50      0.16      0.24        31\n",
      "           6       0.25      0.25      0.25         4\n",
      "           7       0.00      0.00      0.00        35\n",
      "\n",
      "   micro avg       0.68      0.68      0.68      4906\n",
      "   macro avg       0.46      0.32      0.34      4906\n",
      "weighted avg       0.66      0.68      0.66      4906\n",
      "\n"
     ]
    }
   ],
   "source": [
    "# Calculate classification report\n",
    "from sklearn.metrics import classification_report\n",
    "print(classification_report(ytest1, predictions,\n",
    "                            target_names=[\"1\", \"2\",\"3\",\"4\",\"5\",\"6\",\"7\"]))"
   ]
  },
  {
   "cell_type": "code",
   "execution_count": 50,
   "metadata": {},
   "outputs": [
    {
     "data": {
      "text/plain": [
       "0.7105584997961679"
      ]
     },
     "execution_count": 50,
     "metadata": {},
     "output_type": "execute_result"
    }
   ],
   "source": [
    "from sklearn.ensemble import RandomForestClassifier\n",
    "rf = RandomForestClassifier(n_estimators=200)\n",
    "rf = rf.fit(Xtrain1, ytrain1)\n",
    "rf.score(Xtest1, ytest1)"
   ]
  },
  {
   "cell_type": "code",
   "execution_count": 51,
   "metadata": {},
   "outputs": [],
   "source": [
    "feature_names = Tornado.columns"
   ]
  },
  {
   "cell_type": "code",
   "execution_count": 52,
   "metadata": {},
   "outputs": [
    {
     "data": {
      "text/plain": [
       "[(0.17388526817628988, 'Unnamed: 0'),\n",
       " (0.13006614635805303, 'index'),\n",
       " (0.09744011762494989, 'AverageTime'),\n",
       " (0.08701698221045646, 'TOR_LENGTH'),\n",
       " (0.0859873075899143, 'AverageDate'),\n",
       " (0.08133186248715414, 'Deaths'),\n",
       " (0.07904291920696076, 'SOURCE'),\n",
       " (0.07726119771948231, 'TOR_F_SCALE'),\n",
       " (0.03279634318104328, 'Duration'),\n",
       " (0.009385485273055248, 'TOR_WIDTH'),\n",
       " (0.004902805551909016, 'Injuries'),\n",
       " (0.004273516814419093, 'Mean_Lat'),\n",
       " (0.002274168440947871, 'State'),\n",
       " (0.000543691490392522, 'PropertyDamageCost'),\n",
       " (0.0005394288050391903, 'Azimuth'),\n",
       " (0.00025637012770212016, 'Mean_Lon'),\n",
       " (3.304487754141204e-05, 'CropsDamageCost')]"
      ]
     },
     "execution_count": 52,
     "metadata": {},
     "output_type": "execute_result"
    }
   ],
   "source": [
    "sorted(zip(rf.feature_importances_, feature_names), reverse=True)"
   ]
  },
  {
   "cell_type": "code",
   "execution_count": 53,
   "metadata": {},
   "outputs": [
    {
     "name": "stdout",
     "output_type": "stream",
     "text": [
      "scipy:1.1.0\n"
     ]
    }
   ],
   "source": [
    "import scipy\n",
    "print('scipy:%s' % scipy.__version__)"
   ]
  },
  {
   "cell_type": "code",
   "execution_count": 54,
   "metadata": {},
   "outputs": [],
   "source": [
    "import numpy\n",
    "import matplotlib\n",
    "import pandas\n",
    "import sklearn\n",
    "import statsmodels"
   ]
  },
  {
   "cell_type": "code",
   "execution_count": 57,
   "metadata": {},
   "outputs": [],
   "source": [
    "data = Tornado\n",
    "y = data"
   ]
  },
  {
   "cell_type": "code",
   "execution_count": 8,
   "metadata": {},
   "outputs": [],
   "source": [
    "#defining Validation Dataset\n",
    "import warnings\n",
    "import itertools\n",
    "import pandas as pd\n",
    "import numpy as np\n",
    "import statsmodels.api as sm\n",
    "import matplotlib.pyplot as plt\n",
    "plt.style.use('fivethirtyeight')"
   ]
  },
  {
   "cell_type": "code",
   "execution_count": 5,
   "metadata": {},
   "outputs": [
    {
     "name": "stdout",
     "output_type": "stream",
     "text": [
      "Examples of parameter combinations for Seasonal ARIMA...\n",
      "SARIMAX: (0, 0, 1) x (0, 0, 1, 12)\n",
      "SARIMAX: (0, 0, 1) x (0, 1, 0, 12)\n",
      "SARIMAX: (0, 1, 0) x (0, 1, 1, 12)\n",
      "SARIMAX: (0, 1, 0) x (1, 0, 0, 12)\n"
     ]
    }
   ],
   "source": [
    "# Define the p, d and q parameters to take any value between 0 and 2\n",
    "p = d = q = range(0, 2)\n",
    "\n",
    "# Generate all different combinations of p, q and q triplets\n",
    "pdq = list(itertools.product(p, d, q))\n",
    "\n",
    "# Generate all different combinations of seasonal p, q and q triplets\n",
    "seasonal_pdq = [(x[0], x[1], x[2], 12) for x in list(itertools.product(p, d, q))]\n",
    "\n",
    "print('Examples of parameter combinations for Seasonal ARIMA...')\n",
    "print('SARIMAX: {} x {}'.format(pdq[1], seasonal_pdq[1]))\n",
    "print('SARIMAX: {} x {}'.format(pdq[1], seasonal_pdq[2]))\n",
    "print('SARIMAX: {} x {}'.format(pdq[2], seasonal_pdq[3]))\n",
    "print('SARIMAX: {} x {}'.format(pdq[2], seasonal_pdq[4]))"
   ]
  },
  {
   "cell_type": "code",
   "execution_count": 7,
   "metadata": {},
   "outputs": [],
   "source": [
    "for param in pdq:\n",
    "    for param_seasonal in seasonal_pdq:\n",
    "        try:\n",
    "            mod = sm.tsa.statespace.SARIMAX(y,\n",
    "                                            order=param,\n",
    "                                            seasonal_order=param_seasonal,\n",
    "                                            enforce_stationarity=False,\n",
    "                                            enforce_invertibility=False)\n",
    "\n",
    "            results = mod.fit()\n",
    "\n",
    "            print('ARIMA{}x{}12 - AIC:{}'.format(param, param_seasonal, results.aic))\n",
    "        except:\n",
    "            continue"
   ]
  },
  {
   "cell_type": "code",
   "execution_count": 156,
   "metadata": {},
   "outputs": [],
   "source": []
  },
  {
   "cell_type": "code",
   "execution_count": null,
   "metadata": {},
   "outputs": [],
   "source": []
  },
  {
   "cell_type": "code",
   "execution_count": null,
   "metadata": {},
   "outputs": [],
   "source": []
  },
  {
   "cell_type": "code",
   "execution_count": null,
   "metadata": {},
   "outputs": [],
   "source": []
  },
  {
   "cell_type": "code",
   "execution_count": null,
   "metadata": {},
   "outputs": [],
   "source": []
  },
  {
   "cell_type": "code",
   "execution_count": null,
   "metadata": {},
   "outputs": [],
   "source": []
  },
  {
   "cell_type": "code",
   "execution_count": null,
   "metadata": {},
   "outputs": [],
   "source": []
  },
  {
   "cell_type": "code",
   "execution_count": null,
   "metadata": {},
   "outputs": [],
   "source": []
  },
  {
   "cell_type": "code",
   "execution_count": null,
   "metadata": {},
   "outputs": [],
   "source": []
  },
  {
   "cell_type": "code",
   "execution_count": 17,
   "metadata": {},
   "outputs": [],
   "source": []
  },
  {
   "cell_type": "code",
   "execution_count": 18,
   "metadata": {},
   "outputs": [],
   "source": []
  },
  {
   "cell_type": "code",
   "execution_count": null,
   "metadata": {},
   "outputs": [],
   "source": [
    "  "
   ]
  },
  {
   "cell_type": "code",
   "execution_count": 20,
   "metadata": {},
   "outputs": [],
   "source": []
  },
  {
   "cell_type": "code",
   "execution_count": null,
   "metadata": {},
   "outputs": [],
   "source": []
  },
  {
   "cell_type": "code",
   "execution_count": 22,
   "metadata": {},
   "outputs": [],
   "source": []
  },
  {
   "cell_type": "code",
   "execution_count": null,
   "metadata": {},
   "outputs": [],
   "source": []
  },
  {
   "cell_type": "code",
   "execution_count": 24,
   "metadata": {},
   "outputs": [],
   "source": []
  },
  {
   "cell_type": "code",
   "execution_count": null,
   "metadata": {},
   "outputs": [],
   "source": []
  },
  {
   "cell_type": "code",
   "execution_count": null,
   "metadata": {},
   "outputs": [],
   "source": []
  },
  {
   "cell_type": "code",
   "execution_count": null,
   "metadata": {},
   "outputs": [],
   "source": []
  },
  {
   "cell_type": "code",
   "execution_count": null,
   "metadata": {},
   "outputs": [],
   "source": []
  },
  {
   "cell_type": "code",
   "execution_count": 29,
   "metadata": {},
   "outputs": [],
   "source": []
  },
  {
   "cell_type": "code",
   "execution_count": null,
   "metadata": {},
   "outputs": [],
   "source": []
  },
  {
   "cell_type": "code",
   "execution_count": null,
   "metadata": {},
   "outputs": [],
   "source": []
  }
 ],
 "metadata": {
  "kernelspec": {
   "display_name": "Python 3",
   "language": "python",
   "name": "python3"
  },
  "language_info": {
   "codemirror_mode": {
    "name": "ipython",
    "version": 3
   },
   "file_extension": ".py",
   "mimetype": "text/x-python",
   "name": "python",
   "nbconvert_exporter": "python",
   "pygments_lexer": "ipython3",
   "version": "3.7.0"
  }
 },
 "nbformat": 4,
 "nbformat_minor": 2
}
